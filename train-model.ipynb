{
  "cells": [
    {
      "cell_type": "code",
      "execution_count": 26,
      "metadata": {
        "id": "-cMXoIrF5KNg"
      },
      "outputs": [],
      "source": [
        "import pandas as pd\n",
        "from sklearn.preprocessing import MinMaxScaler\n",
        "import numpy as np\n",
        "import pandas as pd\n",
        "from sklearn.model_selection import train_test_split\n",
        "import torch"
      ]
    },
    {
      "cell_type": "code",
      "execution_count": 27,
      "metadata": {
        "id": "3hqUWRDk5Yls"
      },
      "outputs": [],
      "source": [
        "df_test = pd.read_csv('test_y.csv')\n",
        "df_train = pd.read_csv('train_y.csv')\n"
      ]
    },
    {
      "cell_type": "code",
      "execution_count": 28,
      "metadata": {
        "colab": {
          "base_uri": "https://localhost:8080/",
          "height": 317
        },
        "id": "XBifgcJP56iZ",
        "outputId": "1e23ec8e-8048-451e-c017-5e8ba9519d30"
      },
      "outputs": [],
      "source": [
        "X_train_nmter = df_train[['Distrito','Grouped','Month','Weekday']].copy()\n",
        "X_train_nmaer = X_train_nmter.copy()\n",
        "X_train_nmterv = df_train[['Distrito','Grouped','Month','Weekday','NumeroOperacionaisTerrestresEnvolvidos']].copy()\n",
        "X_train_nmaerv = df_train[['Distrito','Grouped','Month','Weekday','NumeroOperacionaisAereosEnvolvidos']].copy()\n",
        "\n",
        "y_train_nmter = df_train[['NumeroOperacionaisTerrestresEnvolvidos']].copy()\n",
        "y_train_nmaer = df_train[['NumeroOperacionaisAereosEnvolvidos']].copy()\n",
        "y_train_nmterv = df_train[['NumeroMeiosTerrestresEnvolvidos']].copy()\n",
        "y_train_nmaerv = df_train[['NumeroMeiosAereosEnvolvidos']].copy()\n",
        "\n",
        "X_test_nmter = df_test[['Distrito','Grouped','Month','Weekday']].copy()\n",
        "X_test_nmaer = X_test_nmter.copy()\n",
        "X_test_nmterv = df_test[['Distrito','Grouped','Month','Weekday','NumeroOperacionaisTerrestresEnvolvidos']].copy()\n",
        "X_test_nmaerv = df_test[['Distrito','Grouped','Month','Weekday','NumeroOperacionaisAereosEnvolvidos']].copy()\n",
        "\n",
        "y_test_nmter = df_test[['NumeroOperacionaisTerrestresEnvolvidos']].copy()\n",
        "y_test_nmaer = df_test[['NumeroOperacionaisAereosEnvolvidos']].copy()\n",
        "y_test_nmterv = df_test[['NumeroMeiosTerrestresEnvolvidos']].copy()\n",
        "y_test_nmaerv = df_test[['NumeroMeiosAereosEnvolvidos']].copy()"
      ]
    },
    {
      "cell_type": "code",
      "execution_count": 29,
      "metadata": {
        "id": "i8093WRg6wf2"
      },
      "outputs": [],
      "source": [
        "scaler = MinMaxScaler()\n",
        "\n",
        "y_train_nmter = scaler.fit_transform(y_train_nmter)\n",
        "y_train_nmaer = scaler.fit_transform(y_train_nmaer)\n",
        "y_train_nmterv = scaler.fit_transform(y_train_nmterv)\n",
        "y_train_nmaerv = scaler.fit_transform(y_train_nmaerv)\n",
        "\n",
        "y_test_nmter = scaler.fit_transform(y_test_nmter)\n",
        "y_test_nmaer = scaler.fit_transform(y_test_nmaer)\n",
        "y_test_nmterv = scaler.fit_transform(y_test_nmterv)\n",
        "y_test_nmaerv = scaler.fit_transform(y_test_nmaerv)"
      ]
    },
    {
      "cell_type": "code",
      "execution_count": 30,
      "metadata": {},
      "outputs": [],
      "source": [
        "X_train_nmter = pd.get_dummies(X_train_nmter)\n",
        "X_train_nmaer = pd.get_dummies(X_train_nmaer)\n",
        "X_train_nmterv = pd.get_dummies(X_train_nmterv)\n",
        "X_train_nmaerv = pd.get_dummies(X_train_nmaerv)\n",
        "\n",
        "X_test_nmter = pd.get_dummies(X_test_nmter)\n",
        "X_test_nmaer = pd.get_dummies(X_test_nmaer)\n",
        "X_test_nmterv = pd.get_dummies(X_test_nmterv)\n",
        "X_test_nmaerv = pd.get_dummies(X_test_nmaerv)\n"
      ]
    },
    {
      "cell_type": "code",
      "execution_count": 31,
      "metadata": {
        "id": "za0H2dp98rnQ"
      },
      "outputs": [],
      "source": [
        "from sklearn.linear_model import LinearRegression\n",
        "from sklearn.ensemble import RandomForestRegressor\n",
        "from xgboost import XGBRegressor\n",
        "from sklearn.metrics import mean_absolute_error, mean_squared_error, r2_score\n",
        "from sklearn.model_selection import RandomizedSearchCV\n",
        "from scipy.stats import uniform as sp_uniform, randint as sp_randint\n",
        "\n",
        "from sklearn.metrics import accuracy_score"
      ]
    },
    {
      "cell_type": "code",
      "execution_count": 32,
      "metadata": {
        "id": "v_PxGrO47fga"
      },
      "outputs": [],
      "source": [
        "models = {\n",
        "    \"Linear Regression\": LinearRegression(),\n",
        "    \"Random Forest\": RandomForestRegressor(random_state=42),\n",
        "    \"XGBoost\": XGBRegressor(random_state=42)\n",
        "}\n",
        "\n",
        "def rounded_accuracy(y_true, y_pred):\n",
        "    return accuracy_score(y_true, np.round(y_pred))\n",
        "\n",
        "def evaluate_model(model, X_train, X_test, y_train, y_test):\n",
        "    model.fit(X_train, y_train)\n",
        "    y_pred = model.predict(X_test)\n",
        "    mae = mean_absolute_error(y_test, y_pred)\n",
        "    mse = mean_squared_error(y_test, y_pred)\n",
        "    r2 = r2_score(y_test, y_pred)\n",
        "    return mae, mse, r2\n"
      ]
    },
    {
      "cell_type": "code",
      "execution_count": 33,
      "metadata": {
        "colab": {
          "base_uri": "https://localhost:8080/"
        },
        "id": "ev68PeUo76nj",
        "outputId": "e343fd23-086f-49bc-c142-638fbc01ce8a"
      },
      "outputs": [
        {
          "name": "stdout",
          "output_type": "stream",
          "text": [
            "Linear Regression Metrics:\n",
            "  Mean Absolute Error: 0.00\n",
            "  Mean Squared Error: 0.00\n",
            "  R2 Score: 0.53\n",
            "\n"
          ]
        },
        {
          "name": "stderr",
          "output_type": "stream",
          "text": [
            "/var/folders/rn/48mw92ms187bwtls1mdwb0j40000gn/T/ipykernel_82588/1461707719.py:11: DataConversionWarning: A column-vector y was passed when a 1d array was expected. Please change the shape of y to (n_samples,), for example using ravel().\n",
            "  model.fit(X_train, y_train)\n"
          ]
        },
        {
          "name": "stdout",
          "output_type": "stream",
          "text": [
            "Random Forest Metrics:\n",
            "  Mean Absolute Error: 0.00\n",
            "  Mean Squared Error: 0.00\n",
            "  R2 Score: 0.55\n",
            "\n",
            "XGBoost Metrics:\n",
            "  Mean Absolute Error: 0.00\n",
            "  Mean Squared Error: 0.00\n",
            "  R2 Score: 0.54\n",
            "\n"
          ]
        }
      ],
      "source": [
        "for model_name, model in models.items():\n",
        "    mae, mse, r2 = evaluate_model(model, X_train_nmaerv, X_test_nmaerv, y_train_nmaerv, y_test_nmaerv)\n",
        "    print(f\"{model_name} Metrics:\")\n",
        "    print(f\"  Mean Absolute Error: {mae:.2f}\")\n",
        "    print(f\"  Mean Squared Error: {mse:.2f}\")\n",
        "    print(f\"  R2 Score: {r2:.2f}\\n\")"
      ]
    },
    {
      "cell_type": "code",
      "execution_count": null,
      "metadata": {},
      "outputs": [],
      "source": []
    }
  ],
  "metadata": {
    "colab": {
      "provenance": []
    },
    "kernelspec": {
      "display_name": "Python 3",
      "name": "python3"
    },
    "language_info": {
      "codemirror_mode": {
        "name": "ipython",
        "version": 3
      },
      "file_extension": ".py",
      "mimetype": "text/x-python",
      "name": "python",
      "nbconvert_exporter": "python",
      "pygments_lexer": "ipython3",
      "version": "3.9.16"
    }
  },
  "nbformat": 4,
  "nbformat_minor": 0
}
