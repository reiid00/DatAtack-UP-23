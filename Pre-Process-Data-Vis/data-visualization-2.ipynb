{
 "cells": [
  {
   "cell_type": "code",
   "execution_count": 4,
   "metadata": {},
   "outputs": [],
   "source": [
    "import pandas as pd\n",
    "pd.set_option('display.max_columns', None)"
   ]
  },
  {
   "cell_type": "code",
   "execution_count": 5,
   "metadata": {},
   "outputs": [
    {
     "name": "stdout",
     "output_type": "stream",
     "text": [
      "Requirement already satisfied: geopandas in /home/miguel/anaconda3/lib/python3.8/site-packages (0.12.2)\n",
      "Requirement already satisfied: pyproj>=2.6.1.post1 in /home/miguel/anaconda3/lib/python3.8/site-packages (from geopandas) (3.5.0)\n",
      "Requirement already satisfied: pandas>=1.0.0 in /home/miguel/.local/lib/python3.8/site-packages (from geopandas) (1.4.2)\n",
      "Requirement already satisfied: shapely>=1.7 in /home/miguel/anaconda3/lib/python3.8/site-packages (from geopandas) (2.0.1)\n",
      "Requirement already satisfied: fiona>=1.8 in /home/miguel/anaconda3/lib/python3.8/site-packages (from geopandas) (1.9.3)\n",
      "Requirement already satisfied: packaging in /home/miguel/anaconda3/lib/python3.8/site-packages (from geopandas) (22.0)\n",
      "Requirement already satisfied: click~=8.0 in /home/miguel/anaconda3/lib/python3.8/site-packages (from fiona>=1.8->geopandas) (8.0.4)\n",
      "Requirement already satisfied: click-plugins>=1.0 in /home/miguel/anaconda3/lib/python3.8/site-packages (from fiona>=1.8->geopandas) (1.1.1)\n",
      "Requirement already satisfied: certifi in /home/miguel/anaconda3/lib/python3.8/site-packages (from fiona>=1.8->geopandas) (2022.12.7)\n",
      "Requirement already satisfied: cligj>=0.5 in /home/miguel/anaconda3/lib/python3.8/site-packages (from fiona>=1.8->geopandas) (0.7.2)\n",
      "Requirement already satisfied: munch>=2.3.2 in /home/miguel/anaconda3/lib/python3.8/site-packages (from fiona>=1.8->geopandas) (2.5.0)\n",
      "Requirement already satisfied: attrs>=19.2.0 in /home/miguel/anaconda3/lib/python3.8/site-packages (from fiona>=1.8->geopandas) (22.1.0)\n",
      "Requirement already satisfied: importlib-metadata in /home/miguel/anaconda3/lib/python3.8/site-packages (from fiona>=1.8->geopandas) (4.11.3)\n",
      "Requirement already satisfied: python-dateutil>=2.8.1 in /home/miguel/.local/lib/python3.8/site-packages (from pandas>=1.0.0->geopandas) (2.8.2)\n",
      "Requirement already satisfied: pytz>=2020.1 in /home/miguel/.local/lib/python3.8/site-packages (from pandas>=1.0.0->geopandas) (2022.1)\n",
      "Requirement already satisfied: numpy>=1.18.5 in /home/miguel/.local/lib/python3.8/site-packages (from pandas>=1.0.0->geopandas) (1.20.2)\n",
      "Requirement already satisfied: six in /home/miguel/anaconda3/lib/python3.8/site-packages (from munch>=2.3.2->fiona>=1.8->geopandas) (1.16.0)\n",
      "Requirement already satisfied: zipp>=0.5 in /home/miguel/anaconda3/lib/python3.8/site-packages (from importlib-metadata->fiona>=1.8->geopandas) (3.11.0)\n"
     ]
    }
   ],
   "source": [
    "!pip install geopandas"
   ]
  },
  {
   "cell_type": "code",
   "execution_count": 6,
   "metadata": {},
   "outputs": [],
   "source": [
    "df = pd.read_csv('data/groupedby_distric_month_nature.csv')\n",
    "df=df.drop('Unnamed: 0',axis=1)"
   ]
  },
  {
   "cell_type": "code",
   "execution_count": 7,
   "metadata": {},
   "outputs": [
    {
     "data": {
      "text/html": [
       "<div>\n",
       "<style scoped>\n",
       "    .dataframe tbody tr th:only-of-type {\n",
       "        vertical-align: middle;\n",
       "    }\n",
       "\n",
       "    .dataframe tbody tr th {\n",
       "        vertical-align: top;\n",
       "    }\n",
       "\n",
       "    .dataframe thead th {\n",
       "        text-align: right;\n",
       "    }\n",
       "</style>\n",
       "<table border=\"1\" class=\"dataframe\">\n",
       "  <thead>\n",
       "    <tr style=\"text-align: right;\">\n",
       "      <th></th>\n",
       "      <th>Distrito_AVEIRO__</th>\n",
       "      <th>Distrito_BEJA__</th>\n",
       "      <th>Distrito_BRAGANÇA__</th>\n",
       "      <th>Distrito_BRAGA__</th>\n",
       "      <th>Distrito_CASTELO BRANCO__</th>\n",
       "      <th>Distrito_COIMBRA__</th>\n",
       "      <th>Distrito_FARO__</th>\n",
       "      <th>Distrito_GUARDA__</th>\n",
       "      <th>Distrito_LEIRIA__</th>\n",
       "      <th>Distrito_LISBOA__</th>\n",
       "      <th>Distrito_PORTALEGRE__</th>\n",
       "      <th>Distrito_PORTO__</th>\n",
       "      <th>Distrito_SANTARÉM__</th>\n",
       "      <th>Distrito_SETÚBAL__</th>\n",
       "      <th>Distrito_VIANA DO CASTELO__</th>\n",
       "      <th>Distrito_VILA REAL__</th>\n",
       "      <th>Distrito_VISEU__</th>\n",
       "      <th>Distrito_ÉVORA__</th>\n",
       "      <th>Grouped_Acidentes__</th>\n",
       "      <th>Grouped_Assistência e Prevenção__</th>\n",
       "      <th>Grouped_Incêndios em Bens__</th>\n",
       "      <th>Grouped_Incêndios__</th>\n",
       "      <th>Grouped_Operações__</th>\n",
       "      <th>Grouped_Segurança e Serviços__</th>\n",
       "      <th>MesOcorrencia__</th>\n",
       "      <th>NumeroMeiosTerrestresEnvolvidos_max_max</th>\n",
       "      <th>NumeroMeiosTerrestresEnvolvidos_max_mean</th>\n",
       "      <th>NumeroMeiosTerrestresEnvolvidos_max_min</th>\n",
       "      <th>NumeroOperacionaisTerrestresEnvolvidos_max_max</th>\n",
       "      <th>NumeroOperacionaisTerrestresEnvolvidos_max_mean</th>\n",
       "      <th>NumeroOperacionaisTerrestresEnvolvidos_max_min</th>\n",
       "    </tr>\n",
       "  </thead>\n",
       "  <tbody>\n",
       "    <tr>\n",
       "      <th>0</th>\n",
       "      <td>0</td>\n",
       "      <td>0</td>\n",
       "      <td>0</td>\n",
       "      <td>0</td>\n",
       "      <td>0</td>\n",
       "      <td>0</td>\n",
       "      <td>0</td>\n",
       "      <td>0</td>\n",
       "      <td>0</td>\n",
       "      <td>0</td>\n",
       "      <td>0</td>\n",
       "      <td>0</td>\n",
       "      <td>0</td>\n",
       "      <td>0</td>\n",
       "      <td>0</td>\n",
       "      <td>0</td>\n",
       "      <td>0</td>\n",
       "      <td>1</td>\n",
       "      <td>0</td>\n",
       "      <td>0</td>\n",
       "      <td>0</td>\n",
       "      <td>0</td>\n",
       "      <td>0</td>\n",
       "      <td>1</td>\n",
       "      <td>1</td>\n",
       "      <td>2.0</td>\n",
       "      <td>1.000000</td>\n",
       "      <td>0.0</td>\n",
       "      <td>4.0</td>\n",
       "      <td>2.000000</td>\n",
       "      <td>0.0</td>\n",
       "    </tr>\n",
       "    <tr>\n",
       "      <th>1</th>\n",
       "      <td>0</td>\n",
       "      <td>0</td>\n",
       "      <td>0</td>\n",
       "      <td>0</td>\n",
       "      <td>0</td>\n",
       "      <td>0</td>\n",
       "      <td>0</td>\n",
       "      <td>0</td>\n",
       "      <td>0</td>\n",
       "      <td>0</td>\n",
       "      <td>0</td>\n",
       "      <td>0</td>\n",
       "      <td>0</td>\n",
       "      <td>0</td>\n",
       "      <td>0</td>\n",
       "      <td>0</td>\n",
       "      <td>0</td>\n",
       "      <td>1</td>\n",
       "      <td>0</td>\n",
       "      <td>0</td>\n",
       "      <td>0</td>\n",
       "      <td>0</td>\n",
       "      <td>0</td>\n",
       "      <td>1</td>\n",
       "      <td>2</td>\n",
       "      <td>3.0</td>\n",
       "      <td>2.000000</td>\n",
       "      <td>1.0</td>\n",
       "      <td>9.0</td>\n",
       "      <td>4.400000</td>\n",
       "      <td>2.0</td>\n",
       "    </tr>\n",
       "    <tr>\n",
       "      <th>2</th>\n",
       "      <td>0</td>\n",
       "      <td>0</td>\n",
       "      <td>0</td>\n",
       "      <td>0</td>\n",
       "      <td>0</td>\n",
       "      <td>0</td>\n",
       "      <td>0</td>\n",
       "      <td>0</td>\n",
       "      <td>0</td>\n",
       "      <td>0</td>\n",
       "      <td>0</td>\n",
       "      <td>0</td>\n",
       "      <td>0</td>\n",
       "      <td>0</td>\n",
       "      <td>0</td>\n",
       "      <td>0</td>\n",
       "      <td>0</td>\n",
       "      <td>1</td>\n",
       "      <td>0</td>\n",
       "      <td>0</td>\n",
       "      <td>0</td>\n",
       "      <td>0</td>\n",
       "      <td>0</td>\n",
       "      <td>1</td>\n",
       "      <td>3</td>\n",
       "      <td>2.0</td>\n",
       "      <td>1.666667</td>\n",
       "      <td>1.0</td>\n",
       "      <td>7.0</td>\n",
       "      <td>4.666667</td>\n",
       "      <td>3.0</td>\n",
       "    </tr>\n",
       "    <tr>\n",
       "      <th>3</th>\n",
       "      <td>0</td>\n",
       "      <td>0</td>\n",
       "      <td>0</td>\n",
       "      <td>0</td>\n",
       "      <td>0</td>\n",
       "      <td>0</td>\n",
       "      <td>0</td>\n",
       "      <td>0</td>\n",
       "      <td>0</td>\n",
       "      <td>0</td>\n",
       "      <td>0</td>\n",
       "      <td>0</td>\n",
       "      <td>0</td>\n",
       "      <td>0</td>\n",
       "      <td>0</td>\n",
       "      <td>0</td>\n",
       "      <td>0</td>\n",
       "      <td>1</td>\n",
       "      <td>0</td>\n",
       "      <td>0</td>\n",
       "      <td>0</td>\n",
       "      <td>0</td>\n",
       "      <td>0</td>\n",
       "      <td>1</td>\n",
       "      <td>4</td>\n",
       "      <td>2.0</td>\n",
       "      <td>2.000000</td>\n",
       "      <td>2.0</td>\n",
       "      <td>7.0</td>\n",
       "      <td>5.000000</td>\n",
       "      <td>4.0</td>\n",
       "    </tr>\n",
       "    <tr>\n",
       "      <th>4</th>\n",
       "      <td>0</td>\n",
       "      <td>0</td>\n",
       "      <td>0</td>\n",
       "      <td>0</td>\n",
       "      <td>0</td>\n",
       "      <td>0</td>\n",
       "      <td>0</td>\n",
       "      <td>0</td>\n",
       "      <td>0</td>\n",
       "      <td>0</td>\n",
       "      <td>0</td>\n",
       "      <td>0</td>\n",
       "      <td>0</td>\n",
       "      <td>0</td>\n",
       "      <td>0</td>\n",
       "      <td>0</td>\n",
       "      <td>0</td>\n",
       "      <td>1</td>\n",
       "      <td>0</td>\n",
       "      <td>0</td>\n",
       "      <td>0</td>\n",
       "      <td>0</td>\n",
       "      <td>0</td>\n",
       "      <td>1</td>\n",
       "      <td>5</td>\n",
       "      <td>3.0</td>\n",
       "      <td>2.181818</td>\n",
       "      <td>1.0</td>\n",
       "      <td>9.0</td>\n",
       "      <td>5.181818</td>\n",
       "      <td>2.0</td>\n",
       "    </tr>\n",
       "    <tr>\n",
       "      <th>...</th>\n",
       "      <td>...</td>\n",
       "      <td>...</td>\n",
       "      <td>...</td>\n",
       "      <td>...</td>\n",
       "      <td>...</td>\n",
       "      <td>...</td>\n",
       "      <td>...</td>\n",
       "      <td>...</td>\n",
       "      <td>...</td>\n",
       "      <td>...</td>\n",
       "      <td>...</td>\n",
       "      <td>...</td>\n",
       "      <td>...</td>\n",
       "      <td>...</td>\n",
       "      <td>...</td>\n",
       "      <td>...</td>\n",
       "      <td>...</td>\n",
       "      <td>...</td>\n",
       "      <td>...</td>\n",
       "      <td>...</td>\n",
       "      <td>...</td>\n",
       "      <td>...</td>\n",
       "      <td>...</td>\n",
       "      <td>...</td>\n",
       "      <td>...</td>\n",
       "      <td>...</td>\n",
       "      <td>...</td>\n",
       "      <td>...</td>\n",
       "      <td>...</td>\n",
       "      <td>...</td>\n",
       "      <td>...</td>\n",
       "    </tr>\n",
       "    <tr>\n",
       "      <th>1203</th>\n",
       "      <td>1</td>\n",
       "      <td>0</td>\n",
       "      <td>0</td>\n",
       "      <td>0</td>\n",
       "      <td>0</td>\n",
       "      <td>0</td>\n",
       "      <td>0</td>\n",
       "      <td>0</td>\n",
       "      <td>0</td>\n",
       "      <td>0</td>\n",
       "      <td>0</td>\n",
       "      <td>0</td>\n",
       "      <td>0</td>\n",
       "      <td>0</td>\n",
       "      <td>0</td>\n",
       "      <td>0</td>\n",
       "      <td>0</td>\n",
       "      <td>0</td>\n",
       "      <td>1</td>\n",
       "      <td>0</td>\n",
       "      <td>0</td>\n",
       "      <td>0</td>\n",
       "      <td>0</td>\n",
       "      <td>0</td>\n",
       "      <td>8</td>\n",
       "      <td>6.0</td>\n",
       "      <td>3.041667</td>\n",
       "      <td>1.0</td>\n",
       "      <td>13.0</td>\n",
       "      <td>7.125000</td>\n",
       "      <td>2.0</td>\n",
       "    </tr>\n",
       "    <tr>\n",
       "      <th>1204</th>\n",
       "      <td>1</td>\n",
       "      <td>0</td>\n",
       "      <td>0</td>\n",
       "      <td>0</td>\n",
       "      <td>0</td>\n",
       "      <td>0</td>\n",
       "      <td>0</td>\n",
       "      <td>0</td>\n",
       "      <td>0</td>\n",
       "      <td>0</td>\n",
       "      <td>0</td>\n",
       "      <td>0</td>\n",
       "      <td>0</td>\n",
       "      <td>0</td>\n",
       "      <td>0</td>\n",
       "      <td>0</td>\n",
       "      <td>0</td>\n",
       "      <td>0</td>\n",
       "      <td>1</td>\n",
       "      <td>0</td>\n",
       "      <td>0</td>\n",
       "      <td>0</td>\n",
       "      <td>0</td>\n",
       "      <td>0</td>\n",
       "      <td>9</td>\n",
       "      <td>6.0</td>\n",
       "      <td>3.347826</td>\n",
       "      <td>1.0</td>\n",
       "      <td>13.0</td>\n",
       "      <td>8.086957</td>\n",
       "      <td>2.0</td>\n",
       "    </tr>\n",
       "    <tr>\n",
       "      <th>1205</th>\n",
       "      <td>1</td>\n",
       "      <td>0</td>\n",
       "      <td>0</td>\n",
       "      <td>0</td>\n",
       "      <td>0</td>\n",
       "      <td>0</td>\n",
       "      <td>0</td>\n",
       "      <td>0</td>\n",
       "      <td>0</td>\n",
       "      <td>0</td>\n",
       "      <td>0</td>\n",
       "      <td>0</td>\n",
       "      <td>0</td>\n",
       "      <td>0</td>\n",
       "      <td>0</td>\n",
       "      <td>0</td>\n",
       "      <td>0</td>\n",
       "      <td>0</td>\n",
       "      <td>1</td>\n",
       "      <td>0</td>\n",
       "      <td>0</td>\n",
       "      <td>0</td>\n",
       "      <td>0</td>\n",
       "      <td>0</td>\n",
       "      <td>10</td>\n",
       "      <td>6.0</td>\n",
       "      <td>3.600000</td>\n",
       "      <td>1.0</td>\n",
       "      <td>13.0</td>\n",
       "      <td>8.960000</td>\n",
       "      <td>2.0</td>\n",
       "    </tr>\n",
       "    <tr>\n",
       "      <th>1206</th>\n",
       "      <td>1</td>\n",
       "      <td>0</td>\n",
       "      <td>0</td>\n",
       "      <td>0</td>\n",
       "      <td>0</td>\n",
       "      <td>0</td>\n",
       "      <td>0</td>\n",
       "      <td>0</td>\n",
       "      <td>0</td>\n",
       "      <td>0</td>\n",
       "      <td>0</td>\n",
       "      <td>0</td>\n",
       "      <td>0</td>\n",
       "      <td>0</td>\n",
       "      <td>0</td>\n",
       "      <td>0</td>\n",
       "      <td>0</td>\n",
       "      <td>0</td>\n",
       "      <td>1</td>\n",
       "      <td>0</td>\n",
       "      <td>0</td>\n",
       "      <td>0</td>\n",
       "      <td>0</td>\n",
       "      <td>0</td>\n",
       "      <td>11</td>\n",
       "      <td>6.0</td>\n",
       "      <td>3.269231</td>\n",
       "      <td>1.0</td>\n",
       "      <td>13.0</td>\n",
       "      <td>7.807692</td>\n",
       "      <td>2.0</td>\n",
       "    </tr>\n",
       "    <tr>\n",
       "      <th>1207</th>\n",
       "      <td>1</td>\n",
       "      <td>0</td>\n",
       "      <td>0</td>\n",
       "      <td>0</td>\n",
       "      <td>0</td>\n",
       "      <td>0</td>\n",
       "      <td>0</td>\n",
       "      <td>0</td>\n",
       "      <td>0</td>\n",
       "      <td>0</td>\n",
       "      <td>0</td>\n",
       "      <td>0</td>\n",
       "      <td>0</td>\n",
       "      <td>0</td>\n",
       "      <td>0</td>\n",
       "      <td>0</td>\n",
       "      <td>0</td>\n",
       "      <td>0</td>\n",
       "      <td>1</td>\n",
       "      <td>0</td>\n",
       "      <td>0</td>\n",
       "      <td>0</td>\n",
       "      <td>0</td>\n",
       "      <td>0</td>\n",
       "      <td>12</td>\n",
       "      <td>6.0</td>\n",
       "      <td>2.846154</td>\n",
       "      <td>1.0</td>\n",
       "      <td>13.0</td>\n",
       "      <td>6.961538</td>\n",
       "      <td>2.0</td>\n",
       "    </tr>\n",
       "  </tbody>\n",
       "</table>\n",
       "<p>1208 rows × 31 columns</p>\n",
       "</div>"
      ],
      "text/plain": [
       "      Distrito_AVEIRO__  Distrito_BEJA__  Distrito_BRAGANÇA__  \\\n",
       "0                     0                0                    0   \n",
       "1                     0                0                    0   \n",
       "2                     0                0                    0   \n",
       "3                     0                0                    0   \n",
       "4                     0                0                    0   \n",
       "...                 ...              ...                  ...   \n",
       "1203                  1                0                    0   \n",
       "1204                  1                0                    0   \n",
       "1205                  1                0                    0   \n",
       "1206                  1                0                    0   \n",
       "1207                  1                0                    0   \n",
       "\n",
       "      Distrito_BRAGA__  Distrito_CASTELO BRANCO__  Distrito_COIMBRA__  \\\n",
       "0                    0                          0                   0   \n",
       "1                    0                          0                   0   \n",
       "2                    0                          0                   0   \n",
       "3                    0                          0                   0   \n",
       "4                    0                          0                   0   \n",
       "...                ...                        ...                 ...   \n",
       "1203                 0                          0                   0   \n",
       "1204                 0                          0                   0   \n",
       "1205                 0                          0                   0   \n",
       "1206                 0                          0                   0   \n",
       "1207                 0                          0                   0   \n",
       "\n",
       "      Distrito_FARO__  Distrito_GUARDA__  Distrito_LEIRIA__  \\\n",
       "0                   0                  0                  0   \n",
       "1                   0                  0                  0   \n",
       "2                   0                  0                  0   \n",
       "3                   0                  0                  0   \n",
       "4                   0                  0                  0   \n",
       "...               ...                ...                ...   \n",
       "1203                0                  0                  0   \n",
       "1204                0                  0                  0   \n",
       "1205                0                  0                  0   \n",
       "1206                0                  0                  0   \n",
       "1207                0                  0                  0   \n",
       "\n",
       "      Distrito_LISBOA__  Distrito_PORTALEGRE__  Distrito_PORTO__  \\\n",
       "0                     0                      0                 0   \n",
       "1                     0                      0                 0   \n",
       "2                     0                      0                 0   \n",
       "3                     0                      0                 0   \n",
       "4                     0                      0                 0   \n",
       "...                 ...                    ...               ...   \n",
       "1203                  0                      0                 0   \n",
       "1204                  0                      0                 0   \n",
       "1205                  0                      0                 0   \n",
       "1206                  0                      0                 0   \n",
       "1207                  0                      0                 0   \n",
       "\n",
       "      Distrito_SANTARÉM__  Distrito_SETÚBAL__  Distrito_VIANA DO CASTELO__  \\\n",
       "0                       0                   0                            0   \n",
       "1                       0                   0                            0   \n",
       "2                       0                   0                            0   \n",
       "3                       0                   0                            0   \n",
       "4                       0                   0                            0   \n",
       "...                   ...                 ...                          ...   \n",
       "1203                    0                   0                            0   \n",
       "1204                    0                   0                            0   \n",
       "1205                    0                   0                            0   \n",
       "1206                    0                   0                            0   \n",
       "1207                    0                   0                            0   \n",
       "\n",
       "      Distrito_VILA REAL__  Distrito_VISEU__  Distrito_ÉVORA__  \\\n",
       "0                        0                 0                 1   \n",
       "1                        0                 0                 1   \n",
       "2                        0                 0                 1   \n",
       "3                        0                 0                 1   \n",
       "4                        0                 0                 1   \n",
       "...                    ...               ...               ...   \n",
       "1203                     0                 0                 0   \n",
       "1204                     0                 0                 0   \n",
       "1205                     0                 0                 0   \n",
       "1206                     0                 0                 0   \n",
       "1207                     0                 0                 0   \n",
       "\n",
       "      Grouped_Acidentes__  Grouped_Assistência e Prevenção__  \\\n",
       "0                       0                                  0   \n",
       "1                       0                                  0   \n",
       "2                       0                                  0   \n",
       "3                       0                                  0   \n",
       "4                       0                                  0   \n",
       "...                   ...                                ...   \n",
       "1203                    1                                  0   \n",
       "1204                    1                                  0   \n",
       "1205                    1                                  0   \n",
       "1206                    1                                  0   \n",
       "1207                    1                                  0   \n",
       "\n",
       "      Grouped_Incêndios em Bens__  Grouped_Incêndios__  Grouped_Operações__  \\\n",
       "0                               0                    0                    0   \n",
       "1                               0                    0                    0   \n",
       "2                               0                    0                    0   \n",
       "3                               0                    0                    0   \n",
       "4                               0                    0                    0   \n",
       "...                           ...                  ...                  ...   \n",
       "1203                            0                    0                    0   \n",
       "1204                            0                    0                    0   \n",
       "1205                            0                    0                    0   \n",
       "1206                            0                    0                    0   \n",
       "1207                            0                    0                    0   \n",
       "\n",
       "      Grouped_Segurança e Serviços__  MesOcorrencia__  \\\n",
       "0                                  1                1   \n",
       "1                                  1                2   \n",
       "2                                  1                3   \n",
       "3                                  1                4   \n",
       "4                                  1                5   \n",
       "...                              ...              ...   \n",
       "1203                               0                8   \n",
       "1204                               0                9   \n",
       "1205                               0               10   \n",
       "1206                               0               11   \n",
       "1207                               0               12   \n",
       "\n",
       "      NumeroMeiosTerrestresEnvolvidos_max_max  \\\n",
       "0                                         2.0   \n",
       "1                                         3.0   \n",
       "2                                         2.0   \n",
       "3                                         2.0   \n",
       "4                                         3.0   \n",
       "...                                       ...   \n",
       "1203                                      6.0   \n",
       "1204                                      6.0   \n",
       "1205                                      6.0   \n",
       "1206                                      6.0   \n",
       "1207                                      6.0   \n",
       "\n",
       "      NumeroMeiosTerrestresEnvolvidos_max_mean  \\\n",
       "0                                     1.000000   \n",
       "1                                     2.000000   \n",
       "2                                     1.666667   \n",
       "3                                     2.000000   \n",
       "4                                     2.181818   \n",
       "...                                        ...   \n",
       "1203                                  3.041667   \n",
       "1204                                  3.347826   \n",
       "1205                                  3.600000   \n",
       "1206                                  3.269231   \n",
       "1207                                  2.846154   \n",
       "\n",
       "      NumeroMeiosTerrestresEnvolvidos_max_min  \\\n",
       "0                                         0.0   \n",
       "1                                         1.0   \n",
       "2                                         1.0   \n",
       "3                                         2.0   \n",
       "4                                         1.0   \n",
       "...                                       ...   \n",
       "1203                                      1.0   \n",
       "1204                                      1.0   \n",
       "1205                                      1.0   \n",
       "1206                                      1.0   \n",
       "1207                                      1.0   \n",
       "\n",
       "      NumeroOperacionaisTerrestresEnvolvidos_max_max  \\\n",
       "0                                                4.0   \n",
       "1                                                9.0   \n",
       "2                                                7.0   \n",
       "3                                                7.0   \n",
       "4                                                9.0   \n",
       "...                                              ...   \n",
       "1203                                            13.0   \n",
       "1204                                            13.0   \n",
       "1205                                            13.0   \n",
       "1206                                            13.0   \n",
       "1207                                            13.0   \n",
       "\n",
       "      NumeroOperacionaisTerrestresEnvolvidos_max_mean  \\\n",
       "0                                            2.000000   \n",
       "1                                            4.400000   \n",
       "2                                            4.666667   \n",
       "3                                            5.000000   \n",
       "4                                            5.181818   \n",
       "...                                               ...   \n",
       "1203                                         7.125000   \n",
       "1204                                         8.086957   \n",
       "1205                                         8.960000   \n",
       "1206                                         7.807692   \n",
       "1207                                         6.961538   \n",
       "\n",
       "      NumeroOperacionaisTerrestresEnvolvidos_max_min  \n",
       "0                                                0.0  \n",
       "1                                                2.0  \n",
       "2                                                3.0  \n",
       "3                                                4.0  \n",
       "4                                                2.0  \n",
       "...                                              ...  \n",
       "1203                                             2.0  \n",
       "1204                                             2.0  \n",
       "1205                                             2.0  \n",
       "1206                                             2.0  \n",
       "1207                                             2.0  \n",
       "\n",
       "[1208 rows x 31 columns]"
      ]
     },
     "execution_count": 7,
     "metadata": {},
     "output_type": "execute_result"
    }
   ],
   "source": [
    "df"
   ]
  },
  {
   "cell_type": "code",
   "execution_count": 8,
   "metadata": {},
   "outputs": [],
   "source": [
    "import pandas as pd\n",
    "import geopandas as gpd\n",
    "import matplotlib.pyplot as plt\n",
    "\n",
    "# Assuming your dataframe is named 'df'\n",
    "# 2. Create a new dataframe with the desired columns\n",
    "new_df = df.filter(regex='Distrito|Grouped|MesOcorrencia|NumeroOperacionaisTerrestresEnvolvidos|NumeroMeiosTerrestresEnvolvidos')"
   ]
  },
  {
   "cell_type": "code",
   "execution_count": 9,
   "metadata": {},
   "outputs": [],
   "source": [
    "# 3. Convert one-hot encoding to categorical columns\n",
    "new_df['Distrito'] = new_df.filter(regex='Distrito').idxmax(axis=1).str.replace(\"Distrito_\", \"\")\n",
    "new_df['Group'] = new_df.filter(regex='Grouped').idxmax(axis=1).str.replace(\"Grouped_\", \"\")\n",
    "new_df.drop(new_df.filter(regex='Distrito_|Grouped').columns, axis=1, inplace=True)"
   ]
  },
  {
   "cell_type": "code",
   "execution_count": 10,
   "metadata": {},
   "outputs": [
    {
     "data": {
      "text/html": [
       "<div>\n",
       "<style scoped>\n",
       "    .dataframe tbody tr th:only-of-type {\n",
       "        vertical-align: middle;\n",
       "    }\n",
       "\n",
       "    .dataframe tbody tr th {\n",
       "        vertical-align: top;\n",
       "    }\n",
       "\n",
       "    .dataframe thead th {\n",
       "        text-align: right;\n",
       "    }\n",
       "</style>\n",
       "<table border=\"1\" class=\"dataframe\">\n",
       "  <thead>\n",
       "    <tr style=\"text-align: right;\">\n",
       "      <th></th>\n",
       "      <th>MesOcorrencia__</th>\n",
       "      <th>NumeroMeiosTerrestresEnvolvidos_max_max</th>\n",
       "      <th>NumeroMeiosTerrestresEnvolvidos_max_mean</th>\n",
       "      <th>NumeroMeiosTerrestresEnvolvidos_max_min</th>\n",
       "      <th>NumeroOperacionaisTerrestresEnvolvidos_max_max</th>\n",
       "      <th>NumeroOperacionaisTerrestresEnvolvidos_max_mean</th>\n",
       "      <th>NumeroOperacionaisTerrestresEnvolvidos_max_min</th>\n",
       "      <th>Distrito</th>\n",
       "      <th>Group</th>\n",
       "    </tr>\n",
       "  </thead>\n",
       "  <tbody>\n",
       "    <tr>\n",
       "      <th>0</th>\n",
       "      <td>1</td>\n",
       "      <td>2.0</td>\n",
       "      <td>1.000000</td>\n",
       "      <td>0.0</td>\n",
       "      <td>4.0</td>\n",
       "      <td>2.000000</td>\n",
       "      <td>0.0</td>\n",
       "      <td>ÉVORA__</td>\n",
       "      <td>Segurança e Serviços__</td>\n",
       "    </tr>\n",
       "    <tr>\n",
       "      <th>1</th>\n",
       "      <td>2</td>\n",
       "      <td>3.0</td>\n",
       "      <td>2.000000</td>\n",
       "      <td>1.0</td>\n",
       "      <td>9.0</td>\n",
       "      <td>4.400000</td>\n",
       "      <td>2.0</td>\n",
       "      <td>ÉVORA__</td>\n",
       "      <td>Segurança e Serviços__</td>\n",
       "    </tr>\n",
       "    <tr>\n",
       "      <th>2</th>\n",
       "      <td>3</td>\n",
       "      <td>2.0</td>\n",
       "      <td>1.666667</td>\n",
       "      <td>1.0</td>\n",
       "      <td>7.0</td>\n",
       "      <td>4.666667</td>\n",
       "      <td>3.0</td>\n",
       "      <td>ÉVORA__</td>\n",
       "      <td>Segurança e Serviços__</td>\n",
       "    </tr>\n",
       "    <tr>\n",
       "      <th>3</th>\n",
       "      <td>4</td>\n",
       "      <td>2.0</td>\n",
       "      <td>2.000000</td>\n",
       "      <td>2.0</td>\n",
       "      <td>7.0</td>\n",
       "      <td>5.000000</td>\n",
       "      <td>4.0</td>\n",
       "      <td>ÉVORA__</td>\n",
       "      <td>Segurança e Serviços__</td>\n",
       "    </tr>\n",
       "    <tr>\n",
       "      <th>4</th>\n",
       "      <td>5</td>\n",
       "      <td>3.0</td>\n",
       "      <td>2.181818</td>\n",
       "      <td>1.0</td>\n",
       "      <td>9.0</td>\n",
       "      <td>5.181818</td>\n",
       "      <td>2.0</td>\n",
       "      <td>ÉVORA__</td>\n",
       "      <td>Segurança e Serviços__</td>\n",
       "    </tr>\n",
       "    <tr>\n",
       "      <th>...</th>\n",
       "      <td>...</td>\n",
       "      <td>...</td>\n",
       "      <td>...</td>\n",
       "      <td>...</td>\n",
       "      <td>...</td>\n",
       "      <td>...</td>\n",
       "      <td>...</td>\n",
       "      <td>...</td>\n",
       "      <td>...</td>\n",
       "    </tr>\n",
       "    <tr>\n",
       "      <th>1203</th>\n",
       "      <td>8</td>\n",
       "      <td>6.0</td>\n",
       "      <td>3.041667</td>\n",
       "      <td>1.0</td>\n",
       "      <td>13.0</td>\n",
       "      <td>7.125000</td>\n",
       "      <td>2.0</td>\n",
       "      <td>AVEIRO__</td>\n",
       "      <td>Acidentes__</td>\n",
       "    </tr>\n",
       "    <tr>\n",
       "      <th>1204</th>\n",
       "      <td>9</td>\n",
       "      <td>6.0</td>\n",
       "      <td>3.347826</td>\n",
       "      <td>1.0</td>\n",
       "      <td>13.0</td>\n",
       "      <td>8.086957</td>\n",
       "      <td>2.0</td>\n",
       "      <td>AVEIRO__</td>\n",
       "      <td>Acidentes__</td>\n",
       "    </tr>\n",
       "    <tr>\n",
       "      <th>1205</th>\n",
       "      <td>10</td>\n",
       "      <td>6.0</td>\n",
       "      <td>3.600000</td>\n",
       "      <td>1.0</td>\n",
       "      <td>13.0</td>\n",
       "      <td>8.960000</td>\n",
       "      <td>2.0</td>\n",
       "      <td>AVEIRO__</td>\n",
       "      <td>Acidentes__</td>\n",
       "    </tr>\n",
       "    <tr>\n",
       "      <th>1206</th>\n",
       "      <td>11</td>\n",
       "      <td>6.0</td>\n",
       "      <td>3.269231</td>\n",
       "      <td>1.0</td>\n",
       "      <td>13.0</td>\n",
       "      <td>7.807692</td>\n",
       "      <td>2.0</td>\n",
       "      <td>AVEIRO__</td>\n",
       "      <td>Acidentes__</td>\n",
       "    </tr>\n",
       "    <tr>\n",
       "      <th>1207</th>\n",
       "      <td>12</td>\n",
       "      <td>6.0</td>\n",
       "      <td>2.846154</td>\n",
       "      <td>1.0</td>\n",
       "      <td>13.0</td>\n",
       "      <td>6.961538</td>\n",
       "      <td>2.0</td>\n",
       "      <td>AVEIRO__</td>\n",
       "      <td>Acidentes__</td>\n",
       "    </tr>\n",
       "  </tbody>\n",
       "</table>\n",
       "<p>1208 rows × 9 columns</p>\n",
       "</div>"
      ],
      "text/plain": [
       "      MesOcorrencia__  NumeroMeiosTerrestresEnvolvidos_max_max  \\\n",
       "0                   1                                      2.0   \n",
       "1                   2                                      3.0   \n",
       "2                   3                                      2.0   \n",
       "3                   4                                      2.0   \n",
       "4                   5                                      3.0   \n",
       "...               ...                                      ...   \n",
       "1203                8                                      6.0   \n",
       "1204                9                                      6.0   \n",
       "1205               10                                      6.0   \n",
       "1206               11                                      6.0   \n",
       "1207               12                                      6.0   \n",
       "\n",
       "      NumeroMeiosTerrestresEnvolvidos_max_mean  \\\n",
       "0                                     1.000000   \n",
       "1                                     2.000000   \n",
       "2                                     1.666667   \n",
       "3                                     2.000000   \n",
       "4                                     2.181818   \n",
       "...                                        ...   \n",
       "1203                                  3.041667   \n",
       "1204                                  3.347826   \n",
       "1205                                  3.600000   \n",
       "1206                                  3.269231   \n",
       "1207                                  2.846154   \n",
       "\n",
       "      NumeroMeiosTerrestresEnvolvidos_max_min  \\\n",
       "0                                         0.0   \n",
       "1                                         1.0   \n",
       "2                                         1.0   \n",
       "3                                         2.0   \n",
       "4                                         1.0   \n",
       "...                                       ...   \n",
       "1203                                      1.0   \n",
       "1204                                      1.0   \n",
       "1205                                      1.0   \n",
       "1206                                      1.0   \n",
       "1207                                      1.0   \n",
       "\n",
       "      NumeroOperacionaisTerrestresEnvolvidos_max_max  \\\n",
       "0                                                4.0   \n",
       "1                                                9.0   \n",
       "2                                                7.0   \n",
       "3                                                7.0   \n",
       "4                                                9.0   \n",
       "...                                              ...   \n",
       "1203                                            13.0   \n",
       "1204                                            13.0   \n",
       "1205                                            13.0   \n",
       "1206                                            13.0   \n",
       "1207                                            13.0   \n",
       "\n",
       "      NumeroOperacionaisTerrestresEnvolvidos_max_mean  \\\n",
       "0                                            2.000000   \n",
       "1                                            4.400000   \n",
       "2                                            4.666667   \n",
       "3                                            5.000000   \n",
       "4                                            5.181818   \n",
       "...                                               ...   \n",
       "1203                                         7.125000   \n",
       "1204                                         8.086957   \n",
       "1205                                         8.960000   \n",
       "1206                                         7.807692   \n",
       "1207                                         6.961538   \n",
       "\n",
       "      NumeroOperacionaisTerrestresEnvolvidos_max_min  Distrito  \\\n",
       "0                                                0.0   ÉVORA__   \n",
       "1                                                2.0   ÉVORA__   \n",
       "2                                                3.0   ÉVORA__   \n",
       "3                                                4.0   ÉVORA__   \n",
       "4                                                2.0   ÉVORA__   \n",
       "...                                              ...       ...   \n",
       "1203                                             2.0  AVEIRO__   \n",
       "1204                                             2.0  AVEIRO__   \n",
       "1205                                             2.0  AVEIRO__   \n",
       "1206                                             2.0  AVEIRO__   \n",
       "1207                                             2.0  AVEIRO__   \n",
       "\n",
       "                       Group  \n",
       "0     Segurança e Serviços__  \n",
       "1     Segurança e Serviços__  \n",
       "2     Segurança e Serviços__  \n",
       "3     Segurança e Serviços__  \n",
       "4     Segurança e Serviços__  \n",
       "...                      ...  \n",
       "1203             Acidentes__  \n",
       "1204             Acidentes__  \n",
       "1205             Acidentes__  \n",
       "1206             Acidentes__  \n",
       "1207             Acidentes__  \n",
       "\n",
       "[1208 rows x 9 columns]"
      ]
     },
     "execution_count": 10,
     "metadata": {},
     "output_type": "execute_result"
    }
   ],
   "source": [
    "new_df"
   ]
  },
  {
   "cell_type": "code",
   "execution_count": 11,
   "metadata": {},
   "outputs": [],
   "source": [
    "# Replace values in 'col1' with the same value without the '__' suffix\n",
    "new_df['Distrito'] = new_df['Distrito'].apply(lambda x: x[:-2])"
   ]
  },
  {
   "cell_type": "code",
   "execution_count": 12,
   "metadata": {},
   "outputs": [
    {
     "data": {
      "text/plain": [
       "array(['ÉVORA', 'VISEU', 'VILA REAL', 'VIANA DO CASTELO', 'SETÚBAL',\n",
       "       'SANTARÉM', 'PORTO', 'PORTALEGRE', 'LISBOA', 'LEIRIA', 'GUARDA',\n",
       "       'FARO', 'COIMBRA', 'CASTELO BRANCO', 'BRAGA', 'BRAGANÇA', 'BEJA',\n",
       "       'AVEIRO'], dtype=object)"
      ]
     },
     "execution_count": 12,
     "metadata": {},
     "output_type": "execute_result"
    }
   ],
   "source": [
    "new_df[\"Distrito\"].unique()"
   ]
  },
  {
   "cell_type": "code",
   "execution_count": 13,
   "metadata": {},
   "outputs": [],
   "source": [
    "# Replace values in 'col1' with the same value without the '__' suffix\n",
    "new_df['Group'] = new_df['Group'].apply(lambda x: x[:-2])"
   ]
  },
  {
   "cell_type": "code",
   "execution_count": 14,
   "metadata": {},
   "outputs": [
    {
     "data": {
      "text/plain": [
       "array(['Segurança e Serviços', 'Operações', 'Incêndios',\n",
       "       'Incêndios em Bens', 'Assistência e Prevenção', 'Acidentes'],\n",
       "      dtype=object)"
      ]
     },
     "execution_count": 14,
     "metadata": {},
     "output_type": "execute_result"
    }
   ],
   "source": [
    "new_df[\"Group\"].unique()"
   ]
  },
  {
   "cell_type": "code",
   "execution_count": 15,
   "metadata": {},
   "outputs": [
    {
     "data": {
      "text/html": [
       "<div>\n",
       "<style scoped>\n",
       "    .dataframe tbody tr th:only-of-type {\n",
       "        vertical-align: middle;\n",
       "    }\n",
       "\n",
       "    .dataframe tbody tr th {\n",
       "        vertical-align: top;\n",
       "    }\n",
       "\n",
       "    .dataframe thead th {\n",
       "        text-align: right;\n",
       "    }\n",
       "</style>\n",
       "<table border=\"1\" class=\"dataframe\">\n",
       "  <thead>\n",
       "    <tr style=\"text-align: right;\">\n",
       "      <th></th>\n",
       "      <th>MesOcorrencia__</th>\n",
       "      <th>NumeroMeiosTerrestresEnvolvidos_max_max</th>\n",
       "      <th>NumeroMeiosTerrestresEnvolvidos_max_mean</th>\n",
       "      <th>NumeroMeiosTerrestresEnvolvidos_max_min</th>\n",
       "      <th>NumeroOperacionaisTerrestresEnvolvidos_max_max</th>\n",
       "      <th>NumeroOperacionaisTerrestresEnvolvidos_max_mean</th>\n",
       "      <th>NumeroOperacionaisTerrestresEnvolvidos_max_min</th>\n",
       "      <th>Distrito</th>\n",
       "      <th>Group</th>\n",
       "    </tr>\n",
       "  </thead>\n",
       "  <tbody>\n",
       "    <tr>\n",
       "      <th>0</th>\n",
       "      <td>1</td>\n",
       "      <td>2.0</td>\n",
       "      <td>1.000000</td>\n",
       "      <td>0.0</td>\n",
       "      <td>4.0</td>\n",
       "      <td>2.000000</td>\n",
       "      <td>0.0</td>\n",
       "      <td>ÉVORA</td>\n",
       "      <td>Segurança e Serviços</td>\n",
       "    </tr>\n",
       "    <tr>\n",
       "      <th>1</th>\n",
       "      <td>2</td>\n",
       "      <td>3.0</td>\n",
       "      <td>2.000000</td>\n",
       "      <td>1.0</td>\n",
       "      <td>9.0</td>\n",
       "      <td>4.400000</td>\n",
       "      <td>2.0</td>\n",
       "      <td>ÉVORA</td>\n",
       "      <td>Segurança e Serviços</td>\n",
       "    </tr>\n",
       "    <tr>\n",
       "      <th>2</th>\n",
       "      <td>3</td>\n",
       "      <td>2.0</td>\n",
       "      <td>1.666667</td>\n",
       "      <td>1.0</td>\n",
       "      <td>7.0</td>\n",
       "      <td>4.666667</td>\n",
       "      <td>3.0</td>\n",
       "      <td>ÉVORA</td>\n",
       "      <td>Segurança e Serviços</td>\n",
       "    </tr>\n",
       "    <tr>\n",
       "      <th>3</th>\n",
       "      <td>4</td>\n",
       "      <td>2.0</td>\n",
       "      <td>2.000000</td>\n",
       "      <td>2.0</td>\n",
       "      <td>7.0</td>\n",
       "      <td>5.000000</td>\n",
       "      <td>4.0</td>\n",
       "      <td>ÉVORA</td>\n",
       "      <td>Segurança e Serviços</td>\n",
       "    </tr>\n",
       "    <tr>\n",
       "      <th>4</th>\n",
       "      <td>5</td>\n",
       "      <td>3.0</td>\n",
       "      <td>2.181818</td>\n",
       "      <td>1.0</td>\n",
       "      <td>9.0</td>\n",
       "      <td>5.181818</td>\n",
       "      <td>2.0</td>\n",
       "      <td>ÉVORA</td>\n",
       "      <td>Segurança e Serviços</td>\n",
       "    </tr>\n",
       "    <tr>\n",
       "      <th>...</th>\n",
       "      <td>...</td>\n",
       "      <td>...</td>\n",
       "      <td>...</td>\n",
       "      <td>...</td>\n",
       "      <td>...</td>\n",
       "      <td>...</td>\n",
       "      <td>...</td>\n",
       "      <td>...</td>\n",
       "      <td>...</td>\n",
       "    </tr>\n",
       "    <tr>\n",
       "      <th>1203</th>\n",
       "      <td>8</td>\n",
       "      <td>6.0</td>\n",
       "      <td>3.041667</td>\n",
       "      <td>1.0</td>\n",
       "      <td>13.0</td>\n",
       "      <td>7.125000</td>\n",
       "      <td>2.0</td>\n",
       "      <td>AVEIRO</td>\n",
       "      <td>Acidentes</td>\n",
       "    </tr>\n",
       "    <tr>\n",
       "      <th>1204</th>\n",
       "      <td>9</td>\n",
       "      <td>6.0</td>\n",
       "      <td>3.347826</td>\n",
       "      <td>1.0</td>\n",
       "      <td>13.0</td>\n",
       "      <td>8.086957</td>\n",
       "      <td>2.0</td>\n",
       "      <td>AVEIRO</td>\n",
       "      <td>Acidentes</td>\n",
       "    </tr>\n",
       "    <tr>\n",
       "      <th>1205</th>\n",
       "      <td>10</td>\n",
       "      <td>6.0</td>\n",
       "      <td>3.600000</td>\n",
       "      <td>1.0</td>\n",
       "      <td>13.0</td>\n",
       "      <td>8.960000</td>\n",
       "      <td>2.0</td>\n",
       "      <td>AVEIRO</td>\n",
       "      <td>Acidentes</td>\n",
       "    </tr>\n",
       "    <tr>\n",
       "      <th>1206</th>\n",
       "      <td>11</td>\n",
       "      <td>6.0</td>\n",
       "      <td>3.269231</td>\n",
       "      <td>1.0</td>\n",
       "      <td>13.0</td>\n",
       "      <td>7.807692</td>\n",
       "      <td>2.0</td>\n",
       "      <td>AVEIRO</td>\n",
       "      <td>Acidentes</td>\n",
       "    </tr>\n",
       "    <tr>\n",
       "      <th>1207</th>\n",
       "      <td>12</td>\n",
       "      <td>6.0</td>\n",
       "      <td>2.846154</td>\n",
       "      <td>1.0</td>\n",
       "      <td>13.0</td>\n",
       "      <td>6.961538</td>\n",
       "      <td>2.0</td>\n",
       "      <td>AVEIRO</td>\n",
       "      <td>Acidentes</td>\n",
       "    </tr>\n",
       "  </tbody>\n",
       "</table>\n",
       "<p>1208 rows × 9 columns</p>\n",
       "</div>"
      ],
      "text/plain": [
       "      MesOcorrencia__  NumeroMeiosTerrestresEnvolvidos_max_max  \\\n",
       "0                   1                                      2.0   \n",
       "1                   2                                      3.0   \n",
       "2                   3                                      2.0   \n",
       "3                   4                                      2.0   \n",
       "4                   5                                      3.0   \n",
       "...               ...                                      ...   \n",
       "1203                8                                      6.0   \n",
       "1204                9                                      6.0   \n",
       "1205               10                                      6.0   \n",
       "1206               11                                      6.0   \n",
       "1207               12                                      6.0   \n",
       "\n",
       "      NumeroMeiosTerrestresEnvolvidos_max_mean  \\\n",
       "0                                     1.000000   \n",
       "1                                     2.000000   \n",
       "2                                     1.666667   \n",
       "3                                     2.000000   \n",
       "4                                     2.181818   \n",
       "...                                        ...   \n",
       "1203                                  3.041667   \n",
       "1204                                  3.347826   \n",
       "1205                                  3.600000   \n",
       "1206                                  3.269231   \n",
       "1207                                  2.846154   \n",
       "\n",
       "      NumeroMeiosTerrestresEnvolvidos_max_min  \\\n",
       "0                                         0.0   \n",
       "1                                         1.0   \n",
       "2                                         1.0   \n",
       "3                                         2.0   \n",
       "4                                         1.0   \n",
       "...                                       ...   \n",
       "1203                                      1.0   \n",
       "1204                                      1.0   \n",
       "1205                                      1.0   \n",
       "1206                                      1.0   \n",
       "1207                                      1.0   \n",
       "\n",
       "      NumeroOperacionaisTerrestresEnvolvidos_max_max  \\\n",
       "0                                                4.0   \n",
       "1                                                9.0   \n",
       "2                                                7.0   \n",
       "3                                                7.0   \n",
       "4                                                9.0   \n",
       "...                                              ...   \n",
       "1203                                            13.0   \n",
       "1204                                            13.0   \n",
       "1205                                            13.0   \n",
       "1206                                            13.0   \n",
       "1207                                            13.0   \n",
       "\n",
       "      NumeroOperacionaisTerrestresEnvolvidos_max_mean  \\\n",
       "0                                            2.000000   \n",
       "1                                            4.400000   \n",
       "2                                            4.666667   \n",
       "3                                            5.000000   \n",
       "4                                            5.181818   \n",
       "...                                               ...   \n",
       "1203                                         7.125000   \n",
       "1204                                         8.086957   \n",
       "1205                                         8.960000   \n",
       "1206                                         7.807692   \n",
       "1207                                         6.961538   \n",
       "\n",
       "      NumeroOperacionaisTerrestresEnvolvidos_max_min Distrito  \\\n",
       "0                                                0.0    ÉVORA   \n",
       "1                                                2.0    ÉVORA   \n",
       "2                                                3.0    ÉVORA   \n",
       "3                                                4.0    ÉVORA   \n",
       "4                                                2.0    ÉVORA   \n",
       "...                                              ...      ...   \n",
       "1203                                             2.0   AVEIRO   \n",
       "1204                                             2.0   AVEIRO   \n",
       "1205                                             2.0   AVEIRO   \n",
       "1206                                             2.0   AVEIRO   \n",
       "1207                                             2.0   AVEIRO   \n",
       "\n",
       "                     Group  \n",
       "0     Segurança e Serviços  \n",
       "1     Segurança e Serviços  \n",
       "2     Segurança e Serviços  \n",
       "3     Segurança e Serviços  \n",
       "4     Segurança e Serviços  \n",
       "...                    ...  \n",
       "1203             Acidentes  \n",
       "1204             Acidentes  \n",
       "1205             Acidentes  \n",
       "1206             Acidentes  \n",
       "1207             Acidentes  \n",
       "\n",
       "[1208 rows x 9 columns]"
      ]
     },
     "execution_count": 15,
     "metadata": {},
     "output_type": "execute_result"
    }
   ],
   "source": [
    "new_df"
   ]
  },
  {
   "cell_type": "code",
   "execution_count": 16,
   "metadata": {},
   "outputs": [
    {
     "data": {
      "text/html": [
       "<div>\n",
       "<style scoped>\n",
       "    .dataframe tbody tr th:only-of-type {\n",
       "        vertical-align: middle;\n",
       "    }\n",
       "\n",
       "    .dataframe tbody tr th {\n",
       "        vertical-align: top;\n",
       "    }\n",
       "\n",
       "    .dataframe thead th {\n",
       "        text-align: right;\n",
       "    }\n",
       "</style>\n",
       "<table border=\"1\" class=\"dataframe\">\n",
       "  <thead>\n",
       "    <tr style=\"text-align: right;\">\n",
       "      <th></th>\n",
       "      <th>Distrito</th>\n",
       "      <th>MesOcorrencia__</th>\n",
       "      <th>Group</th>\n",
       "      <th>NumeroOperacionaisTerrestresEnvolvidos_max_max</th>\n",
       "      <th>NumeroOperacionaisTerrestresEnvolvidos_max_mean</th>\n",
       "      <th>NumeroOperacionaisTerrestresEnvolvidos_max_min</th>\n",
       "      <th>NumeroMeiosTerrestresEnvolvidos_max_max</th>\n",
       "      <th>NumeroMeiosTerrestresEnvolvidos_max_mean</th>\n",
       "      <th>NumeroMeiosTerrestresEnvolvidos_max_min</th>\n",
       "    </tr>\n",
       "  </thead>\n",
       "  <tbody>\n",
       "    <tr>\n",
       "      <th>0</th>\n",
       "      <td>AVEIRO</td>\n",
       "      <td>1</td>\n",
       "      <td>Acidentes</td>\n",
       "      <td>13.0</td>\n",
       "      <td>5.428571</td>\n",
       "      <td>2.0</td>\n",
       "      <td>6.0</td>\n",
       "      <td>2.428571</td>\n",
       "      <td>1.0</td>\n",
       "    </tr>\n",
       "    <tr>\n",
       "      <th>1</th>\n",
       "      <td>AVEIRO</td>\n",
       "      <td>1</td>\n",
       "      <td>Assistência e Prevenção</td>\n",
       "      <td>10.0</td>\n",
       "      <td>5.375000</td>\n",
       "      <td>2.0</td>\n",
       "      <td>6.0</td>\n",
       "      <td>2.125000</td>\n",
       "      <td>1.0</td>\n",
       "    </tr>\n",
       "    <tr>\n",
       "      <th>2</th>\n",
       "      <td>AVEIRO</td>\n",
       "      <td>1</td>\n",
       "      <td>Incêndios</td>\n",
       "      <td>13.0</td>\n",
       "      <td>9.285714</td>\n",
       "      <td>3.0</td>\n",
       "      <td>6.0</td>\n",
       "      <td>3.428571</td>\n",
       "      <td>1.0</td>\n",
       "    </tr>\n",
       "    <tr>\n",
       "      <th>3</th>\n",
       "      <td>AVEIRO</td>\n",
       "      <td>1</td>\n",
       "      <td>Incêndios em Bens</td>\n",
       "      <td>9.0</td>\n",
       "      <td>7.250000</td>\n",
       "      <td>5.0</td>\n",
       "      <td>3.0</td>\n",
       "      <td>2.250000</td>\n",
       "      <td>1.0</td>\n",
       "    </tr>\n",
       "    <tr>\n",
       "      <th>4</th>\n",
       "      <td>AVEIRO</td>\n",
       "      <td>1</td>\n",
       "      <td>Operações</td>\n",
       "      <td>12.0</td>\n",
       "      <td>12.000000</td>\n",
       "      <td>12.0</td>\n",
       "      <td>3.0</td>\n",
       "      <td>3.000000</td>\n",
       "      <td>3.0</td>\n",
       "    </tr>\n",
       "    <tr>\n",
       "      <th>...</th>\n",
       "      <td>...</td>\n",
       "      <td>...</td>\n",
       "      <td>...</td>\n",
       "      <td>...</td>\n",
       "      <td>...</td>\n",
       "      <td>...</td>\n",
       "      <td>...</td>\n",
       "      <td>...</td>\n",
       "      <td>...</td>\n",
       "    </tr>\n",
       "    <tr>\n",
       "      <th>1203</th>\n",
       "      <td>ÉVORA</td>\n",
       "      <td>12</td>\n",
       "      <td>Acidentes</td>\n",
       "      <td>13.0</td>\n",
       "      <td>7.181818</td>\n",
       "      <td>4.0</td>\n",
       "      <td>6.0</td>\n",
       "      <td>3.272727</td>\n",
       "      <td>2.0</td>\n",
       "    </tr>\n",
       "    <tr>\n",
       "      <th>1204</th>\n",
       "      <td>ÉVORA</td>\n",
       "      <td>12</td>\n",
       "      <td>Assistência e Prevenção</td>\n",
       "      <td>8.0</td>\n",
       "      <td>3.851852</td>\n",
       "      <td>2.0</td>\n",
       "      <td>4.0</td>\n",
       "      <td>1.740741</td>\n",
       "      <td>1.0</td>\n",
       "    </tr>\n",
       "    <tr>\n",
       "      <th>1205</th>\n",
       "      <td>ÉVORA</td>\n",
       "      <td>12</td>\n",
       "      <td>Incêndios</td>\n",
       "      <td>13.0</td>\n",
       "      <td>8.444444</td>\n",
       "      <td>2.0</td>\n",
       "      <td>6.0</td>\n",
       "      <td>3.222222</td>\n",
       "      <td>1.0</td>\n",
       "    </tr>\n",
       "    <tr>\n",
       "      <th>1206</th>\n",
       "      <td>ÉVORA</td>\n",
       "      <td>12</td>\n",
       "      <td>Incêndios em Bens</td>\n",
       "      <td>13.0</td>\n",
       "      <td>5.294118</td>\n",
       "      <td>2.0</td>\n",
       "      <td>6.0</td>\n",
       "      <td>2.176471</td>\n",
       "      <td>1.0</td>\n",
       "    </tr>\n",
       "    <tr>\n",
       "      <th>1207</th>\n",
       "      <td>ÉVORA</td>\n",
       "      <td>12</td>\n",
       "      <td>Segurança e Serviços</td>\n",
       "      <td>7.0</td>\n",
       "      <td>4.416667</td>\n",
       "      <td>2.0</td>\n",
       "      <td>3.0</td>\n",
       "      <td>2.166667</td>\n",
       "      <td>1.0</td>\n",
       "    </tr>\n",
       "  </tbody>\n",
       "</table>\n",
       "<p>1208 rows × 9 columns</p>\n",
       "</div>"
      ],
      "text/plain": [
       "     Distrito  MesOcorrencia__                    Group  \\\n",
       "0      AVEIRO                1                Acidentes   \n",
       "1      AVEIRO                1  Assistência e Prevenção   \n",
       "2      AVEIRO                1                Incêndios   \n",
       "3      AVEIRO                1        Incêndios em Bens   \n",
       "4      AVEIRO                1                Operações   \n",
       "...       ...              ...                      ...   \n",
       "1203    ÉVORA               12                Acidentes   \n",
       "1204    ÉVORA               12  Assistência e Prevenção   \n",
       "1205    ÉVORA               12                Incêndios   \n",
       "1206    ÉVORA               12        Incêndios em Bens   \n",
       "1207    ÉVORA               12     Segurança e Serviços   \n",
       "\n",
       "      NumeroOperacionaisTerrestresEnvolvidos_max_max  \\\n",
       "0                                               13.0   \n",
       "1                                               10.0   \n",
       "2                                               13.0   \n",
       "3                                                9.0   \n",
       "4                                               12.0   \n",
       "...                                              ...   \n",
       "1203                                            13.0   \n",
       "1204                                             8.0   \n",
       "1205                                            13.0   \n",
       "1206                                            13.0   \n",
       "1207                                             7.0   \n",
       "\n",
       "      NumeroOperacionaisTerrestresEnvolvidos_max_mean  \\\n",
       "0                                            5.428571   \n",
       "1                                            5.375000   \n",
       "2                                            9.285714   \n",
       "3                                            7.250000   \n",
       "4                                           12.000000   \n",
       "...                                               ...   \n",
       "1203                                         7.181818   \n",
       "1204                                         3.851852   \n",
       "1205                                         8.444444   \n",
       "1206                                         5.294118   \n",
       "1207                                         4.416667   \n",
       "\n",
       "      NumeroOperacionaisTerrestresEnvolvidos_max_min  \\\n",
       "0                                                2.0   \n",
       "1                                                2.0   \n",
       "2                                                3.0   \n",
       "3                                                5.0   \n",
       "4                                               12.0   \n",
       "...                                              ...   \n",
       "1203                                             4.0   \n",
       "1204                                             2.0   \n",
       "1205                                             2.0   \n",
       "1206                                             2.0   \n",
       "1207                                             2.0   \n",
       "\n",
       "      NumeroMeiosTerrestresEnvolvidos_max_max  \\\n",
       "0                                         6.0   \n",
       "1                                         6.0   \n",
       "2                                         6.0   \n",
       "3                                         3.0   \n",
       "4                                         3.0   \n",
       "...                                       ...   \n",
       "1203                                      6.0   \n",
       "1204                                      4.0   \n",
       "1205                                      6.0   \n",
       "1206                                      6.0   \n",
       "1207                                      3.0   \n",
       "\n",
       "      NumeroMeiosTerrestresEnvolvidos_max_mean  \\\n",
       "0                                     2.428571   \n",
       "1                                     2.125000   \n",
       "2                                     3.428571   \n",
       "3                                     2.250000   \n",
       "4                                     3.000000   \n",
       "...                                        ...   \n",
       "1203                                  3.272727   \n",
       "1204                                  1.740741   \n",
       "1205                                  3.222222   \n",
       "1206                                  2.176471   \n",
       "1207                                  2.166667   \n",
       "\n",
       "      NumeroMeiosTerrestresEnvolvidos_max_min  \n",
       "0                                         1.0  \n",
       "1                                         1.0  \n",
       "2                                         1.0  \n",
       "3                                         1.0  \n",
       "4                                         3.0  \n",
       "...                                       ...  \n",
       "1203                                      2.0  \n",
       "1204                                      1.0  \n",
       "1205                                      1.0  \n",
       "1206                                      1.0  \n",
       "1207                                      1.0  \n",
       "\n",
       "[1208 rows x 9 columns]"
      ]
     },
     "execution_count": 16,
     "metadata": {},
     "output_type": "execute_result"
    }
   ],
   "source": [
    "# 4. Calculate aggregated values\n",
    "aggregated_df = new_df.groupby(['Distrito', 'MesOcorrencia__', 'Group']).agg({\n",
    "    'NumeroOperacionaisTerrestresEnvolvidos_max_max': 'max',\n",
    "    'NumeroOperacionaisTerrestresEnvolvidos_max_mean': 'mean',\n",
    "    'NumeroOperacionaisTerrestresEnvolvidos_max_min': 'min',\n",
    "    'NumeroMeiosTerrestresEnvolvidos_max_max': 'max',\n",
    "    'NumeroMeiosTerrestresEnvolvidos_max_mean': 'mean',\n",
    "    'NumeroMeiosTerrestresEnvolvidos_max_min': 'min'\n",
    "}).reset_index()\n",
    "\n",
    "aggregated_df"
   ]
  },
  {
   "cell_type": "code",
   "execution_count": 17,
   "metadata": {},
   "outputs": [
    {
     "data": {
      "text/html": [
       "<div>\n",
       "<style scoped>\n",
       "    .dataframe tbody tr th:only-of-type {\n",
       "        vertical-align: middle;\n",
       "    }\n",
       "\n",
       "    .dataframe tbody tr th {\n",
       "        vertical-align: top;\n",
       "    }\n",
       "\n",
       "    .dataframe thead th {\n",
       "        text-align: right;\n",
       "    }\n",
       "</style>\n",
       "<table border=\"1\" class=\"dataframe\">\n",
       "  <thead>\n",
       "    <tr style=\"text-align: right;\">\n",
       "      <th></th>\n",
       "      <th>ID_0</th>\n",
       "      <th>ISO</th>\n",
       "      <th>NAME_0</th>\n",
       "      <th>ID_1</th>\n",
       "      <th>NAME_1</th>\n",
       "      <th>TYPE_1</th>\n",
       "      <th>ENGTYPE_1</th>\n",
       "      <th>NL_NAME_1</th>\n",
       "      <th>VARNAME_1</th>\n",
       "      <th>geometry</th>\n",
       "    </tr>\n",
       "  </thead>\n",
       "  <tbody>\n",
       "    <tr>\n",
       "      <th>0</th>\n",
       "      <td>182</td>\n",
       "      <td>PRT</td>\n",
       "      <td>Portugal</td>\n",
       "      <td>1</td>\n",
       "      <td>ÉVORA</td>\n",
       "      <td>Distrito</td>\n",
       "      <td>District</td>\n",
       "      <td>NaN</td>\n",
       "      <td>NaN</td>\n",
       "      <td>POLYGON ((-8.14205 39.01529, -8.14165 39.01466...</td>\n",
       "    </tr>\n",
       "    <tr>\n",
       "      <th>1</th>\n",
       "      <td>182</td>\n",
       "      <td>PRT</td>\n",
       "      <td>Portugal</td>\n",
       "      <td>2</td>\n",
       "      <td>AVEIRO</td>\n",
       "      <td>Distrito</td>\n",
       "      <td>District</td>\n",
       "      <td>NaN</td>\n",
       "      <td>NaN</td>\n",
       "      <td>MULTIPOLYGON (((-8.68208 40.69458, -8.68208 40...</td>\n",
       "    </tr>\n",
       "    <tr>\n",
       "      <th>2</th>\n",
       "      <td>182</td>\n",
       "      <td>PRT</td>\n",
       "      <td>Portugal</td>\n",
       "      <td>3</td>\n",
       "      <td>AZORES</td>\n",
       "      <td>Regiões autônoma</td>\n",
       "      <td>Autonomous region</td>\n",
       "      <td>NaN</td>\n",
       "      <td>Açores</td>\n",
       "      <td>MULTIPOLYGON (((-25.08910 37.01562, -25.08904 ...</td>\n",
       "    </tr>\n",
       "    <tr>\n",
       "      <th>3</th>\n",
       "      <td>182</td>\n",
       "      <td>PRT</td>\n",
       "      <td>Portugal</td>\n",
       "      <td>4</td>\n",
       "      <td>BEJA</td>\n",
       "      <td>Distrito</td>\n",
       "      <td>District</td>\n",
       "      <td>NaN</td>\n",
       "      <td>NaN</td>\n",
       "      <td>MULTIPOLYGON (((-8.79264 37.71875, -8.79264 37...</td>\n",
       "    </tr>\n",
       "    <tr>\n",
       "      <th>4</th>\n",
       "      <td>182</td>\n",
       "      <td>PRT</td>\n",
       "      <td>Portugal</td>\n",
       "      <td>5</td>\n",
       "      <td>BRAGA</td>\n",
       "      <td>Distrito</td>\n",
       "      <td>District</td>\n",
       "      <td>NaN</td>\n",
       "      <td>NaN</td>\n",
       "      <td>POLYGON ((-8.04962 41.81636, -8.04908 41.81543...</td>\n",
       "    </tr>\n",
       "  </tbody>\n",
       "</table>\n",
       "</div>"
      ],
      "text/plain": [
       "   ID_0  ISO    NAME_0  ID_1  NAME_1            TYPE_1          ENGTYPE_1  \\\n",
       "0   182  PRT  Portugal     1   ÉVORA          Distrito           District   \n",
       "1   182  PRT  Portugal     2  AVEIRO          Distrito           District   \n",
       "2   182  PRT  Portugal     3  AZORES  Regiões autônoma  Autonomous region   \n",
       "3   182  PRT  Portugal     4    BEJA          Distrito           District   \n",
       "4   182  PRT  Portugal     5   BRAGA          Distrito           District   \n",
       "\n",
       "   NL_NAME_1 VARNAME_1                                           geometry  \n",
       "0        NaN       NaN  POLYGON ((-8.14205 39.01529, -8.14165 39.01466...  \n",
       "1        NaN       NaN  MULTIPOLYGON (((-8.68208 40.69458, -8.68208 40...  \n",
       "2        NaN    Açores  MULTIPOLYGON (((-25.08910 37.01562, -25.08904 ...  \n",
       "3        NaN       NaN  MULTIPOLYGON (((-8.79264 37.71875, -8.79264 37...  \n",
       "4        NaN       NaN  POLYGON ((-8.04962 41.81636, -8.04908 41.81543...  "
      ]
     },
     "execution_count": 17,
     "metadata": {},
     "output_type": "execute_result"
    }
   ],
   "source": [
    "# 5. Merge aggregated data with geospatial data\n",
    "# Load the geospatial data for Portugal districts (replace 'path_to_geodata' with the actual path to the geodata file)\n",
    "gdf = gpd.read_file('./data/PRT_adm/PRT_adm1.shp')\n",
    "# Convert values in 'col1' to uppercase\n",
    "gdf['NAME_1'] = gdf['NAME_1'].str.upper()\n",
    "gdf.head()"
   ]
  },
  {
   "cell_type": "code",
   "execution_count": 18,
   "metadata": {},
   "outputs": [],
   "source": [
    "merged_gdf = gdf.merge(aggregated_df, left_on='NAME_1', right_on='Distrito')"
   ]
  },
  {
   "cell_type": "code",
   "execution_count": 19,
   "metadata": {},
   "outputs": [
    {
     "data": {
      "text/html": [
       "<div>\n",
       "<style scoped>\n",
       "    .dataframe tbody tr th:only-of-type {\n",
       "        vertical-align: middle;\n",
       "    }\n",
       "\n",
       "    .dataframe tbody tr th {\n",
       "        vertical-align: top;\n",
       "    }\n",
       "\n",
       "    .dataframe thead th {\n",
       "        text-align: right;\n",
       "    }\n",
       "</style>\n",
       "<table border=\"1\" class=\"dataframe\">\n",
       "  <thead>\n",
       "    <tr style=\"text-align: right;\">\n",
       "      <th></th>\n",
       "      <th>ID_0</th>\n",
       "      <th>ISO</th>\n",
       "      <th>NAME_0</th>\n",
       "      <th>ID_1</th>\n",
       "      <th>NAME_1</th>\n",
       "      <th>TYPE_1</th>\n",
       "      <th>ENGTYPE_1</th>\n",
       "      <th>NL_NAME_1</th>\n",
       "      <th>VARNAME_1</th>\n",
       "      <th>geometry</th>\n",
       "      <th>Distrito</th>\n",
       "      <th>MesOcorrencia__</th>\n",
       "      <th>Group</th>\n",
       "      <th>NumeroOperacionaisTerrestresEnvolvidos_max_max</th>\n",
       "      <th>NumeroOperacionaisTerrestresEnvolvidos_max_mean</th>\n",
       "      <th>NumeroOperacionaisTerrestresEnvolvidos_max_min</th>\n",
       "      <th>NumeroMeiosTerrestresEnvolvidos_max_max</th>\n",
       "      <th>NumeroMeiosTerrestresEnvolvidos_max_mean</th>\n",
       "      <th>NumeroMeiosTerrestresEnvolvidos_max_min</th>\n",
       "    </tr>\n",
       "  </thead>\n",
       "  <tbody>\n",
       "    <tr>\n",
       "      <th>0</th>\n",
       "      <td>182</td>\n",
       "      <td>PRT</td>\n",
       "      <td>Portugal</td>\n",
       "      <td>1</td>\n",
       "      <td>ÉVORA</td>\n",
       "      <td>Distrito</td>\n",
       "      <td>District</td>\n",
       "      <td>NaN</td>\n",
       "      <td>NaN</td>\n",
       "      <td>POLYGON ((-8.14205 39.01529, -8.14165 39.01466...</td>\n",
       "      <td>ÉVORA</td>\n",
       "      <td>1</td>\n",
       "      <td>Acidentes</td>\n",
       "      <td>10.0</td>\n",
       "      <td>6.750000</td>\n",
       "      <td>4.0</td>\n",
       "      <td>4.0</td>\n",
       "      <td>2.750000</td>\n",
       "      <td>2.0</td>\n",
       "    </tr>\n",
       "    <tr>\n",
       "      <th>1</th>\n",
       "      <td>182</td>\n",
       "      <td>PRT</td>\n",
       "      <td>Portugal</td>\n",
       "      <td>1</td>\n",
       "      <td>ÉVORA</td>\n",
       "      <td>Distrito</td>\n",
       "      <td>District</td>\n",
       "      <td>NaN</td>\n",
       "      <td>NaN</td>\n",
       "      <td>POLYGON ((-8.14205 39.01529, -8.14165 39.01466...</td>\n",
       "      <td>ÉVORA</td>\n",
       "      <td>1</td>\n",
       "      <td>Assistência e Prevenção</td>\n",
       "      <td>8.0</td>\n",
       "      <td>4.000000</td>\n",
       "      <td>2.0</td>\n",
       "      <td>4.0</td>\n",
       "      <td>1.875000</td>\n",
       "      <td>1.0</td>\n",
       "    </tr>\n",
       "    <tr>\n",
       "      <th>2</th>\n",
       "      <td>182</td>\n",
       "      <td>PRT</td>\n",
       "      <td>Portugal</td>\n",
       "      <td>1</td>\n",
       "      <td>ÉVORA</td>\n",
       "      <td>Distrito</td>\n",
       "      <td>District</td>\n",
       "      <td>NaN</td>\n",
       "      <td>NaN</td>\n",
       "      <td>POLYGON ((-8.14205 39.01529, -8.14165 39.01466...</td>\n",
       "      <td>ÉVORA</td>\n",
       "      <td>1</td>\n",
       "      <td>Incêndios</td>\n",
       "      <td>13.0</td>\n",
       "      <td>10.666667</td>\n",
       "      <td>6.0</td>\n",
       "      <td>6.0</td>\n",
       "      <td>4.333333</td>\n",
       "      <td>3.0</td>\n",
       "    </tr>\n",
       "    <tr>\n",
       "      <th>3</th>\n",
       "      <td>182</td>\n",
       "      <td>PRT</td>\n",
       "      <td>Portugal</td>\n",
       "      <td>1</td>\n",
       "      <td>ÉVORA</td>\n",
       "      <td>Distrito</td>\n",
       "      <td>District</td>\n",
       "      <td>NaN</td>\n",
       "      <td>NaN</td>\n",
       "      <td>POLYGON ((-8.14205 39.01529, -8.14165 39.01466...</td>\n",
       "      <td>ÉVORA</td>\n",
       "      <td>1</td>\n",
       "      <td>Incêndios em Bens</td>\n",
       "      <td>11.0</td>\n",
       "      <td>6.000000</td>\n",
       "      <td>0.0</td>\n",
       "      <td>3.0</td>\n",
       "      <td>1.666667</td>\n",
       "      <td>0.0</td>\n",
       "    </tr>\n",
       "    <tr>\n",
       "      <th>4</th>\n",
       "      <td>182</td>\n",
       "      <td>PRT</td>\n",
       "      <td>Portugal</td>\n",
       "      <td>1</td>\n",
       "      <td>ÉVORA</td>\n",
       "      <td>Distrito</td>\n",
       "      <td>District</td>\n",
       "      <td>NaN</td>\n",
       "      <td>NaN</td>\n",
       "      <td>POLYGON ((-8.14205 39.01529, -8.14165 39.01466...</td>\n",
       "      <td>ÉVORA</td>\n",
       "      <td>1</td>\n",
       "      <td>Segurança e Serviços</td>\n",
       "      <td>4.0</td>\n",
       "      <td>2.000000</td>\n",
       "      <td>0.0</td>\n",
       "      <td>2.0</td>\n",
       "      <td>1.000000</td>\n",
       "      <td>0.0</td>\n",
       "    </tr>\n",
       "  </tbody>\n",
       "</table>\n",
       "</div>"
      ],
      "text/plain": [
       "   ID_0  ISO    NAME_0  ID_1 NAME_1    TYPE_1 ENGTYPE_1  NL_NAME_1 VARNAME_1  \\\n",
       "0   182  PRT  Portugal     1  ÉVORA  Distrito  District        NaN       NaN   \n",
       "1   182  PRT  Portugal     1  ÉVORA  Distrito  District        NaN       NaN   \n",
       "2   182  PRT  Portugal     1  ÉVORA  Distrito  District        NaN       NaN   \n",
       "3   182  PRT  Portugal     1  ÉVORA  Distrito  District        NaN       NaN   \n",
       "4   182  PRT  Portugal     1  ÉVORA  Distrito  District        NaN       NaN   \n",
       "\n",
       "                                            geometry Distrito  \\\n",
       "0  POLYGON ((-8.14205 39.01529, -8.14165 39.01466...    ÉVORA   \n",
       "1  POLYGON ((-8.14205 39.01529, -8.14165 39.01466...    ÉVORA   \n",
       "2  POLYGON ((-8.14205 39.01529, -8.14165 39.01466...    ÉVORA   \n",
       "3  POLYGON ((-8.14205 39.01529, -8.14165 39.01466...    ÉVORA   \n",
       "4  POLYGON ((-8.14205 39.01529, -8.14165 39.01466...    ÉVORA   \n",
       "\n",
       "   MesOcorrencia__                    Group  \\\n",
       "0                1                Acidentes   \n",
       "1                1  Assistência e Prevenção   \n",
       "2                1                Incêndios   \n",
       "3                1        Incêndios em Bens   \n",
       "4                1     Segurança e Serviços   \n",
       "\n",
       "   NumeroOperacionaisTerrestresEnvolvidos_max_max  \\\n",
       "0                                            10.0   \n",
       "1                                             8.0   \n",
       "2                                            13.0   \n",
       "3                                            11.0   \n",
       "4                                             4.0   \n",
       "\n",
       "   NumeroOperacionaisTerrestresEnvolvidos_max_mean  \\\n",
       "0                                         6.750000   \n",
       "1                                         4.000000   \n",
       "2                                        10.666667   \n",
       "3                                         6.000000   \n",
       "4                                         2.000000   \n",
       "\n",
       "   NumeroOperacionaisTerrestresEnvolvidos_max_min  \\\n",
       "0                                             4.0   \n",
       "1                                             2.0   \n",
       "2                                             6.0   \n",
       "3                                             0.0   \n",
       "4                                             0.0   \n",
       "\n",
       "   NumeroMeiosTerrestresEnvolvidos_max_max  \\\n",
       "0                                      4.0   \n",
       "1                                      4.0   \n",
       "2                                      6.0   \n",
       "3                                      3.0   \n",
       "4                                      2.0   \n",
       "\n",
       "   NumeroMeiosTerrestresEnvolvidos_max_mean  \\\n",
       "0                                  2.750000   \n",
       "1                                  1.875000   \n",
       "2                                  4.333333   \n",
       "3                                  1.666667   \n",
       "4                                  1.000000   \n",
       "\n",
       "   NumeroMeiosTerrestresEnvolvidos_max_min  \n",
       "0                                      2.0  \n",
       "1                                      1.0  \n",
       "2                                      3.0  \n",
       "3                                      0.0  \n",
       "4                                      0.0  "
      ]
     },
     "execution_count": 19,
     "metadata": {},
     "output_type": "execute_result"
    }
   ],
   "source": [
    "merged_gdf.head()"
   ]
  },
  {
   "cell_type": "code",
   "execution_count": 20,
   "metadata": {},
   "outputs": [
    {
     "data": {
      "text/plain": [
       "array(['Acidentes', 'Assistência e Prevenção', 'Incêndios',\n",
       "       'Incêndios em Bens', 'Segurança e Serviços', 'Operações'],\n",
       "      dtype=object)"
      ]
     },
     "execution_count": 20,
     "metadata": {},
     "output_type": "execute_result"
    }
   ],
   "source": [
    "merged_gdf[\"Group\"].unique()"
   ]
  },
  {
   "cell_type": "code",
   "execution_count": 21,
   "metadata": {},
   "outputs": [],
   "source": [
    "def create_heatmap(month,group,var='NumeroOperacionaisTerrestresEnvolvidos_max_max'):\n",
    "    # 6. Plot the map using GeoPandas\n",
    "\t# Choose the desired column for visualization, for example 'NumeroOperacionaisTerrestresEnvolvidos_max_max'\n",
    "\tcolumn_to_visualize = var\n",
    "\tfig, ax = plt.subplots(1, figsize=(10, 10))\n",
    "\t# Select rows where 'col1' is equal to 'def'\n",
    "\tselected_merged_gdf = merged_gdf[merged_gdf['MesOcorrencia__'] == month]\n",
    "\tselected_merged_gdf = selected_merged_gdf[selected_merged_gdf['Group'] == group]\n",
    "\tvmin, vmax = 0, merged_gdf[merged_gdf['Group'] == group][column_to_visualize].max()\n",
    "\n",
    "\tselected_merged_gdf.plot(column=column_to_visualize, cmap='coolwarm', vmin=vmin, vmax=vmax, linewidth=0.8, ax=ax, edgecolor='0.8', legend=True)\n",
    "\tax.axis('off')\n",
    "\n",
    "\t# Split the string into its components using the underscore character\n",
    "\tcomponents = var.split('_')\n",
    "\n",
    "\t# Remove the last element from the list of components\n",
    "\tcomponents.pop()\n",
    "\n",
    "\t# Join the components back together with underscores to form the new string\n",
    "\toutput_str = '_'.join(components)\n",
    "\tplt.title('Map of: '+output_str+\"\\nMonth: \"+str(month)+\"\\nGroup: \"+group)\n",
    "\tplt.show()"
   ]
  },
  {
   "cell_type": "code",
   "execution_count": 22,
   "metadata": {},
   "outputs": [
    {
     "data": {
      "image/png": "[encoded data removed]",
      "text/plain": [
       "<Figure size 1000x1000 with 2 Axes>"
      ]
     },
     "metadata": {},
     "output_type": "display_data"
    }
   ],
   "source": [
    "create_heatmap(9,\"Incêndios\",var='NumeroOperacionaisTerrestresEnvolvidos_max_mean')"
   ]
  },
  {
   "cell_type": "code",
   "execution_count": 23,
   "metadata": {},
   "outputs": [
    {
     "data": {
      "text/plain": [
       "array(['NumeroOperacionaisTerrestresEnvolvidos_max_max',\n",
       "       'NumeroOperacionaisTerrestresEnvolvidos_max_mean',\n",
       "       'NumeroOperacionaisTerrestresEnvolvidos_max_min',\n",
       "       'NumeroMeiosTerrestresEnvolvidos_max_max',\n",
       "       'NumeroMeiosTerrestresEnvolvidos_max_mean',\n",
       "       'NumeroMeiosTerrestresEnvolvidos_max_min'], dtype='<U47')"
      ]
     },
     "execution_count": 23,
     "metadata": {},
     "output_type": "execute_result"
    }
   ],
   "source": [
    "import numpy as np\n",
    "\n",
    "# Create a one-dimensional NumPy array with the specified column names\n",
    "values_array = np.array(['NumeroOperacionaisTerrestresEnvolvidos_max_max',\n",
    "                         'NumeroOperacionaisTerrestresEnvolvidos_max_mean',\n",
    "                         'NumeroOperacionaisTerrestresEnvolvidos_max_min',\n",
    "                         'NumeroMeiosTerrestresEnvolvidos_max_max',\n",
    "                         'NumeroMeiosTerrestresEnvolvidos_max_mean',\n",
    "                         'NumeroMeiosTerrestresEnvolvidos_max_min'])\n",
    "values_array"
   ]
  },
  {
   "cell_type": "code",
   "execution_count": 24,
   "metadata": {},
   "outputs": [
    {
     "data": {
      "text/plain": [
       "array([ 1,  2,  3,  4,  5,  6,  7,  8,  9, 10, 11, 12])"
      ]
     },
     "execution_count": 24,
     "metadata": {},
     "output_type": "execute_result"
    }
   ],
   "source": [
    "new_df['MesOcorrencia__'].unique()"
   ]
  },
  {
   "cell_type": "code",
   "execution_count": 27,
   "metadata": {},
   "outputs": [
    {
     "data": {
      "application/vnd.jupyter.widget-view+json": {
       "model_id": "d3742cae27ac43efaf5160d148ef4c0f",
       "version_major": 2,
       "version_minor": 0
      },
      "text/plain": [
       "interactive(children=(Dropdown(description='Variable:', options=('NumeroOperacionaisTerrestresEnvolvidos_max_m…"
      ]
     },
     "metadata": {},
     "output_type": "display_data"
    }
   ],
   "source": [
    "from ipywidgets import interact, Dropdown\n",
    "from IPython.display import clear_output\n",
    "\n",
    "# Create the interactive dropdown menu\n",
    "var = values_array\n",
    "months = new_df['MesOcorrencia__'].unique()\n",
    "groups = new_df['Group'].unique()\n",
    "\n",
    "dropdown_var = Dropdown(options=var, value=var[0], description='Variable:')\n",
    "dropdown_month = Dropdown(options=months, value=months[0], description='MesOcorrencia__:')\n",
    "dropdown_group = Dropdown(options=groups, value=groups[0], description='Group:')\n",
    "\n",
    "# Create the interactive plot with the dropdown menu\n",
    "@interact(var=dropdown_var, month=dropdown_month, group=dropdown_group)\n",
    "def update_chart(var, month, group):\n",
    "    clear_output(wait=True)  # Clear the previous plot\n",
    "    create_heatmap(month, group, var)"
   ]
  },
  {
   "cell_type": "code",
   "execution_count": null,
   "metadata": {},
   "outputs": [
    {
     "name": "stderr",
     "output_type": "stream",
     "text": [
      "/home/miguel/anaconda3/lib/python3.8/site-packages/seaborn/axisgrid.py:848: FutureWarning: \n",
      "\n",
      "The `ci` parameter is deprecated. Use `errorbar=None` for the same effect.\n",
      "\n",
      "  func(*plot_args, **plot_kwargs)\n",
      "/home/miguel/anaconda3/lib/python3.8/site-packages/seaborn/axisgrid.py:848: FutureWarning: \n",
      "\n",
      "The `ci` parameter is deprecated. Use `errorbar=None` for the same effect.\n",
      "\n",
      "  func(*plot_args, **plot_kwargs)\n",
      "/home/miguel/anaconda3/lib/python3.8/site-packages/seaborn/axisgrid.py:848: FutureWarning: \n",
      "\n",
      "The `ci` parameter is deprecated. Use `errorbar=None` for the same effect.\n",
      "\n",
      "  func(*plot_args, **plot_kwargs)\n",
      "/home/miguel/anaconda3/lib/python3.8/site-packages/seaborn/axisgrid.py:848: FutureWarning: \n",
      "\n",
      "The `ci` parameter is deprecated. Use `errorbar=None` for the same effect.\n",
      "\n",
      "  func(*plot_args, **plot_kwargs)\n",
      "/home/miguel/anaconda3/lib/python3.8/site-packages/seaborn/axisgrid.py:848: FutureWarning: \n",
      "\n",
      "The `ci` parameter is deprecated. Use `errorbar=None` for the same effect.\n",
      "\n",
      "  func(*plot_args, **plot_kwargs)\n",
      "/home/miguel/anaconda3/lib/python3.8/site-packages/seaborn/axisgrid.py:848: FutureWarning: \n",
      "\n",
      "The `ci` parameter is deprecated. Use `errorbar=None` for the same effect.\n",
      "\n",
      "  func(*plot_args, **plot_kwargs)\n",
      "/home/miguel/anaconda3/lib/python3.8/site-packages/seaborn/axisgrid.py:848: FutureWarning: \n",
      "\n",
      "The `ci` parameter is deprecated. Use `errorbar=None` for the same effect.\n",
      "\n",
      "  func(*plot_args, **plot_kwargs)\n",
      "/home/miguel/anaconda3/lib/python3.8/site-packages/seaborn/axisgrid.py:848: FutureWarning: \n",
      "\n",
      "The `ci` parameter is deprecated. Use `errorbar=None` for the same effect.\n",
      "\n",
      "  func(*plot_args, **plot_kwargs)\n",
      "/home/miguel/anaconda3/lib/python3.8/site-packages/seaborn/axisgrid.py:848: FutureWarning: \n",
      "\n",
      "The `ci` parameter is deprecated. Use `errorbar=None` for the same effect.\n",
      "\n",
      "  func(*plot_args, **plot_kwargs)\n",
      "/home/miguel/anaconda3/lib/python3.8/site-packages/seaborn/axisgrid.py:848: FutureWarning: \n",
      "\n",
      "The `ci` parameter is deprecated. Use `errorbar=None` for the same effect.\n",
      "\n",
      "  func(*plot_args, **plot_kwargs)\n",
      "/home/miguel/anaconda3/lib/python3.8/site-packages/seaborn/axisgrid.py:848: FutureWarning: \n",
      "\n",
      "The `ci` parameter is deprecated. Use `errorbar=None` for the same effect.\n",
      "\n",
      "  func(*plot_args, **plot_kwargs)\n",
      "/home/miguel/anaconda3/lib/python3.8/site-packages/seaborn/axisgrid.py:848: FutureWarning: \n",
      "\n",
      "The `ci` parameter is deprecated. Use `errorbar=None` for the same effect.\n",
      "\n",
      "  func(*plot_args, **plot_kwargs)\n",
      "/home/miguel/anaconda3/lib/python3.8/site-packages/seaborn/axisgrid.py:848: FutureWarning: \n",
      "\n",
      "The `ci` parameter is deprecated. Use `errorbar=None` for the same effect.\n",
      "\n",
      "  func(*plot_args, **plot_kwargs)\n",
      "/home/miguel/anaconda3/lib/python3.8/site-packages/seaborn/axisgrid.py:848: FutureWarning: \n",
      "\n",
      "The `ci` parameter is deprecated. Use `errorbar=None` for the same effect.\n",
      "\n",
      "  func(*plot_args, **plot_kwargs)\n",
      "/home/miguel/anaconda3/lib/python3.8/site-packages/seaborn/axisgrid.py:848: FutureWarning: \n",
      "\n",
      "The `ci` parameter is deprecated. Use `errorbar=None` for the same effect.\n",
      "\n",
      "  func(*plot_args, **plot_kwargs)\n",
      "/home/miguel/anaconda3/lib/python3.8/site-packages/seaborn/axisgrid.py:848: FutureWarning: \n",
      "\n",
      "The `ci` parameter is deprecated. Use `errorbar=None` for the same effect.\n",
      "\n",
      "  func(*plot_args, **plot_kwargs)\n",
      "/home/miguel/anaconda3/lib/python3.8/site-packages/seaborn/axisgrid.py:848: FutureWarning: \n",
      "\n",
      "The `ci` parameter is deprecated. Use `errorbar=None` for the same effect.\n",
      "\n",
      "  func(*plot_args, **plot_kwargs)\n",
      "/home/miguel/anaconda3/lib/python3.8/site-packages/seaborn/axisgrid.py:848: FutureWarning: \n",
      "\n",
      "The `ci` parameter is deprecated. Use `errorbar=None` for the same effect.\n",
      "\n",
      "  func(*plot_args, **plot_kwargs)\n",
      "/home/miguel/anaconda3/lib/python3.8/site-packages/seaborn/axisgrid.py:848: FutureWarning: \n",
      "\n",
      "The `ci` parameter is deprecated. Use `errorbar=None` for the same effect.\n",
      "\n",
      "  func(*plot_args, **plot_kwargs)\n",
      "/home/miguel/anaconda3/lib/python3.8/site-packages/seaborn/axisgrid.py:848: FutureWarning: \n",
      "\n",
      "The `ci` parameter is deprecated. Use `errorbar=None` for the same effect.\n",
      "\n",
      "  func(*plot_args, **plot_kwargs)\n",
      "/home/miguel/anaconda3/lib/python3.8/site-packages/seaborn/axisgrid.py:848: FutureWarning: \n",
      "\n",
      "The `ci` parameter is deprecated. Use `errorbar=None` for the same effect.\n",
      "\n",
      "  func(*plot_args, **plot_kwargs)\n",
      "/home/miguel/anaconda3/lib/python3.8/site-packages/seaborn/axisgrid.py:848: FutureWarning: \n",
      "\n",
      "The `ci` parameter is deprecated. Use `errorbar=None` for the same effect.\n",
      "\n",
      "  func(*plot_args, **plot_kwargs)\n",
      "/home/miguel/anaconda3/lib/python3.8/site-packages/seaborn/axisgrid.py:848: FutureWarning: \n",
      "\n",
      "The `ci` parameter is deprecated. Use `errorbar=None` for the same effect.\n",
      "\n",
      "  func(*plot_args, **plot_kwargs)\n",
      "/home/miguel/anaconda3/lib/python3.8/site-packages/seaborn/axisgrid.py:848: FutureWarning: \n",
      "\n",
      "The `ci` parameter is deprecated. Use `errorbar=None` for the same effect.\n",
      "\n",
      "  func(*plot_args, **plot_kwargs)\n",
      "/home/miguel/anaconda3/lib/python3.8/site-packages/seaborn/axisgrid.py:848: FutureWarning: \n",
      "\n",
      "The `ci` parameter is deprecated. Use `errorbar=None` for the same effect.\n",
      "\n",
      "  func(*plot_args, **plot_kwargs)\n",
      "/home/miguel/anaconda3/lib/python3.8/site-packages/seaborn/axisgrid.py:848: FutureWarning: \n",
      "\n",
      "The `ci` parameter is deprecated. Use `errorbar=None` for the same effect.\n",
      "\n",
      "  func(*plot_args, **plot_kwargs)\n",
      "/home/miguel/anaconda3/lib/python3.8/site-packages/seaborn/axisgrid.py:848: FutureWarning: \n",
      "\n",
      "The `ci` parameter is deprecated. Use `errorbar=None` for the same effect.\n",
      "\n",
      "  func(*plot_args, **plot_kwargs)\n",
      "/home/miguel/anaconda3/lib/python3.8/site-packages/seaborn/axisgrid.py:848: FutureWarning: \n",
      "\n",
      "The `ci` parameter is deprecated. Use `errorbar=None` for the same effect.\n",
      "\n",
      "  func(*plot_args, **plot_kwargs)\n",
      "/home/miguel/anaconda3/lib/python3.8/site-packages/seaborn/axisgrid.py:848: FutureWarning: \n",
      "\n",
      "The `ci` parameter is deprecated. Use `errorbar=None` for the same effect.\n",
      "\n",
      "  func(*plot_args, **plot_kwargs)\n",
      "/home/miguel/anaconda3/lib/python3.8/site-packages/seaborn/axisgrid.py:848: FutureWarning: \n",
      "\n",
      "The `ci` parameter is deprecated. Use `errorbar=None` for the same effect.\n",
      "\n",
      "  func(*plot_args, **plot_kwargs)\n",
      "/home/miguel/anaconda3/lib/python3.8/site-packages/seaborn/axisgrid.py:848: FutureWarning: \n",
      "\n",
      "The `ci` parameter is deprecated. Use `errorbar=None` for the same effect.\n",
      "\n",
      "  func(*plot_args, **plot_kwargs)\n",
      "/home/miguel/anaconda3/lib/python3.8/site-packages/seaborn/axisgrid.py:848: FutureWarning: \n",
      "\n",
      "The `ci` parameter is deprecated. Use `errorbar=None` for the same effect.\n",
      "\n",
      "  func(*plot_args, **plot_kwargs)\n",
      "/home/miguel/anaconda3/lib/python3.8/site-packages/seaborn/axisgrid.py:848: FutureWarning: \n",
      "\n",
      "The `ci` parameter is deprecated. Use `errorbar=None` for the same effect.\n",
      "\n",
      "  func(*plot_args, **plot_kwargs)\n",
      "/home/miguel/anaconda3/lib/python3.8/site-packages/seaborn/axisgrid.py:848: FutureWarning: \n",
      "\n",
      "The `ci` parameter is deprecated. Use `errorbar=None` for the same effect.\n",
      "\n",
      "  func(*plot_args, **plot_kwargs)\n",
      "/home/miguel/anaconda3/lib/python3.8/site-packages/seaborn/axisgrid.py:848: FutureWarning: \n",
      "\n",
      "The `ci` parameter is deprecated. Use `errorbar=None` for the same effect.\n",
      "\n",
      "  func(*plot_args, **plot_kwargs)\n",
      "/home/miguel/anaconda3/lib/python3.8/site-packages/seaborn/axisgrid.py:848: FutureWarning: \n",
      "\n",
      "The `ci` parameter is deprecated. Use `errorbar=None` for the same effect.\n",
      "\n",
      "  func(*plot_args, **plot_kwargs)\n",
      "/home/miguel/anaconda3/lib/python3.8/site-packages/seaborn/axisgrid.py:848: FutureWarning: \n",
      "\n",
      "The `ci` parameter is deprecated. Use `errorbar=None` for the same effect.\n",
      "\n",
      "  func(*plot_args, **plot_kwargs)\n",
      "/home/miguel/anaconda3/lib/python3.8/site-packages/seaborn/axisgrid.py:848: FutureWarning: \n",
      "\n",
      "The `ci` parameter is deprecated. Use `errorbar=None` for the same effect.\n",
      "\n",
      "  func(*plot_args, **plot_kwargs)\n",
      "/home/miguel/anaconda3/lib/python3.8/site-packages/seaborn/axisgrid.py:848: FutureWarning: \n",
      "\n",
      "The `ci` parameter is deprecated. Use `errorbar=None` for the same effect.\n",
      "\n",
      "  func(*plot_args, **plot_kwargs)\n",
      "/home/miguel/anaconda3/lib/python3.8/site-packages/seaborn/axisgrid.py:848: FutureWarning: \n",
      "\n",
      "The `ci` parameter is deprecated. Use `errorbar=None` for the same effect.\n",
      "\n",
      "  func(*plot_args, **plot_kwargs)\n",
      "/home/miguel/anaconda3/lib/python3.8/site-packages/seaborn/axisgrid.py:848: FutureWarning: \n",
      "\n",
      "The `ci` parameter is deprecated. Use `errorbar=None` for the same effect.\n",
      "\n",
      "  func(*plot_args, **plot_kwargs)\n",
      "/home/miguel/anaconda3/lib/python3.8/site-packages/seaborn/axisgrid.py:848: FutureWarning: \n",
      "\n",
      "The `ci` parameter is deprecated. Use `errorbar=None` for the same effect.\n",
      "\n",
      "  func(*plot_args, **plot_kwargs)\n",
      "/home/miguel/anaconda3/lib/python3.8/site-packages/seaborn/axisgrid.py:848: FutureWarning: \n",
      "\n",
      "The `ci` parameter is deprecated. Use `errorbar=None` for the same effect.\n",
      "\n",
      "  func(*plot_args, **plot_kwargs)\n",
      "/home/miguel/anaconda3/lib/python3.8/site-packages/seaborn/axisgrid.py:848: FutureWarning: \n",
      "\n",
      "The `ci` parameter is deprecated. Use `errorbar=None` for the same effect.\n",
      "\n",
      "  func(*plot_args, **plot_kwargs)\n",
      "/home/miguel/anaconda3/lib/python3.8/site-packages/seaborn/axisgrid.py:848: FutureWarning: \n",
      "\n",
      "The `ci` parameter is deprecated. Use `errorbar=None` for the same effect.\n",
      "\n",
      "  func(*plot_args, **plot_kwargs)\n",
      "/home/miguel/anaconda3/lib/python3.8/site-packages/seaborn/axisgrid.py:848: FutureWarning: \n",
      "\n",
      "The `ci` parameter is deprecated. Use `errorbar=None` for the same effect.\n",
      "\n",
      "  func(*plot_args, **plot_kwargs)\n",
      "/home/miguel/anaconda3/lib/python3.8/site-packages/seaborn/axisgrid.py:848: FutureWarning: \n",
      "\n",
      "The `ci` parameter is deprecated. Use `errorbar=None` for the same effect.\n",
      "\n",
      "  func(*plot_args, **plot_kwargs)\n",
      "/home/miguel/anaconda3/lib/python3.8/site-packages/seaborn/axisgrid.py:848: FutureWarning: \n",
      "\n",
      "The `ci` parameter is deprecated. Use `errorbar=None` for the same effect.\n",
      "\n",
      "  func(*plot_args, **plot_kwargs)\n",
      "/home/miguel/anaconda3/lib/python3.8/site-packages/seaborn/axisgrid.py:848: FutureWarning: \n",
      "\n",
      "The `ci` parameter is deprecated. Use `errorbar=None` for the same effect.\n",
      "\n",
      "  func(*plot_args, **plot_kwargs)\n",
      "/home/miguel/anaconda3/lib/python3.8/site-packages/seaborn/axisgrid.py:848: FutureWarning: \n",
      "\n",
      "The `ci` parameter is deprecated. Use `errorbar=None` for the same effect.\n",
      "\n",
      "  func(*plot_args, **plot_kwargs)\n",
      "/home/miguel/anaconda3/lib/python3.8/site-packages/seaborn/axisgrid.py:848: FutureWarning: \n",
      "\n",
      "The `ci` parameter is deprecated. Use `errorbar=None` for the same effect.\n",
      "\n",
      "  func(*plot_args, **plot_kwargs)\n",
      "/home/miguel/anaconda3/lib/python3.8/site-packages/seaborn/axisgrid.py:848: FutureWarning: \n",
      "\n",
      "The `ci` parameter is deprecated. Use `errorbar=None` for the same effect.\n",
      "\n",
      "  func(*plot_args, **plot_kwargs)\n",
      "/home/miguel/anaconda3/lib/python3.8/site-packages/seaborn/axisgrid.py:848: FutureWarning: \n",
      "\n",
      "The `ci` parameter is deprecated. Use `errorbar=None` for the same effect.\n",
      "\n",
      "  func(*plot_args, **plot_kwargs)\n",
      "/home/miguel/anaconda3/lib/python3.8/site-packages/seaborn/axisgrid.py:848: FutureWarning: \n",
      "\n",
      "The `ci` parameter is deprecated. Use `errorbar=None` for the same effect.\n",
      "\n",
      "  func(*plot_args, **plot_kwargs)\n",
      "/home/miguel/anaconda3/lib/python3.8/site-packages/seaborn/axisgrid.py:848: FutureWarning: \n",
      "\n",
      "The `ci` parameter is deprecated. Use `errorbar=None` for the same effect.\n",
      "\n",
      "  func(*plot_args, **plot_kwargs)\n",
      "/home/miguel/anaconda3/lib/python3.8/site-packages/seaborn/axisgrid.py:848: FutureWarning: \n",
      "\n",
      "The `ci` parameter is deprecated. Use `errorbar=None` for the same effect.\n",
      "\n",
      "  func(*plot_args, **plot_kwargs)\n",
      "/home/miguel/anaconda3/lib/python3.8/site-packages/seaborn/axisgrid.py:848: FutureWarning: \n",
      "\n",
      "The `ci` parameter is deprecated. Use `errorbar=None` for the same effect.\n",
      "\n",
      "  func(*plot_args, **plot_kwargs)\n",
      "/home/miguel/anaconda3/lib/python3.8/site-packages/seaborn/axisgrid.py:848: FutureWarning: \n",
      "\n",
      "The `ci` parameter is deprecated. Use `errorbar=None` for the same effect.\n",
      "\n",
      "  func(*plot_args, **plot_kwargs)\n",
      "/home/miguel/anaconda3/lib/python3.8/site-packages/seaborn/axisgrid.py:848: FutureWarning: \n",
      "\n",
      "The `ci` parameter is deprecated. Use `errorbar=None` for the same effect.\n",
      "\n",
      "  func(*plot_args, **plot_kwargs)\n",
      "/home/miguel/anaconda3/lib/python3.8/site-packages/seaborn/axisgrid.py:848: FutureWarning: \n",
      "\n",
      "The `ci` parameter is deprecated. Use `errorbar=None` for the same effect.\n",
      "\n",
      "  func(*plot_args, **plot_kwargs)\n",
      "/home/miguel/anaconda3/lib/python3.8/site-packages/seaborn/axisgrid.py:848: FutureWarning: \n",
      "\n",
      "The `ci` parameter is deprecated. Use `errorbar=None` for the same effect.\n",
      "\n",
      "  func(*plot_args, **plot_kwargs)\n",
      "/home/miguel/anaconda3/lib/python3.8/site-packages/seaborn/axisgrid.py:848: FutureWarning: \n",
      "\n",
      "The `ci` parameter is deprecated. Use `errorbar=None` for the same effect.\n",
      "\n",
      "  func(*plot_args, **plot_kwargs)\n",
      "/home/miguel/anaconda3/lib/python3.8/site-packages/seaborn/axisgrid.py:848: FutureWarning: \n",
      "\n",
      "The `ci` parameter is deprecated. Use `errorbar=None` for the same effect.\n",
      "\n",
      "  func(*plot_args, **plot_kwargs)\n",
      "/home/miguel/anaconda3/lib/python3.8/site-packages/seaborn/axisgrid.py:848: FutureWarning: \n",
      "\n",
      "The `ci` parameter is deprecated. Use `errorbar=None` for the same effect.\n",
      "\n",
      "  func(*plot_args, **plot_kwargs)\n",
      "/home/miguel/anaconda3/lib/python3.8/site-packages/seaborn/axisgrid.py:848: FutureWarning: \n",
      "\n",
      "The `ci` parameter is deprecated. Use `errorbar=None` for the same effect.\n",
      "\n",
      "  func(*plot_args, **plot_kwargs)\n",
      "/home/miguel/anaconda3/lib/python3.8/site-packages/seaborn/axisgrid.py:848: FutureWarning: \n",
      "\n",
      "The `ci` parameter is deprecated. Use `errorbar=None` for the same effect.\n",
      "\n",
      "  func(*plot_args, **plot_kwargs)\n",
      "/home/miguel/anaconda3/lib/python3.8/site-packages/seaborn/axisgrid.py:848: FutureWarning: \n",
      "\n",
      "The `ci` parameter is deprecated. Use `errorbar=None` for the same effect.\n",
      "\n",
      "  func(*plot_args, **plot_kwargs)\n",
      "/home/miguel/anaconda3/lib/python3.8/site-packages/seaborn/axisgrid.py:848: FutureWarning: \n",
      "\n",
      "The `ci` parameter is deprecated. Use `errorbar=None` for the same effect.\n",
      "\n",
      "  func(*plot_args, **plot_kwargs)\n",
      "/home/miguel/anaconda3/lib/python3.8/site-packages/seaborn/axisgrid.py:848: FutureWarning: \n",
      "\n",
      "The `ci` parameter is deprecated. Use `errorbar=None` for the same effect.\n",
      "\n",
      "  func(*plot_args, **plot_kwargs)\n",
      "/home/miguel/anaconda3/lib/python3.8/site-packages/seaborn/axisgrid.py:848: FutureWarning: \n",
      "\n",
      "The `ci` parameter is deprecated. Use `errorbar=None` for the same effect.\n",
      "\n",
      "  func(*plot_args, **plot_kwargs)\n",
      "/home/miguel/anaconda3/lib/python3.8/site-packages/seaborn/axisgrid.py:848: FutureWarning: \n",
      "\n",
      "The `ci` parameter is deprecated. Use `errorbar=None` for the same effect.\n",
      "\n",
      "  func(*plot_args, **plot_kwargs)\n",
      "/home/miguel/anaconda3/lib/python3.8/site-packages/seaborn/axisgrid.py:848: FutureWarning: \n",
      "\n",
      "The `ci` parameter is deprecated. Use `errorbar=None` for the same effect.\n",
      "\n",
      "  func(*plot_args, **plot_kwargs)\n",
      "/home/miguel/anaconda3/lib/python3.8/site-packages/seaborn/axisgrid.py:848: FutureWarning: \n",
      "\n",
      "The `ci` parameter is deprecated. Use `errorbar=None` for the same effect.\n",
      "\n",
      "  func(*plot_args, **plot_kwargs)\n",
      "/home/miguel/anaconda3/lib/python3.8/site-packages/seaborn/axisgrid.py:848: FutureWarning: \n",
      "\n",
      "The `ci` parameter is deprecated. Use `errorbar=None` for the same effect.\n",
      "\n",
      "  func(*plot_args, **plot_kwargs)\n",
      "/home/miguel/anaconda3/lib/python3.8/site-packages/seaborn/axisgrid.py:848: FutureWarning: \n",
      "\n",
      "The `ci` parameter is deprecated. Use `errorbar=None` for the same effect.\n",
      "\n",
      "  func(*plot_args, **plot_kwargs)\n",
      "/home/miguel/anaconda3/lib/python3.8/site-packages/seaborn/axisgrid.py:848: FutureWarning: \n",
      "\n",
      "The `ci` parameter is deprecated. Use `errorbar=None` for the same effect.\n",
      "\n",
      "  func(*plot_args, **plot_kwargs)\n",
      "/home/miguel/anaconda3/lib/python3.8/site-packages/seaborn/axisgrid.py:848: FutureWarning: \n",
      "\n",
      "The `ci` parameter is deprecated. Use `errorbar=None` for the same effect.\n",
      "\n",
      "  func(*plot_args, **plot_kwargs)\n",
      "/home/miguel/anaconda3/lib/python3.8/site-packages/seaborn/axisgrid.py:848: FutureWarning: \n",
      "\n",
      "The `ci` parameter is deprecated. Use `errorbar=None` for the same effect.\n",
      "\n",
      "  func(*plot_args, **plot_kwargs)\n",
      "/home/miguel/anaconda3/lib/python3.8/site-packages/seaborn/axisgrid.py:848: FutureWarning: \n",
      "\n",
      "The `ci` parameter is deprecated. Use `errorbar=None` for the same effect.\n",
      "\n",
      "  func(*plot_args, **plot_kwargs)\n",
      "/home/miguel/anaconda3/lib/python3.8/site-packages/seaborn/axisgrid.py:848: FutureWarning: \n",
      "\n",
      "The `ci` parameter is deprecated. Use `errorbar=None` for the same effect.\n",
      "\n",
      "  func(*plot_args, **plot_kwargs)\n",
      "/home/miguel/anaconda3/lib/python3.8/site-packages/seaborn/axisgrid.py:848: FutureWarning: \n",
      "\n",
      "The `ci` parameter is deprecated. Use `errorbar=None` for the same effect.\n",
      "\n",
      "  func(*plot_args, **plot_kwargs)\n",
      "/home/miguel/anaconda3/lib/python3.8/site-packages/seaborn/axisgrid.py:848: FutureWarning: \n",
      "\n",
      "The `ci` parameter is deprecated. Use `errorbar=None` for the same effect.\n",
      "\n",
      "  func(*plot_args, **plot_kwargs)\n",
      "/home/miguel/anaconda3/lib/python3.8/site-packages/seaborn/axisgrid.py:848: FutureWarning: \n",
      "\n",
      "The `ci` parameter is deprecated. Use `errorbar=None` for the same effect.\n",
      "\n",
      "  func(*plot_args, **plot_kwargs)\n",
      "/home/miguel/anaconda3/lib/python3.8/site-packages/seaborn/axisgrid.py:848: FutureWarning: \n",
      "\n",
      "The `ci` parameter is deprecated. Use `errorbar=None` for the same effect.\n",
      "\n",
      "  func(*plot_args, **plot_kwargs)\n",
      "/home/miguel/anaconda3/lib/python3.8/site-packages/seaborn/axisgrid.py:848: FutureWarning: \n",
      "\n",
      "The `ci` parameter is deprecated. Use `errorbar=None` for the same effect.\n",
      "\n",
      "  func(*plot_args, **plot_kwargs)\n",
      "/home/miguel/anaconda3/lib/python3.8/site-packages/seaborn/axisgrid.py:848: FutureWarning: \n",
      "\n",
      "The `ci` parameter is deprecated. Use `errorbar=None` for the same effect.\n",
      "\n",
      "  func(*plot_args, **plot_kwargs)\n",
      "/home/miguel/anaconda3/lib/python3.8/site-packages/seaborn/axisgrid.py:848: FutureWarning: \n",
      "\n",
      "The `ci` parameter is deprecated. Use `errorbar=None` for the same effect.\n",
      "\n",
      "  func(*plot_args, **plot_kwargs)\n",
      "/home/miguel/anaconda3/lib/python3.8/site-packages/seaborn/axisgrid.py:848: FutureWarning: \n",
      "\n",
      "The `ci` parameter is deprecated. Use `errorbar=None` for the same effect.\n",
      "\n",
      "  func(*plot_args, **plot_kwargs)\n",
      "/home/miguel/anaconda3/lib/python3.8/site-packages/seaborn/axisgrid.py:848: FutureWarning: \n",
      "\n",
      "The `ci` parameter is deprecated. Use `errorbar=None` for the same effect.\n",
      "\n",
      "  func(*plot_args, **plot_kwargs)\n",
      "/home/miguel/anaconda3/lib/python3.8/site-packages/seaborn/axisgrid.py:848: FutureWarning: \n",
      "\n",
      "The `ci` parameter is deprecated. Use `errorbar=None` for the same effect.\n",
      "\n",
      "  func(*plot_args, **plot_kwargs)\n",
      "/home/miguel/anaconda3/lib/python3.8/site-packages/seaborn/axisgrid.py:848: FutureWarning: \n",
      "\n",
      "The `ci` parameter is deprecated. Use `errorbar=None` for the same effect.\n",
      "\n",
      "  func(*plot_args, **plot_kwargs)\n",
      "/home/miguel/anaconda3/lib/python3.8/site-packages/seaborn/axisgrid.py:848: FutureWarning: \n",
      "\n",
      "The `ci` parameter is deprecated. Use `errorbar=None` for the same effect.\n",
      "\n",
      "  func(*plot_args, **plot_kwargs)\n",
      "/home/miguel/anaconda3/lib/python3.8/site-packages/seaborn/axisgrid.py:848: FutureWarning: \n",
      "\n",
      "The `ci` parameter is deprecated. Use `errorbar=None` for the same effect.\n",
      "\n",
      "  func(*plot_args, **plot_kwargs)\n",
      "/home/miguel/anaconda3/lib/python3.8/site-packages/seaborn/axisgrid.py:848: FutureWarning: \n",
      "\n",
      "The `ci` parameter is deprecated. Use `errorbar=None` for the same effect.\n",
      "\n",
      "  func(*plot_args, **plot_kwargs)\n",
      "/home/miguel/anaconda3/lib/python3.8/site-packages/seaborn/axisgrid.py:848: FutureWarning: \n",
      "\n",
      "The `ci` parameter is deprecated. Use `errorbar=None` for the same effect.\n",
      "\n",
      "  func(*plot_args, **plot_kwargs)\n",
      "/home/miguel/anaconda3/lib/python3.8/site-packages/seaborn/axisgrid.py:848: FutureWarning: \n",
      "\n",
      "The `ci` parameter is deprecated. Use `errorbar=None` for the same effect.\n",
      "\n",
      "  func(*plot_args, **plot_kwargs)\n",
      "/home/miguel/anaconda3/lib/python3.8/site-packages/seaborn/axisgrid.py:848: FutureWarning: \n",
      "\n",
      "The `ci` parameter is deprecated. Use `errorbar=None` for the same effect.\n",
      "\n",
      "  func(*plot_args, **plot_kwargs)\n",
      "/home/miguel/anaconda3/lib/python3.8/site-packages/seaborn/axisgrid.py:848: FutureWarning: \n",
      "\n",
      "The `ci` parameter is deprecated. Use `errorbar=None` for the same effect.\n",
      "\n",
      "  func(*plot_args, **plot_kwargs)\n",
      "/home/miguel/anaconda3/lib/python3.8/site-packages/seaborn/axisgrid.py:848: FutureWarning: \n",
      "\n",
      "The `ci` parameter is deprecated. Use `errorbar=None` for the same effect.\n",
      "\n",
      "  func(*plot_args, **plot_kwargs)\n",
      "/home/miguel/anaconda3/lib/python3.8/site-packages/seaborn/axisgrid.py:848: FutureWarning: \n",
      "\n",
      "The `ci` parameter is deprecated. Use `errorbar=None` for the same effect.\n",
      "\n",
      "  func(*plot_args, **plot_kwargs)\n",
      "/home/miguel/anaconda3/lib/python3.8/site-packages/seaborn/axisgrid.py:848: FutureWarning: \n",
      "\n",
      "The `ci` parameter is deprecated. Use `errorbar=None` for the same effect.\n",
      "\n",
      "  func(*plot_args, **plot_kwargs)\n",
      "/home/miguel/anaconda3/lib/python3.8/site-packages/seaborn/axisgrid.py:848: FutureWarning: \n",
      "\n",
      "The `ci` parameter is deprecated. Use `errorbar=None` for the same effect.\n",
      "\n",
      "  func(*plot_args, **plot_kwargs)\n",
      "/home/miguel/anaconda3/lib/python3.8/site-packages/seaborn/axisgrid.py:848: FutureWarning: \n",
      "\n",
      "The `ci` parameter is deprecated. Use `errorbar=None` for the same effect.\n",
      "\n",
      "  func(*plot_args, **plot_kwargs)\n",
      "/home/miguel/anaconda3/lib/python3.8/site-packages/seaborn/axisgrid.py:848: FutureWarning: \n",
      "\n",
      "The `ci` parameter is deprecated. Use `errorbar=None` for the same effect.\n",
      "\n",
      "  func(*plot_args, **plot_kwargs)\n",
      "/home/miguel/anaconda3/lib/python3.8/site-packages/seaborn/axisgrid.py:848: FutureWarning: \n",
      "\n",
      "The `ci` parameter is deprecated. Use `errorbar=None` for the same effect.\n",
      "\n",
      "  func(*plot_args, **plot_kwargs)\n",
      "/home/miguel/anaconda3/lib/python3.8/site-packages/seaborn/axisgrid.py:848: FutureWarning: \n",
      "\n",
      "The `ci` parameter is deprecated. Use `errorbar=None` for the same effect.\n",
      "\n",
      "  func(*plot_args, **plot_kwargs)\n",
      "/home/miguel/anaconda3/lib/python3.8/site-packages/seaborn/axisgrid.py:848: FutureWarning: \n",
      "\n",
      "The `ci` parameter is deprecated. Use `errorbar=None` for the same effect.\n",
      "\n",
      "  func(*plot_args, **plot_kwargs)\n"
     ]
    },
    {
     "data": {
      "image/png": "[encoded data removed]",
      "text/plain": [
       "<Figure size 1417.25x1500 with 18 Axes>"
      ]
     },
     "metadata": {},
     "output_type": "display_data"
    }
   ],
   "source": [
    "\n",
    "\n",
    "# 2. Import the necessary libraries\n",
    "import pandas as pd\n",
    "import seaborn as sns\n",
    "import matplotlib.pyplot as plt\n",
    "\n",
    "# Assuming your dataframe is named 'df'\n",
    "# 3. Reshape the dataframe to a long format\n",
    "df_long = pd.melt(new_df, id_vars=['Distrito', 'Group', 'MesOcorrencia__'], \n",
    "                  value_vars=['NumeroMeiosTerrestresEnvolvidos_max_max',\n",
    "                              'NumeroOperacionaisTerrestresEnvolvidos_max_max'],\n",
    "                  var_name='Metric', value_name='Value')\n",
    "\n",
    "# 4. Create the faceted bar plot\n",
    "g = sns.FacetGrid(df_long, col='Distrito', hue='Group', margin_titles=True, sharey=False, col_wrap=4)\n",
    "g.map(sns.barplot, 'MesOcorrencia__', 'Value', hue_order=df_long['Group'].unique(), order=sorted(df_long['MesOcorrencia__'].unique()), ci=None)\n",
    "g.add_legend()\n",
    "\n",
    "# Add x-axis label\n",
    "g.set_axis_labels('Month', 'Value')\n",
    "g.set_xticklabels(range(1, 13))\n",
    "\n",
    "#plt.subplots_adjust(top=0.9)\n",
    "g.fig.suptitle('Comparison of NumeroOperacionaisTerrestresEnvolvidos and NumeroMeiosTerrestresEnvolvidos by District, Month, and Group')\n",
    "plt.show()\n",
    "\n",
    "\n"
   ]
  },
  {
   "cell_type": "code",
   "execution_count": null,
   "metadata": {},
   "outputs": [
    {
     "name": "stderr",
     "output_type": "stream",
     "text": [
      "/home/miguel/anaconda3/lib/python3.8/site-packages/seaborn/axisgrid.py:848: FutureWarning: \n",
      "\n",
      "The `ci` parameter is deprecated. Use `errorbar=None` for the same effect.\n",
      "\n",
      "  func(*plot_args, **plot_kwargs)\n",
      "/home/miguel/anaconda3/lib/python3.8/site-packages/seaborn/axisgrid.py:848: FutureWarning: \n",
      "\n",
      "The `ci` parameter is deprecated. Use `errorbar=None` for the same effect.\n",
      "\n",
      "  func(*plot_args, **plot_kwargs)\n",
      "/home/miguel/anaconda3/lib/python3.8/site-packages/seaborn/axisgrid.py:848: FutureWarning: \n",
      "\n",
      "The `ci` parameter is deprecated. Use `errorbar=None` for the same effect.\n",
      "\n",
      "  func(*plot_args, **plot_kwargs)\n",
      "/home/miguel/anaconda3/lib/python3.8/site-packages/seaborn/axisgrid.py:848: FutureWarning: \n",
      "\n",
      "The `ci` parameter is deprecated. Use `errorbar=None` for the same effect.\n",
      "\n",
      "  func(*plot_args, **plot_kwargs)\n",
      "/home/miguel/anaconda3/lib/python3.8/site-packages/seaborn/axisgrid.py:848: FutureWarning: \n",
      "\n",
      "The `ci` parameter is deprecated. Use `errorbar=None` for the same effect.\n",
      "\n",
      "  func(*plot_args, **plot_kwargs)\n",
      "/home/miguel/anaconda3/lib/python3.8/site-packages/seaborn/axisgrid.py:848: FutureWarning: \n",
      "\n",
      "The `ci` parameter is deprecated. Use `errorbar=None` for the same effect.\n",
      "\n",
      "  func(*plot_args, **plot_kwargs)\n",
      "/home/miguel/anaconda3/lib/python3.8/site-packages/seaborn/axisgrid.py:848: FutureWarning: \n",
      "\n",
      "The `ci` parameter is deprecated. Use `errorbar=None` for the same effect.\n",
      "\n",
      "  func(*plot_args, **plot_kwargs)\n",
      "/home/miguel/anaconda3/lib/python3.8/site-packages/seaborn/axisgrid.py:848: FutureWarning: \n",
      "\n",
      "The `ci` parameter is deprecated. Use `errorbar=None` for the same effect.\n",
      "\n",
      "  func(*plot_args, **plot_kwargs)\n",
      "/home/miguel/anaconda3/lib/python3.8/site-packages/seaborn/axisgrid.py:848: FutureWarning: \n",
      "\n",
      "The `ci` parameter is deprecated. Use `errorbar=None` for the same effect.\n",
      "\n",
      "  func(*plot_args, **plot_kwargs)\n",
      "/home/miguel/anaconda3/lib/python3.8/site-packages/seaborn/axisgrid.py:848: FutureWarning: \n",
      "\n",
      "The `ci` parameter is deprecated. Use `errorbar=None` for the same effect.\n",
      "\n",
      "  func(*plot_args, **plot_kwargs)\n",
      "/home/miguel/anaconda3/lib/python3.8/site-packages/seaborn/axisgrid.py:848: FutureWarning: \n",
      "\n",
      "The `ci` parameter is deprecated. Use `errorbar=None` for the same effect.\n",
      "\n",
      "  func(*plot_args, **plot_kwargs)\n",
      "/home/miguel/anaconda3/lib/python3.8/site-packages/seaborn/axisgrid.py:848: FutureWarning: \n",
      "\n",
      "The `ci` parameter is deprecated. Use `errorbar=None` for the same effect.\n",
      "\n",
      "  func(*plot_args, **plot_kwargs)\n",
      "/home/miguel/anaconda3/lib/python3.8/site-packages/seaborn/axisgrid.py:848: FutureWarning: \n",
      "\n",
      "The `ci` parameter is deprecated. Use `errorbar=None` for the same effect.\n",
      "\n",
      "  func(*plot_args, **plot_kwargs)\n",
      "/home/miguel/anaconda3/lib/python3.8/site-packages/seaborn/axisgrid.py:848: FutureWarning: \n",
      "\n",
      "The `ci` parameter is deprecated. Use `errorbar=None` for the same effect.\n",
      "\n",
      "  func(*plot_args, **plot_kwargs)\n",
      "/home/miguel/anaconda3/lib/python3.8/site-packages/seaborn/axisgrid.py:848: FutureWarning: \n",
      "\n",
      "The `ci` parameter is deprecated. Use `errorbar=None` for the same effect.\n",
      "\n",
      "  func(*plot_args, **plot_kwargs)\n",
      "/home/miguel/anaconda3/lib/python3.8/site-packages/seaborn/axisgrid.py:848: FutureWarning: \n",
      "\n",
      "The `ci` parameter is deprecated. Use `errorbar=None` for the same effect.\n",
      "\n",
      "  func(*plot_args, **plot_kwargs)\n",
      "/home/miguel/anaconda3/lib/python3.8/site-packages/seaborn/axisgrid.py:848: FutureWarning: \n",
      "\n",
      "The `ci` parameter is deprecated. Use `errorbar=None` for the same effect.\n",
      "\n",
      "  func(*plot_args, **plot_kwargs)\n",
      "/home/miguel/anaconda3/lib/python3.8/site-packages/seaborn/axisgrid.py:848: FutureWarning: \n",
      "\n",
      "The `ci` parameter is deprecated. Use `errorbar=None` for the same effect.\n",
      "\n",
      "  func(*plot_args, **plot_kwargs)\n",
      "/home/miguel/anaconda3/lib/python3.8/site-packages/seaborn/axisgrid.py:848: FutureWarning: \n",
      "\n",
      "The `ci` parameter is deprecated. Use `errorbar=None` for the same effect.\n",
      "\n",
      "  func(*plot_args, **plot_kwargs)\n",
      "/home/miguel/anaconda3/lib/python3.8/site-packages/seaborn/axisgrid.py:848: FutureWarning: \n",
      "\n",
      "The `ci` parameter is deprecated. Use `errorbar=None` for the same effect.\n",
      "\n",
      "  func(*plot_args, **plot_kwargs)\n",
      "/home/miguel/anaconda3/lib/python3.8/site-packages/seaborn/axisgrid.py:848: FutureWarning: \n",
      "\n",
      "The `ci` parameter is deprecated. Use `errorbar=None` for the same effect.\n",
      "\n",
      "  func(*plot_args, **plot_kwargs)\n",
      "/home/miguel/anaconda3/lib/python3.8/site-packages/seaborn/axisgrid.py:848: FutureWarning: \n",
      "\n",
      "The `ci` parameter is deprecated. Use `errorbar=None` for the same effect.\n",
      "\n",
      "  func(*plot_args, **plot_kwargs)\n",
      "/home/miguel/anaconda3/lib/python3.8/site-packages/seaborn/axisgrid.py:848: FutureWarning: \n",
      "\n",
      "The `ci` parameter is deprecated. Use `errorbar=None` for the same effect.\n",
      "\n",
      "  func(*plot_args, **plot_kwargs)\n",
      "/home/miguel/anaconda3/lib/python3.8/site-packages/seaborn/axisgrid.py:848: FutureWarning: \n",
      "\n",
      "The `ci` parameter is deprecated. Use `errorbar=None` for the same effect.\n",
      "\n",
      "  func(*plot_args, **plot_kwargs)\n",
      "/home/miguel/anaconda3/lib/python3.8/site-packages/seaborn/axisgrid.py:848: FutureWarning: \n",
      "\n",
      "The `ci` parameter is deprecated. Use `errorbar=None` for the same effect.\n",
      "\n",
      "  func(*plot_args, **plot_kwargs)\n",
      "/home/miguel/anaconda3/lib/python3.8/site-packages/seaborn/axisgrid.py:848: FutureWarning: \n",
      "\n",
      "The `ci` parameter is deprecated. Use `errorbar=None` for the same effect.\n",
      "\n",
      "  func(*plot_args, **plot_kwargs)\n",
      "/home/miguel/anaconda3/lib/python3.8/site-packages/seaborn/axisgrid.py:848: FutureWarning: \n",
      "\n",
      "The `ci` parameter is deprecated. Use `errorbar=None` for the same effect.\n",
      "\n",
      "  func(*plot_args, **plot_kwargs)\n",
      "/home/miguel/anaconda3/lib/python3.8/site-packages/seaborn/axisgrid.py:848: FutureWarning: \n",
      "\n",
      "The `ci` parameter is deprecated. Use `errorbar=None` for the same effect.\n",
      "\n",
      "  func(*plot_args, **plot_kwargs)\n",
      "/home/miguel/anaconda3/lib/python3.8/site-packages/seaborn/axisgrid.py:848: FutureWarning: \n",
      "\n",
      "The `ci` parameter is deprecated. Use `errorbar=None` for the same effect.\n",
      "\n",
      "  func(*plot_args, **plot_kwargs)\n",
      "/home/miguel/anaconda3/lib/python3.8/site-packages/seaborn/axisgrid.py:848: FutureWarning: \n",
      "\n",
      "The `ci` parameter is deprecated. Use `errorbar=None` for the same effect.\n",
      "\n",
      "  func(*plot_args, **plot_kwargs)\n",
      "/home/miguel/anaconda3/lib/python3.8/site-packages/seaborn/axisgrid.py:848: FutureWarning: \n",
      "\n",
      "The `ci` parameter is deprecated. Use `errorbar=None` for the same effect.\n",
      "\n",
      "  func(*plot_args, **plot_kwargs)\n",
      "/home/miguel/anaconda3/lib/python3.8/site-packages/seaborn/axisgrid.py:848: FutureWarning: \n",
      "\n",
      "The `ci` parameter is deprecated. Use `errorbar=None` for the same effect.\n",
      "\n",
      "  func(*plot_args, **plot_kwargs)\n",
      "/home/miguel/anaconda3/lib/python3.8/site-packages/seaborn/axisgrid.py:848: FutureWarning: \n",
      "\n",
      "The `ci` parameter is deprecated. Use `errorbar=None` for the same effect.\n",
      "\n",
      "  func(*plot_args, **plot_kwargs)\n",
      "/home/miguel/anaconda3/lib/python3.8/site-packages/seaborn/axisgrid.py:848: FutureWarning: \n",
      "\n",
      "The `ci` parameter is deprecated. Use `errorbar=None` for the same effect.\n",
      "\n",
      "  func(*plot_args, **plot_kwargs)\n",
      "/home/miguel/anaconda3/lib/python3.8/site-packages/seaborn/axisgrid.py:848: FutureWarning: \n",
      "\n",
      "The `ci` parameter is deprecated. Use `errorbar=None` for the same effect.\n",
      "\n",
      "  func(*plot_args, **plot_kwargs)\n",
      "/home/miguel/anaconda3/lib/python3.8/site-packages/seaborn/axisgrid.py:848: FutureWarning: \n",
      "\n",
      "The `ci` parameter is deprecated. Use `errorbar=None` for the same effect.\n",
      "\n",
      "  func(*plot_args, **plot_kwargs)\n",
      "/home/miguel/anaconda3/lib/python3.8/site-packages/seaborn/axisgrid.py:848: FutureWarning: \n",
      "\n",
      "The `ci` parameter is deprecated. Use `errorbar=None` for the same effect.\n",
      "\n",
      "  func(*plot_args, **plot_kwargs)\n",
      "/home/miguel/anaconda3/lib/python3.8/site-packages/seaborn/axisgrid.py:848: FutureWarning: \n",
      "\n",
      "The `ci` parameter is deprecated. Use `errorbar=None` for the same effect.\n",
      "\n",
      "  func(*plot_args, **plot_kwargs)\n",
      "/home/miguel/anaconda3/lib/python3.8/site-packages/seaborn/axisgrid.py:848: FutureWarning: \n",
      "\n",
      "The `ci` parameter is deprecated. Use `errorbar=None` for the same effect.\n",
      "\n",
      "  func(*plot_args, **plot_kwargs)\n",
      "/home/miguel/anaconda3/lib/python3.8/site-packages/seaborn/axisgrid.py:848: FutureWarning: \n",
      "\n",
      "The `ci` parameter is deprecated. Use `errorbar=None` for the same effect.\n",
      "\n",
      "  func(*plot_args, **plot_kwargs)\n",
      "/home/miguel/anaconda3/lib/python3.8/site-packages/seaborn/axisgrid.py:848: FutureWarning: \n",
      "\n",
      "The `ci` parameter is deprecated. Use `errorbar=None` for the same effect.\n",
      "\n",
      "  func(*plot_args, **plot_kwargs)\n",
      "/home/miguel/anaconda3/lib/python3.8/site-packages/seaborn/axisgrid.py:848: FutureWarning: \n",
      "\n",
      "The `ci` parameter is deprecated. Use `errorbar=None` for the same effect.\n",
      "\n",
      "  func(*plot_args, **plot_kwargs)\n",
      "/home/miguel/anaconda3/lib/python3.8/site-packages/seaborn/axisgrid.py:848: FutureWarning: \n",
      "\n",
      "The `ci` parameter is deprecated. Use `errorbar=None` for the same effect.\n",
      "\n",
      "  func(*plot_args, **plot_kwargs)\n",
      "/home/miguel/anaconda3/lib/python3.8/site-packages/seaborn/axisgrid.py:848: FutureWarning: \n",
      "\n",
      "The `ci` parameter is deprecated. Use `errorbar=None` for the same effect.\n",
      "\n",
      "  func(*plot_args, **plot_kwargs)\n",
      "/home/miguel/anaconda3/lib/python3.8/site-packages/seaborn/axisgrid.py:848: FutureWarning: \n",
      "\n",
      "The `ci` parameter is deprecated. Use `errorbar=None` for the same effect.\n",
      "\n",
      "  func(*plot_args, **plot_kwargs)\n",
      "/home/miguel/anaconda3/lib/python3.8/site-packages/seaborn/axisgrid.py:848: FutureWarning: \n",
      "\n",
      "The `ci` parameter is deprecated. Use `errorbar=None` for the same effect.\n",
      "\n",
      "  func(*plot_args, **plot_kwargs)\n",
      "/home/miguel/anaconda3/lib/python3.8/site-packages/seaborn/axisgrid.py:848: FutureWarning: \n",
      "\n",
      "The `ci` parameter is deprecated. Use `errorbar=None` for the same effect.\n",
      "\n",
      "  func(*plot_args, **plot_kwargs)\n",
      "/home/miguel/anaconda3/lib/python3.8/site-packages/seaborn/axisgrid.py:848: FutureWarning: \n",
      "\n",
      "The `ci` parameter is deprecated. Use `errorbar=None` for the same effect.\n",
      "\n",
      "  func(*plot_args, **plot_kwargs)\n",
      "/home/miguel/anaconda3/lib/python3.8/site-packages/seaborn/axisgrid.py:848: FutureWarning: \n",
      "\n",
      "The `ci` parameter is deprecated. Use `errorbar=None` for the same effect.\n",
      "\n",
      "  func(*plot_args, **plot_kwargs)\n",
      "/home/miguel/anaconda3/lib/python3.8/site-packages/seaborn/axisgrid.py:848: FutureWarning: \n",
      "\n",
      "The `ci` parameter is deprecated. Use `errorbar=None` for the same effect.\n",
      "\n",
      "  func(*plot_args, **plot_kwargs)\n",
      "/home/miguel/anaconda3/lib/python3.8/site-packages/seaborn/axisgrid.py:848: FutureWarning: \n",
      "\n",
      "The `ci` parameter is deprecated. Use `errorbar=None` for the same effect.\n",
      "\n",
      "  func(*plot_args, **plot_kwargs)\n",
      "/home/miguel/anaconda3/lib/python3.8/site-packages/seaborn/axisgrid.py:848: FutureWarning: \n",
      "\n",
      "The `ci` parameter is deprecated. Use `errorbar=None` for the same effect.\n",
      "\n",
      "  func(*plot_args, **plot_kwargs)\n",
      "/home/miguel/anaconda3/lib/python3.8/site-packages/seaborn/axisgrid.py:848: FutureWarning: \n",
      "\n",
      "The `ci` parameter is deprecated. Use `errorbar=None` for the same effect.\n",
      "\n",
      "  func(*plot_args, **plot_kwargs)\n",
      "/home/miguel/anaconda3/lib/python3.8/site-packages/seaborn/axisgrid.py:848: FutureWarning: \n",
      "\n",
      "The `ci` parameter is deprecated. Use `errorbar=None` for the same effect.\n",
      "\n",
      "  func(*plot_args, **plot_kwargs)\n",
      "/home/miguel/anaconda3/lib/python3.8/site-packages/seaborn/axisgrid.py:848: FutureWarning: \n",
      "\n",
      "The `ci` parameter is deprecated. Use `errorbar=None` for the same effect.\n",
      "\n",
      "  func(*plot_args, **plot_kwargs)\n",
      "/home/miguel/anaconda3/lib/python3.8/site-packages/seaborn/axisgrid.py:848: FutureWarning: \n",
      "\n",
      "The `ci` parameter is deprecated. Use `errorbar=None` for the same effect.\n",
      "\n",
      "  func(*plot_args, **plot_kwargs)\n",
      "/home/miguel/anaconda3/lib/python3.8/site-packages/seaborn/axisgrid.py:848: FutureWarning: \n",
      "\n",
      "The `ci` parameter is deprecated. Use `errorbar=None` for the same effect.\n",
      "\n",
      "  func(*plot_args, **plot_kwargs)\n",
      "/home/miguel/anaconda3/lib/python3.8/site-packages/seaborn/axisgrid.py:848: FutureWarning: \n",
      "\n",
      "The `ci` parameter is deprecated. Use `errorbar=None` for the same effect.\n",
      "\n",
      "  func(*plot_args, **plot_kwargs)\n",
      "/home/miguel/anaconda3/lib/python3.8/site-packages/seaborn/axisgrid.py:848: FutureWarning: \n",
      "\n",
      "The `ci` parameter is deprecated. Use `errorbar=None` for the same effect.\n",
      "\n",
      "  func(*plot_args, **plot_kwargs)\n",
      "/home/miguel/anaconda3/lib/python3.8/site-packages/seaborn/axisgrid.py:848: FutureWarning: \n",
      "\n",
      "The `ci` parameter is deprecated. Use `errorbar=None` for the same effect.\n",
      "\n",
      "  func(*plot_args, **plot_kwargs)\n",
      "/home/miguel/anaconda3/lib/python3.8/site-packages/seaborn/axisgrid.py:848: FutureWarning: \n",
      "\n",
      "The `ci` parameter is deprecated. Use `errorbar=None` for the same effect.\n",
      "\n",
      "  func(*plot_args, **plot_kwargs)\n",
      "/home/miguel/anaconda3/lib/python3.8/site-packages/seaborn/axisgrid.py:848: FutureWarning: \n",
      "\n",
      "The `ci` parameter is deprecated. Use `errorbar=None` for the same effect.\n",
      "\n",
      "  func(*plot_args, **plot_kwargs)\n",
      "/home/miguel/anaconda3/lib/python3.8/site-packages/seaborn/axisgrid.py:848: FutureWarning: \n",
      "\n",
      "The `ci` parameter is deprecated. Use `errorbar=None` for the same effect.\n",
      "\n",
      "  func(*plot_args, **plot_kwargs)\n",
      "/home/miguel/anaconda3/lib/python3.8/site-packages/seaborn/axisgrid.py:848: FutureWarning: \n",
      "\n",
      "The `ci` parameter is deprecated. Use `errorbar=None` for the same effect.\n",
      "\n",
      "  func(*plot_args, **plot_kwargs)\n",
      "/home/miguel/anaconda3/lib/python3.8/site-packages/seaborn/axisgrid.py:848: FutureWarning: \n",
      "\n",
      "The `ci` parameter is deprecated. Use `errorbar=None` for the same effect.\n",
      "\n",
      "  func(*plot_args, **plot_kwargs)\n",
      "/home/miguel/anaconda3/lib/python3.8/site-packages/seaborn/axisgrid.py:848: FutureWarning: \n",
      "\n",
      "The `ci` parameter is deprecated. Use `errorbar=None` for the same effect.\n",
      "\n",
      "  func(*plot_args, **plot_kwargs)\n",
      "/home/miguel/anaconda3/lib/python3.8/site-packages/seaborn/axisgrid.py:848: FutureWarning: \n",
      "\n",
      "The `ci` parameter is deprecated. Use `errorbar=None` for the same effect.\n",
      "\n",
      "  func(*plot_args, **plot_kwargs)\n",
      "/home/miguel/anaconda3/lib/python3.8/site-packages/seaborn/axisgrid.py:848: FutureWarning: \n",
      "\n",
      "The `ci` parameter is deprecated. Use `errorbar=None` for the same effect.\n",
      "\n",
      "  func(*plot_args, **plot_kwargs)\n",
      "/home/miguel/anaconda3/lib/python3.8/site-packages/seaborn/axisgrid.py:848: FutureWarning: \n",
      "\n",
      "The `ci` parameter is deprecated. Use `errorbar=None` for the same effect.\n",
      "\n",
      "  func(*plot_args, **plot_kwargs)\n",
      "/home/miguel/anaconda3/lib/python3.8/site-packages/seaborn/axisgrid.py:848: FutureWarning: \n",
      "\n",
      "The `ci` parameter is deprecated. Use `errorbar=None` for the same effect.\n",
      "\n",
      "  func(*plot_args, **plot_kwargs)\n",
      "/home/miguel/anaconda3/lib/python3.8/site-packages/seaborn/axisgrid.py:848: FutureWarning: \n",
      "\n",
      "The `ci` parameter is deprecated. Use `errorbar=None` for the same effect.\n",
      "\n",
      "  func(*plot_args, **plot_kwargs)\n",
      "/home/miguel/anaconda3/lib/python3.8/site-packages/seaborn/axisgrid.py:848: FutureWarning: \n",
      "\n",
      "The `ci` parameter is deprecated. Use `errorbar=None` for the same effect.\n",
      "\n",
      "  func(*plot_args, **plot_kwargs)\n",
      "/home/miguel/anaconda3/lib/python3.8/site-packages/seaborn/axisgrid.py:848: FutureWarning: \n",
      "\n",
      "The `ci` parameter is deprecated. Use `errorbar=None` for the same effect.\n",
      "\n",
      "  func(*plot_args, **plot_kwargs)\n",
      "/home/miguel/anaconda3/lib/python3.8/site-packages/seaborn/axisgrid.py:848: FutureWarning: \n",
      "\n",
      "The `ci` parameter is deprecated. Use `errorbar=None` for the same effect.\n",
      "\n",
      "  func(*plot_args, **plot_kwargs)\n",
      "/home/miguel/anaconda3/lib/python3.8/site-packages/seaborn/axisgrid.py:848: FutureWarning: \n",
      "\n",
      "The `ci` parameter is deprecated. Use `errorbar=None` for the same effect.\n",
      "\n",
      "  func(*plot_args, **plot_kwargs)\n",
      "/home/miguel/anaconda3/lib/python3.8/site-packages/seaborn/axisgrid.py:848: FutureWarning: \n",
      "\n",
      "The `ci` parameter is deprecated. Use `errorbar=None` for the same effect.\n",
      "\n",
      "  func(*plot_args, **plot_kwargs)\n",
      "/home/miguel/anaconda3/lib/python3.8/site-packages/seaborn/axisgrid.py:848: FutureWarning: \n",
      "\n",
      "The `ci` parameter is deprecated. Use `errorbar=None` for the same effect.\n",
      "\n",
      "  func(*plot_args, **plot_kwargs)\n",
      "/home/miguel/anaconda3/lib/python3.8/site-packages/seaborn/axisgrid.py:848: FutureWarning: \n",
      "\n",
      "The `ci` parameter is deprecated. Use `errorbar=None` for the same effect.\n",
      "\n",
      "  func(*plot_args, **plot_kwargs)\n",
      "/home/miguel/anaconda3/lib/python3.8/site-packages/seaborn/axisgrid.py:848: FutureWarning: \n",
      "\n",
      "The `ci` parameter is deprecated. Use `errorbar=None` for the same effect.\n",
      "\n",
      "  func(*plot_args, **plot_kwargs)\n",
      "/home/miguel/anaconda3/lib/python3.8/site-packages/seaborn/axisgrid.py:848: FutureWarning: \n",
      "\n",
      "The `ci` parameter is deprecated. Use `errorbar=None` for the same effect.\n",
      "\n",
      "  func(*plot_args, **plot_kwargs)\n",
      "/home/miguel/anaconda3/lib/python3.8/site-packages/seaborn/axisgrid.py:848: FutureWarning: \n",
      "\n",
      "The `ci` parameter is deprecated. Use `errorbar=None` for the same effect.\n",
      "\n",
      "  func(*plot_args, **plot_kwargs)\n",
      "/home/miguel/anaconda3/lib/python3.8/site-packages/seaborn/axisgrid.py:848: FutureWarning: \n",
      "\n",
      "The `ci` parameter is deprecated. Use `errorbar=None` for the same effect.\n",
      "\n",
      "  func(*plot_args, **plot_kwargs)\n",
      "/home/miguel/anaconda3/lib/python3.8/site-packages/seaborn/axisgrid.py:848: FutureWarning: \n",
      "\n",
      "The `ci` parameter is deprecated. Use `errorbar=None` for the same effect.\n",
      "\n",
      "  func(*plot_args, **plot_kwargs)\n",
      "/home/miguel/anaconda3/lib/python3.8/site-packages/seaborn/axisgrid.py:848: FutureWarning: \n",
      "\n",
      "The `ci` parameter is deprecated. Use `errorbar=None` for the same effect.\n",
      "\n",
      "  func(*plot_args, **plot_kwargs)\n",
      "/home/miguel/anaconda3/lib/python3.8/site-packages/seaborn/axisgrid.py:848: FutureWarning: \n",
      "\n",
      "The `ci` parameter is deprecated. Use `errorbar=None` for the same effect.\n",
      "\n",
      "  func(*plot_args, **plot_kwargs)\n",
      "/home/miguel/anaconda3/lib/python3.8/site-packages/seaborn/axisgrid.py:848: FutureWarning: \n",
      "\n",
      "The `ci` parameter is deprecated. Use `errorbar=None` for the same effect.\n",
      "\n",
      "  func(*plot_args, **plot_kwargs)\n",
      "/home/miguel/anaconda3/lib/python3.8/site-packages/seaborn/axisgrid.py:848: FutureWarning: \n",
      "\n",
      "The `ci` parameter is deprecated. Use `errorbar=None` for the same effect.\n",
      "\n",
      "  func(*plot_args, **plot_kwargs)\n",
      "/home/miguel/anaconda3/lib/python3.8/site-packages/seaborn/axisgrid.py:848: FutureWarning: \n",
      "\n",
      "The `ci` parameter is deprecated. Use `errorbar=None` for the same effect.\n",
      "\n",
      "  func(*plot_args, **plot_kwargs)\n",
      "/home/miguel/anaconda3/lib/python3.8/site-packages/seaborn/axisgrid.py:848: FutureWarning: \n",
      "\n",
      "The `ci` parameter is deprecated. Use `errorbar=None` for the same effect.\n",
      "\n",
      "  func(*plot_args, **plot_kwargs)\n",
      "/home/miguel/anaconda3/lib/python3.8/site-packages/seaborn/axisgrid.py:848: FutureWarning: \n",
      "\n",
      "The `ci` parameter is deprecated. Use `errorbar=None` for the same effect.\n",
      "\n",
      "  func(*plot_args, **plot_kwargs)\n",
      "/home/miguel/anaconda3/lib/python3.8/site-packages/seaborn/axisgrid.py:848: FutureWarning: \n",
      "\n",
      "The `ci` parameter is deprecated. Use `errorbar=None` for the same effect.\n",
      "\n",
      "  func(*plot_args, **plot_kwargs)\n",
      "/home/miguel/anaconda3/lib/python3.8/site-packages/seaborn/axisgrid.py:848: FutureWarning: \n",
      "\n",
      "The `ci` parameter is deprecated. Use `errorbar=None` for the same effect.\n",
      "\n",
      "  func(*plot_args, **plot_kwargs)\n",
      "/home/miguel/anaconda3/lib/python3.8/site-packages/seaborn/axisgrid.py:848: FutureWarning: \n",
      "\n",
      "The `ci` parameter is deprecated. Use `errorbar=None` for the same effect.\n",
      "\n",
      "  func(*plot_args, **plot_kwargs)\n",
      "/home/miguel/anaconda3/lib/python3.8/site-packages/seaborn/axisgrid.py:848: FutureWarning: \n",
      "\n",
      "The `ci` parameter is deprecated. Use `errorbar=None` for the same effect.\n",
      "\n",
      "  func(*plot_args, **plot_kwargs)\n",
      "/home/miguel/anaconda3/lib/python3.8/site-packages/seaborn/axisgrid.py:848: FutureWarning: \n",
      "\n",
      "The `ci` parameter is deprecated. Use `errorbar=None` for the same effect.\n",
      "\n",
      "  func(*plot_args, **plot_kwargs)\n",
      "/home/miguel/anaconda3/lib/python3.8/site-packages/seaborn/axisgrid.py:848: FutureWarning: \n",
      "\n",
      "The `ci` parameter is deprecated. Use `errorbar=None` for the same effect.\n",
      "\n",
      "  func(*plot_args, **plot_kwargs)\n",
      "/home/miguel/anaconda3/lib/python3.8/site-packages/seaborn/axisgrid.py:848: FutureWarning: \n",
      "\n",
      "The `ci` parameter is deprecated. Use `errorbar=None` for the same effect.\n",
      "\n",
      "  func(*plot_args, **plot_kwargs)\n",
      "/home/miguel/anaconda3/lib/python3.8/site-packages/seaborn/axisgrid.py:848: FutureWarning: \n",
      "\n",
      "The `ci` parameter is deprecated. Use `errorbar=None` for the same effect.\n",
      "\n",
      "  func(*plot_args, **plot_kwargs)\n",
      "/home/miguel/anaconda3/lib/python3.8/site-packages/seaborn/axisgrid.py:848: FutureWarning: \n",
      "\n",
      "The `ci` parameter is deprecated. Use `errorbar=None` for the same effect.\n",
      "\n",
      "  func(*plot_args, **plot_kwargs)\n",
      "/home/miguel/anaconda3/lib/python3.8/site-packages/seaborn/axisgrid.py:848: FutureWarning: \n",
      "\n",
      "The `ci` parameter is deprecated. Use `errorbar=None` for the same effect.\n",
      "\n",
      "  func(*plot_args, **plot_kwargs)\n",
      "/home/miguel/anaconda3/lib/python3.8/site-packages/seaborn/axisgrid.py:848: FutureWarning: \n",
      "\n",
      "The `ci` parameter is deprecated. Use `errorbar=None` for the same effect.\n",
      "\n",
      "  func(*plot_args, **plot_kwargs)\n",
      "/home/miguel/anaconda3/lib/python3.8/site-packages/seaborn/axisgrid.py:848: FutureWarning: \n",
      "\n",
      "The `ci` parameter is deprecated. Use `errorbar=None` for the same effect.\n",
      "\n",
      "  func(*plot_args, **plot_kwargs)\n",
      "/home/miguel/anaconda3/lib/python3.8/site-packages/seaborn/axisgrid.py:848: FutureWarning: \n",
      "\n",
      "The `ci` parameter is deprecated. Use `errorbar=None` for the same effect.\n",
      "\n",
      "  func(*plot_args, **plot_kwargs)\n",
      "/home/miguel/anaconda3/lib/python3.8/site-packages/seaborn/axisgrid.py:848: FutureWarning: \n",
      "\n",
      "The `ci` parameter is deprecated. Use `errorbar=None` for the same effect.\n",
      "\n",
      "  func(*plot_args, **plot_kwargs)\n",
      "/home/miguel/anaconda3/lib/python3.8/site-packages/seaborn/axisgrid.py:848: FutureWarning: \n",
      "\n",
      "The `ci` parameter is deprecated. Use `errorbar=None` for the same effect.\n",
      "\n",
      "  func(*plot_args, **plot_kwargs)\n",
      "/home/miguel/anaconda3/lib/python3.8/site-packages/seaborn/axisgrid.py:848: FutureWarning: \n",
      "\n",
      "The `ci` parameter is deprecated. Use `errorbar=None` for the same effect.\n",
      "\n",
      "  func(*plot_args, **plot_kwargs)\n",
      "/home/miguel/anaconda3/lib/python3.8/site-packages/seaborn/axisgrid.py:848: FutureWarning: \n",
      "\n",
      "The `ci` parameter is deprecated. Use `errorbar=None` for the same effect.\n",
      "\n",
      "  func(*plot_args, **plot_kwargs)\n"
     ]
    },
    {
     "data": {
      "image/png": "[encoded data removed]",
      "text/plain": [
       "<Figure size 1417.25x1500 with 18 Axes>"
      ]
     },
     "metadata": {},
     "output_type": "display_data"
    }
   ],
   "source": [
    "\n",
    "\n",
    "# 2. Import the necessary libraries\n",
    "import pandas as pd\n",
    "import seaborn as sns\n",
    "import matplotlib.pyplot as plt\n",
    "\n",
    "# Assuming your dataframe is named 'df'\n",
    "# 3. Reshape the dataframe to a long format\n",
    "df_long = pd.melt(new_df, id_vars=['Distrito', 'Group', 'MesOcorrencia__'], \n",
    "                  value_vars=['NumeroMeiosTerrestresEnvolvidos_max_mean',\n",
    "                              'NumeroOperacionaisTerrestresEnvolvidos_max_mean'],\n",
    "                  var_name='Metric', value_name='Value')\n",
    "\n",
    "# 4. Create the faceted bar plot\n",
    "g = sns.FacetGrid(df_long, col='Distrito', hue='Group', margin_titles=True, sharey=False, col_wrap=4)\n",
    "g.map(sns.barplot, 'MesOcorrencia__', 'Value', hue_order=df_long['Group'].unique(), order=sorted(df_long['MesOcorrencia__'].unique()), ci=None)\n",
    "g.add_legend()\n",
    "\n",
    "# Add x-axis label\n",
    "g.set_axis_labels('Month', 'Value')\n",
    "g.set_xticklabels(range(1, 13))\n",
    "\n",
    "#plt.subplots_adjust(top=0.9)\n",
    "g.fig.suptitle('Comparison of NumeroOperacionaisTerrestresEnvolvidos and NumeroMeiosTerrestresEnvolvidos by District, Month, and Group')\n",
    "plt.show()\n",
    "\n",
    "\n"
   ]
  },
  {
   "cell_type": "code",
   "execution_count": null,
   "metadata": {},
   "outputs": [
    {
     "name": "stdout",
     "output_type": "stream",
     "text": [
      "Requirement already satisfied: plotly in /home/miguel/anaconda3/lib/python3.8/site-packages (5.9.0)\n",
      "Requirement already satisfied: tenacity>=6.2.0 in /home/miguel/anaconda3/lib/python3.8/site-packages (from plotly) (8.0.1)\n"
     ]
    }
   ],
   "source": [
    "!pip install plotly\n"
   ]
  },
  {
   "cell_type": "code",
   "execution_count": null,
   "metadata": {},
   "outputs": [
    {
     "data": {
      "application/vnd.jupyter.widget-view+json": {
       "model_id": "ead70e47915f40aa88e8ee4413779b6c",
       "version_major": 2,
       "version_minor": 0
      },
      "text/plain": [
       "interactive(children=(Dropdown(description='Distrito:', options=('ÉVORA', 'VISEU', 'VILA REAL', 'VIANA DO CAST…"
      ]
     },
     "metadata": {},
     "output_type": "display_data"
    },
    {
     "data": {
      "application/vnd.plotly.v1+json": {
       "config": {
        "plotlyServerURL": "https://plot.ly"
       },
       "data": [
        {
         "marker": {
          "color": "rgb(55, 83, 109)"
         },
         "name": "NumeroOperacionaisTerrestresEnvolvidos",
         "type": "bar",
         "x": [
          "Max",
          "Mean",
          "Min"
         ],
         "y": [
          4,
          2,
          0
         ]
        },
        {
         "marker": {
          "color": "rgb(26, 118, 255)"
         },
         "name": "NumeroMeiosTerrestresEnvolvidos",
         "type": "bar",
         "x": [
          "Max",
          "Mean",
          "Min"
         ],
         "y": [
          2,
          1,
          0
         ]
        }
       ],
       "layout": {
        "bargap": 0.15,
        "bargroupgap": 0.1,
        "barmode": "group",
        "legend": {
         "bgcolor": "rgba(255, 255, 255, 0)",
         "bordercolor": "rgba(255, 255, 255, 0)",
         "x": 0,
         "y": 1
        },
        "template": {
         "data": {
          "bar": [
           {
            "error_x": {
             "color": "#2a3f5f"
            },
            "error_y": {
             "color": "#2a3f5f"
            },
            "marker": {
             "line": {
              "color": "#E5ECF6",
              "width": 0.5
             },
             "pattern": {
              "fillmode": "overlay",
              "size": 10,
              "solidity": 0.2
             }
            },
            "type": "bar"
           }
          ],
          "barpolar": [
           {
            "marker": {
             "line": {
              "color": "#E5ECF6",
              "width": 0.5
             },
             "pattern": {
              "fillmode": "overlay",
              "size": 10,
              "solidity": 0.2
             }
            },
            "type": "barpolar"
           }
          ],
          "carpet": [
           {
            "aaxis": {
             "endlinecolor": "#2a3f5f",
             "gridcolor": "white",
             "linecolor": "white",
             "minorgridcolor": "white",
             "startlinecolor": "#2a3f5f"
            },
            "baxis": {
             "endlinecolor": "#2a3f5f",
             "gridcolor": "white",
             "linecolor": "white",
             "minorgridcolor": "white",
             "startlinecolor": "#2a3f5f"
            },
            "type": "carpet"
           }
          ],
          "choropleth": [
           {
            "colorbar": {
             "outlinewidth": 0,
             "ticks": ""
            },
            "type": "choropleth"
           }
          ],
          "contour": [
           {
            "colorbar": {
             "outlinewidth": 0,
             "ticks": ""
            },
            "colorscale": [
             [
              0,
              "#0d0887"
             ],
             [
              0.1111111111111111,
              "#46039f"
             ],
             [
              0.2222222222222222,
              "#7201a8"
             ],
             [
              0.3333333333333333,
              "#9c179e"
             ],
             [
              0.4444444444444444,
              "#bd3786"
             ],
             [
              0.5555555555555556,
              "#d8576b"
             ],
             [
              0.6666666666666666,
              "#ed7953"
             ],
             [
              0.7777777777777778,
              "#fb9f3a"
             ],
             [
              0.8888888888888888,
              "#fdca26"
             ],
             [
              1,
              "#f0f921"
             ]
            ],
            "type": "contour"
           }
          ],
          "contourcarpet": [
           {
            "colorbar": {
             "outlinewidth": 0,
             "ticks": ""
            },
            "type": "contourcarpet"
           }
          ],
          "heatmap": [
           {
            "colorbar": {
             "outlinewidth": 0,
             "ticks": ""
            },
            "colorscale": [
             [
              0,
              "#0d0887"
             ],
             [
              0.1111111111111111,
              "#46039f"
             ],
             [
              0.2222222222222222,
              "#7201a8"
             ],
             [
              0.3333333333333333,
              "#9c179e"
             ],
             [
              0.4444444444444444,
              "#bd3786"
             ],
             [
              0.5555555555555556,
              "#d8576b"
             ],
             [
              0.6666666666666666,
              "#ed7953"
             ],
             [
              0.7777777777777778,
              "#fb9f3a"
             ],
             [
              0.8888888888888888,
              "#fdca26"
             ],
             [
              1,
              "#f0f921"
             ]
            ],
            "type": "heatmap"
           }
          ],
          "heatmapgl": [
           {
            "colorbar": {
             "outlinewidth": 0,
             "ticks": ""
            },
            "colorscale": [
             [
              0,
              "#0d0887"
             ],
             [
              0.1111111111111111,
              "#46039f"
             ],
             [
              0.2222222222222222,
              "#7201a8"
             ],
             [
              0.3333333333333333,
              "#9c179e"
             ],
             [
              0.4444444444444444,
              "#bd3786"
             ],
             [
              0.5555555555555556,
              "#d8576b"
             ],
             [
              0.6666666666666666,
              "#ed7953"
             ],
             [
              0.7777777777777778,
              "#fb9f3a"
             ],
             [
              0.8888888888888888,
              "#fdca26"
             ],
             [
              1,
              "#f0f921"
             ]
            ],
            "type": "heatmapgl"
           }
          ],
          "histogram": [
           {
            "marker": {
             "pattern": {
              "fillmode": "overlay",
              "size": 10,
              "solidity": 0.2
             }
            },
            "type": "histogram"
           }
          ],
          "histogram2d": [
           {
            "colorbar": {
             "outlinewidth": 0,
             "ticks": ""
            },
            "colorscale": [
             [
              0,
              "#0d0887"
             ],
             [
              0.1111111111111111,
              "#46039f"
             ],
             [
              0.2222222222222222,
              "#7201a8"
             ],
             [
              0.3333333333333333,
              "#9c179e"
             ],
             [
              0.4444444444444444,
              "#bd3786"
             ],
             [
              0.5555555555555556,
              "#d8576b"
             ],
             [
              0.6666666666666666,
              "#ed7953"
             ],
             [
              0.7777777777777778,
              "#fb9f3a"
             ],
             [
              0.8888888888888888,
              "#fdca26"
             ],
             [
              1,
              "#f0f921"
             ]
            ],
            "type": "histogram2d"
           }
          ],
          "histogram2dcontour": [
           {
            "colorbar": {
             "outlinewidth": 0,
             "ticks": ""
            },
            "colorscale": [
             [
              0,
              "#0d0887"
             ],
             [
              0.1111111111111111,
              "#46039f"
             ],
             [
              0.2222222222222222,
              "#7201a8"
             ],
             [
              0.3333333333333333,
              "#9c179e"
             ],
             [
              0.4444444444444444,
              "#bd3786"
             ],
             [
              0.5555555555555556,
              "#d8576b"
             ],
             [
              0.6666666666666666,
              "#ed7953"
             ],
             [
              0.7777777777777778,
              "#fb9f3a"
             ],
             [
              0.8888888888888888,
              "#fdca26"
             ],
             [
              1,
              "#f0f921"
             ]
            ],
            "type": "histogram2dcontour"
           }
          ],
          "mesh3d": [
           {
            "colorbar": {
             "outlinewidth": 0,
             "ticks": ""
            },
            "type": "mesh3d"
           }
          ],
          "parcoords": [
           {
            "line": {
             "colorbar": {
              "outlinewidth": 0,
              "ticks": ""
             }
            },
            "type": "parcoords"
           }
          ],
          "pie": [
           {
            "automargin": true,
            "type": "pie"
           }
          ],
          "scatter": [
           {
            "fillpattern": {
             "fillmode": "overlay",
             "size": 10,
             "solidity": 0.2
            },
            "type": "scatter"
           }
          ],
          "scatter3d": [
           {
            "line": {
             "colorbar": {
              "outlinewidth": 0,
              "ticks": ""
             }
            },
            "marker": {
             "colorbar": {
              "outlinewidth": 0,
              "ticks": ""
             }
            },
            "type": "scatter3d"
           }
          ],
          "scattercarpet": [
           {
            "marker": {
             "colorbar": {
              "outlinewidth": 0,
              "ticks": ""
             }
            },
            "type": "scattercarpet"
           }
          ],
          "scattergeo": [
           {
            "marker": {
             "colorbar": {
              "outlinewidth": 0,
              "ticks": ""
             }
            },
            "type": "scattergeo"
           }
          ],
          "scattergl": [
           {
            "marker": {
             "colorbar": {
              "outlinewidth": 0,
              "ticks": ""
             }
            },
            "type": "scattergl"
           }
          ],
          "scattermapbox": [
           {
            "marker": {
             "colorbar": {
              "outlinewidth": 0,
              "ticks": ""
             }
            },
            "type": "scattermapbox"
           }
          ],
          "scatterpolar": [
           {
            "marker": {
             "colorbar": {
              "outlinewidth": 0,
              "ticks": ""
             }
            },
            "type": "scatterpolar"
           }
          ],
          "scatterpolargl": [
           {
            "marker": {
             "colorbar": {
              "outlinewidth": 0,
              "ticks": ""
             }
            },
            "type": "scatterpolargl"
           }
          ],
          "scatterternary": [
           {
            "marker": {
             "colorbar": {
              "outlinewidth": 0,
              "ticks": ""
             }
            },
            "type": "scatterternary"
           }
          ],
          "surface": [
           {
            "colorbar": {
             "outlinewidth": 0,
             "ticks": ""
            },
            "colorscale": [
             [
              0,
              "#0d0887"
             ],
             [
              0.1111111111111111,
              "#46039f"
             ],
             [
              0.2222222222222222,
              "#7201a8"
             ],
             [
              0.3333333333333333,
              "#9c179e"
             ],
             [
              0.4444444444444444,
              "#bd3786"
             ],
             [
              0.5555555555555556,
              "#d8576b"
             ],
             [
              0.6666666666666666,
              "#ed7953"
             ],
             [
              0.7777777777777778,
              "#fb9f3a"
             ],
             [
              0.8888888888888888,
              "#fdca26"
             ],
             [
              1,
              "#f0f921"
             ]
            ],
            "type": "surface"
           }
          ],
          "table": [
           {
            "cells": {
             "fill": {
              "color": "#EBF0F8"
             },
             "line": {
              "color": "white"
             }
            },
            "header": {
             "fill": {
              "color": "#C8D4E3"
             },
             "line": {
              "color": "white"
             }
            },
            "type": "table"
           }
          ]
         },
         "layout": {
          "annotationdefaults": {
           "arrowcolor": "#2a3f5f",
           "arrowhead": 0,
           "arrowwidth": 1
          },
          "autotypenumbers": "strict",
          "coloraxis": {
           "colorbar": {
            "outlinewidth": 0,
            "ticks": ""
           }
          },
          "colorscale": {
           "diverging": [
            [
             0,
             "#8e0152"
            ],
            [
             0.1,
             "#c51b7d"
            ],
            [
             0.2,
             "#de77ae"
            ],
            [
             0.3,
             "#f1b6da"
            ],
            [
             0.4,
             "#fde0ef"
            ],
            [
             0.5,
             "#f7f7f7"
            ],
            [
             0.6,
             "#e6f5d0"
            ],
            [
             0.7,
             "#b8e186"
            ],
            [
             0.8,
             "#7fbc41"
            ],
            [
             0.9,
             "#4d9221"
            ],
            [
             1,
             "#276419"
            ]
           ],
           "sequential": [
            [
             0,
             "#0d0887"
            ],
            [
             0.1111111111111111,
             "#46039f"
            ],
            [
             0.2222222222222222,
             "#7201a8"
            ],
            [
             0.3333333333333333,
             "#9c179e"
            ],
            [
             0.4444444444444444,
             "#bd3786"
            ],
            [
             0.5555555555555556,
             "#d8576b"
            ],
            [
             0.6666666666666666,
             "#ed7953"
            ],
            [
             0.7777777777777778,
             "#fb9f3a"
            ],
            [
             0.8888888888888888,
             "#fdca26"
            ],
            [
             1,
             "#f0f921"
            ]
           ],
           "sequentialminus": [
            [
             0,
             "#0d0887"
            ],
            [
             0.1111111111111111,
             "#46039f"
            ],
            [
             0.2222222222222222,
             "#7201a8"
            ],
            [
             0.3333333333333333,
             "#9c179e"
            ],
            [
             0.4444444444444444,
             "#bd3786"
            ],
            [
             0.5555555555555556,
             "#d8576b"
            ],
            [
             0.6666666666666666,
             "#ed7953"
            ],
            [
             0.7777777777777778,
             "#fb9f3a"
            ],
            [
             0.8888888888888888,
             "#fdca26"
            ],
            [
             1,
             "#f0f921"
            ]
           ]
          },
          "colorway": [
           "#636efa",
           "#EF553B",
           "#00cc96",
           "#ab63fa",
           "#FFA15A",
           "#19d3f3",
           "#FF6692",
           "#B6E880",
           "#FF97FF",
           "#FECB52"
          ],
          "font": {
           "color": "#2a3f5f"
          },
          "geo": {
           "bgcolor": "white",
           "lakecolor": "white",
           "landcolor": "#E5ECF6",
           "showlakes": true,
           "showland": true,
           "subunitcolor": "white"
          },
          "hoverlabel": {
           "align": "left"
          },
          "hovermode": "closest",
          "mapbox": {
           "style": "light"
          },
          "paper_bgcolor": "white",
          "plot_bgcolor": "#E5ECF6",
          "polar": {
           "angularaxis": {
            "gridcolor": "white",
            "linecolor": "white",
            "ticks": ""
           },
           "bgcolor": "#E5ECF6",
           "radialaxis": {
            "gridcolor": "white",
            "linecolor": "white",
            "ticks": ""
           }
          },
          "scene": {
           "xaxis": {
            "backgroundcolor": "#E5ECF6",
            "gridcolor": "white",
            "gridwidth": 2,
            "linecolor": "white",
            "showbackground": true,
            "ticks": "",
            "zerolinecolor": "white"
           },
           "yaxis": {
            "backgroundcolor": "#E5ECF6",
            "gridcolor": "white",
            "gridwidth": 2,
            "linecolor": "white",
            "showbackground": true,
            "ticks": "",
            "zerolinecolor": "white"
           },
           "zaxis": {
            "backgroundcolor": "#E5ECF6",
            "gridcolor": "white",
            "gridwidth": 2,
            "linecolor": "white",
            "showbackground": true,
            "ticks": "",
            "zerolinecolor": "white"
           }
          },
          "shapedefaults": {
           "line": {
            "color": "#2a3f5f"
           }
          },
          "ternary": {
           "aaxis": {
            "gridcolor": "white",
            "linecolor": "white",
            "ticks": ""
           },
           "baxis": {
            "gridcolor": "white",
            "linecolor": "white",
            "ticks": ""
           },
           "bgcolor": "#E5ECF6",
           "caxis": {
            "gridcolor": "white",
            "linecolor": "white",
            "ticks": ""
           }
          },
          "title": {
           "x": 0.05
          },
          "xaxis": {
           "automargin": true,
           "gridcolor": "white",
           "linecolor": "white",
           "ticks": "",
           "title": {
            "standoff": 15
           },
           "zerolinecolor": "white",
           "zerolinewidth": 2
          },
          "yaxis": {
           "automargin": true,
           "gridcolor": "white",
           "linecolor": "white",
           "ticks": "",
           "title": {
            "standoff": 15
           },
           "zerolinecolor": "white",
           "zerolinewidth": 2
          }
         }
        },
        "title": {
         "text": "District: ÉVORA, Month: 1, Group: Segurança e Serviços"
        },
        "xaxis": {
         "tickfont": {
          "size": 14
         }
        },
        "yaxis": {
         "tickfont": {
          "size": 14
         },
         "title": {
          "font": {
           "size": 16
          },
          "text": "Values"
         }
        }
       }
      }
     },
     "metadata": {},
     "output_type": "display_data"
    },
    {
     "data": {
      "application/vnd.plotly.v1+json": {
       "config": {
        "plotlyServerURL": "https://plot.ly"
       },
       "data": [
        {
         "marker": {
          "color": "rgb(55, 83, 109)"
         },
         "name": "NumeroOperacionaisTerrestresEnvolvidos",
         "type": "bar",
         "x": [
          "Max",
          "Mean",
          "Min"
         ],
         "y": [
          9,
          4.666666666666667,
          2
         ]
        },
        {
         "marker": {
          "color": "rgb(26, 118, 255)"
         },
         "name": "NumeroMeiosTerrestresEnvolvidos",
         "type": "bar",
         "x": [
          "Max",
          "Mean",
          "Min"
         ],
         "y": [
          3,
          1.8666666666666667,
          1
         ]
        }
       ],
       "layout": {
        "bargap": 0.15,
        "bargroupgap": 0.1,
        "barmode": "group",
        "legend": {
         "bgcolor": "rgba(255, 255, 255, 0)",
         "bordercolor": "rgba(255, 255, 255, 0)",
         "x": 0,
         "y": 1
        },
        "template": {
         "data": {
          "bar": [
           {
            "error_x": {
             "color": "#2a3f5f"
            },
            "error_y": {
             "color": "#2a3f5f"
            },
            "marker": {
             "line": {
              "color": "#E5ECF6",
              "width": 0.5
             },
             "pattern": {
              "fillmode": "overlay",
              "size": 10,
              "solidity": 0.2
             }
            },
            "type": "bar"
           }
          ],
          "barpolar": [
           {
            "marker": {
             "line": {
              "color": "#E5ECF6",
              "width": 0.5
             },
             "pattern": {
              "fillmode": "overlay",
              "size": 10,
              "solidity": 0.2
             }
            },
            "type": "barpolar"
           }
          ],
          "carpet": [
           {
            "aaxis": {
             "endlinecolor": "#2a3f5f",
             "gridcolor": "white",
             "linecolor": "white",
             "minorgridcolor": "white",
             "startlinecolor": "#2a3f5f"
            },
            "baxis": {
             "endlinecolor": "#2a3f5f",
             "gridcolor": "white",
             "linecolor": "white",
             "minorgridcolor": "white",
             "startlinecolor": "#2a3f5f"
            },
            "type": "carpet"
           }
          ],
          "choropleth": [
           {
            "colorbar": {
             "outlinewidth": 0,
             "ticks": ""
            },
            "type": "choropleth"
           }
          ],
          "contour": [
           {
            "colorbar": {
             "outlinewidth": 0,
             "ticks": ""
            },
            "colorscale": [
             [
              0,
              "#0d0887"
             ],
             [
              0.1111111111111111,
              "#46039f"
             ],
             [
              0.2222222222222222,
              "#7201a8"
             ],
             [
              0.3333333333333333,
              "#9c179e"
             ],
             [
              0.4444444444444444,
              "#bd3786"
             ],
             [
              0.5555555555555556,
              "#d8576b"
             ],
             [
              0.6666666666666666,
              "#ed7953"
             ],
             [
              0.7777777777777778,
              "#fb9f3a"
             ],
             [
              0.8888888888888888,
              "#fdca26"
             ],
             [
              1,
              "#f0f921"
             ]
            ],
            "type": "contour"
           }
          ],
          "contourcarpet": [
           {
            "colorbar": {
             "outlinewidth": 0,
             "ticks": ""
            },
            "type": "contourcarpet"
           }
          ],
          "heatmap": [
           {
            "colorbar": {
             "outlinewidth": 0,
             "ticks": ""
            },
            "colorscale": [
             [
              0,
              "#0d0887"
             ],
             [
              0.1111111111111111,
              "#46039f"
             ],
             [
              0.2222222222222222,
              "#7201a8"
             ],
             [
              0.3333333333333333,
              "#9c179e"
             ],
             [
              0.4444444444444444,
              "#bd3786"
             ],
             [
              0.5555555555555556,
              "#d8576b"
             ],
             [
              0.6666666666666666,
              "#ed7953"
             ],
             [
              0.7777777777777778,
              "#fb9f3a"
             ],
             [
              0.8888888888888888,
              "#fdca26"
             ],
             [
              1,
              "#f0f921"
             ]
            ],
            "type": "heatmap"
           }
          ],
          "heatmapgl": [
           {
            "colorbar": {
             "outlinewidth": 0,
             "ticks": ""
            },
            "colorscale": [
             [
              0,
              "#0d0887"
             ],
             [
              0.1111111111111111,
              "#46039f"
             ],
             [
              0.2222222222222222,
              "#7201a8"
             ],
             [
              0.3333333333333333,
              "#9c179e"
             ],
             [
              0.4444444444444444,
              "#bd3786"
             ],
             [
              0.5555555555555556,
              "#d8576b"
             ],
             [
              0.6666666666666666,
              "#ed7953"
             ],
             [
              0.7777777777777778,
              "#fb9f3a"
             ],
             [
              0.8888888888888888,
              "#fdca26"
             ],
             [
              1,
              "#f0f921"
             ]
            ],
            "type": "heatmapgl"
           }
          ],
          "histogram": [
           {
            "marker": {
             "pattern": {
              "fillmode": "overlay",
              "size": 10,
              "solidity": 0.2
             }
            },
            "type": "histogram"
           }
          ],
          "histogram2d": [
           {
            "colorbar": {
             "outlinewidth": 0,
             "ticks": ""
            },
            "colorscale": [
             [
              0,
              "#0d0887"
             ],
             [
              0.1111111111111111,
              "#46039f"
             ],
             [
              0.2222222222222222,
              "#7201a8"
             ],
             [
              0.3333333333333333,
              "#9c179e"
             ],
             [
              0.4444444444444444,
              "#bd3786"
             ],
             [
              0.5555555555555556,
              "#d8576b"
             ],
             [
              0.6666666666666666,
              "#ed7953"
             ],
             [
              0.7777777777777778,
              "#fb9f3a"
             ],
             [
              0.8888888888888888,
              "#fdca26"
             ],
             [
              1,
              "#f0f921"
             ]
            ],
            "type": "histogram2d"
           }
          ],
          "histogram2dcontour": [
           {
            "colorbar": {
             "outlinewidth": 0,
             "ticks": ""
            },
            "colorscale": [
             [
              0,
              "#0d0887"
             ],
             [
              0.1111111111111111,
              "#46039f"
             ],
             [
              0.2222222222222222,
              "#7201a8"
             ],
             [
              0.3333333333333333,
              "#9c179e"
             ],
             [
              0.4444444444444444,
              "#bd3786"
             ],
             [
              0.5555555555555556,
              "#d8576b"
             ],
             [
              0.6666666666666666,
              "#ed7953"
             ],
             [
              0.7777777777777778,
              "#fb9f3a"
             ],
             [
              0.8888888888888888,
              "#fdca26"
             ],
             [
              1,
              "#f0f921"
             ]
            ],
            "type": "histogram2dcontour"
           }
          ],
          "mesh3d": [
           {
            "colorbar": {
             "outlinewidth": 0,
             "ticks": ""
            },
            "type": "mesh3d"
           }
          ],
          "parcoords": [
           {
            "line": {
             "colorbar": {
              "outlinewidth": 0,
              "ticks": ""
             }
            },
            "type": "parcoords"
           }
          ],
          "pie": [
           {
            "automargin": true,
            "type": "pie"
           }
          ],
          "scatter": [
           {
            "fillpattern": {
             "fillmode": "overlay",
             "size": 10,
             "solidity": 0.2
            },
            "type": "scatter"
           }
          ],
          "scatter3d": [
           {
            "line": {
             "colorbar": {
              "outlinewidth": 0,
              "ticks": ""
             }
            },
            "marker": {
             "colorbar": {
              "outlinewidth": 0,
              "ticks": ""
             }
            },
            "type": "scatter3d"
           }
          ],
          "scattercarpet": [
           {
            "marker": {
             "colorbar": {
              "outlinewidth": 0,
              "ticks": ""
             }
            },
            "type": "scattercarpet"
           }
          ],
          "scattergeo": [
           {
            "marker": {
             "colorbar": {
              "outlinewidth": 0,
              "ticks": ""
             }
            },
            "type": "scattergeo"
           }
          ],
          "scattergl": [
           {
            "marker": {
             "colorbar": {
              "outlinewidth": 0,
              "ticks": ""
             }
            },
            "type": "scattergl"
           }
          ],
          "scattermapbox": [
           {
            "marker": {
             "colorbar": {
              "outlinewidth": 0,
              "ticks": ""
             }
            },
            "type": "scattermapbox"
           }
          ],
          "scatterpolar": [
           {
            "marker": {
             "colorbar": {
              "outlinewidth": 0,
              "ticks": ""
             }
            },
            "type": "scatterpolar"
           }
          ],
          "scatterpolargl": [
           {
            "marker": {
             "colorbar": {
              "outlinewidth": 0,
              "ticks": ""
             }
            },
            "type": "scatterpolargl"
           }
          ],
          "scatterternary": [
           {
            "marker": {
             "colorbar": {
              "outlinewidth": 0,
              "ticks": ""
             }
            },
            "type": "scatterternary"
           }
          ],
          "surface": [
           {
            "colorbar": {
             "outlinewidth": 0,
             "ticks": ""
            },
            "colorscale": [
             [
              0,
              "#0d0887"
             ],
             [
              0.1111111111111111,
              "#46039f"
             ],
             [
              0.2222222222222222,
              "#7201a8"
             ],
             [
              0.3333333333333333,
              "#9c179e"
             ],
             [
              0.4444444444444444,
              "#bd3786"
             ],
             [
              0.5555555555555556,
              "#d8576b"
             ],
             [
              0.6666666666666666,
              "#ed7953"
             ],
             [
              0.7777777777777778,
              "#fb9f3a"
             ],
             [
              0.8888888888888888,
              "#fdca26"
             ],
             [
              1,
              "#f0f921"
             ]
            ],
            "type": "surface"
           }
          ],
          "table": [
           {
            "cells": {
             "fill": {
              "color": "#EBF0F8"
             },
             "line": {
              "color": "white"
             }
            },
            "header": {
             "fill": {
              "color": "#C8D4E3"
             },
             "line": {
              "color": "white"
             }
            },
            "type": "table"
           }
          ]
         },
         "layout": {
          "annotationdefaults": {
           "arrowcolor": "#2a3f5f",
           "arrowhead": 0,
           "arrowwidth": 1
          },
          "autotypenumbers": "strict",
          "coloraxis": {
           "colorbar": {
            "outlinewidth": 0,
            "ticks": ""
           }
          },
          "colorscale": {
           "diverging": [
            [
             0,
             "#8e0152"
            ],
            [
             0.1,
             "#c51b7d"
            ],
            [
             0.2,
             "#de77ae"
            ],
            [
             0.3,
             "#f1b6da"
            ],
            [
             0.4,
             "#fde0ef"
            ],
            [
             0.5,
             "#f7f7f7"
            ],
            [
             0.6,
             "#e6f5d0"
            ],
            [
             0.7,
             "#b8e186"
            ],
            [
             0.8,
             "#7fbc41"
            ],
            [
             0.9,
             "#4d9221"
            ],
            [
             1,
             "#276419"
            ]
           ],
           "sequential": [
            [
             0,
             "#0d0887"
            ],
            [
             0.1111111111111111,
             "#46039f"
            ],
            [
             0.2222222222222222,
             "#7201a8"
            ],
            [
             0.3333333333333333,
             "#9c179e"
            ],
            [
             0.4444444444444444,
             "#bd3786"
            ],
            [
             0.5555555555555556,
             "#d8576b"
            ],
            [
             0.6666666666666666,
             "#ed7953"
            ],
            [
             0.7777777777777778,
             "#fb9f3a"
            ],
            [
             0.8888888888888888,
             "#fdca26"
            ],
            [
             1,
             "#f0f921"
            ]
           ],
           "sequentialminus": [
            [
             0,
             "#0d0887"
            ],
            [
             0.1111111111111111,
             "#46039f"
            ],
            [
             0.2222222222222222,
             "#7201a8"
            ],
            [
             0.3333333333333333,
             "#9c179e"
            ],
            [
             0.4444444444444444,
             "#bd3786"
            ],
            [
             0.5555555555555556,
             "#d8576b"
            ],
            [
             0.6666666666666666,
             "#ed7953"
            ],
            [
             0.7777777777777778,
             "#fb9f3a"
            ],
            [
             0.8888888888888888,
             "#fdca26"
            ],
            [
             1,
             "#f0f921"
            ]
           ]
          },
          "colorway": [
           "#636efa",
           "#EF553B",
           "#00cc96",
           "#ab63fa",
           "#FFA15A",
           "#19d3f3",
           "#FF6692",
           "#B6E880",
           "#FF97FF",
           "#FECB52"
          ],
          "font": {
           "color": "#2a3f5f"
          },
          "geo": {
           "bgcolor": "white",
           "lakecolor": "white",
           "landcolor": "#E5ECF6",
           "showlakes": true,
           "showland": true,
           "subunitcolor": "white"
          },
          "hoverlabel": {
           "align": "left"
          },
          "hovermode": "closest",
          "mapbox": {
           "style": "light"
          },
          "paper_bgcolor": "white",
          "plot_bgcolor": "#E5ECF6",
          "polar": {
           "angularaxis": {
            "gridcolor": "white",
            "linecolor": "white",
            "ticks": ""
           },
           "bgcolor": "#E5ECF6",
           "radialaxis": {
            "gridcolor": "white",
            "linecolor": "white",
            "ticks": ""
           }
          },
          "scene": {
           "xaxis": {
            "backgroundcolor": "#E5ECF6",
            "gridcolor": "white",
            "gridwidth": 2,
            "linecolor": "white",
            "showbackground": true,
            "ticks": "",
            "zerolinecolor": "white"
           },
           "yaxis": {
            "backgroundcolor": "#E5ECF6",
            "gridcolor": "white",
            "gridwidth": 2,
            "linecolor": "white",
            "showbackground": true,
            "ticks": "",
            "zerolinecolor": "white"
           },
           "zaxis": {
            "backgroundcolor": "#E5ECF6",
            "gridcolor": "white",
            "gridwidth": 2,
            "linecolor": "white",
            "showbackground": true,
            "ticks": "",
            "zerolinecolor": "white"
           }
          },
          "shapedefaults": {
           "line": {
            "color": "#2a3f5f"
           }
          },
          "ternary": {
           "aaxis": {
            "gridcolor": "white",
            "linecolor": "white",
            "ticks": ""
           },
           "baxis": {
            "gridcolor": "white",
            "linecolor": "white",
            "ticks": ""
           },
           "bgcolor": "#E5ECF6",
           "caxis": {
            "gridcolor": "white",
            "linecolor": "white",
            "ticks": ""
           }
          },
          "title": {
           "x": 0.05
          },
          "xaxis": {
           "automargin": true,
           "gridcolor": "white",
           "linecolor": "white",
           "ticks": "",
           "title": {
            "standoff": 15
           },
           "zerolinecolor": "white",
           "zerolinewidth": 2
          },
          "yaxis": {
           "automargin": true,
           "gridcolor": "white",
           "linecolor": "white",
           "ticks": "",
           "title": {
            "standoff": 15
           },
           "zerolinecolor": "white",
           "zerolinewidth": 2
          }
         }
        },
        "title": {
         "text": "District: ÉVORA, Month: 7, Group: Segurança e Serviços"
        },
        "xaxis": {
         "tickfont": {
          "size": 14
         }
        },
        "yaxis": {
         "tickfont": {
          "size": 14
         },
         "title": {
          "font": {
           "size": 16
          },
          "text": "Values"
         }
        }
       }
      }
     },
     "metadata": {},
     "output_type": "display_data"
    },
    {
     "data": {
      "application/vnd.plotly.v1+json": {
       "config": {
        "plotlyServerURL": "https://plot.ly"
       },
       "data": [
        {
         "marker": {
          "color": "rgb(55, 83, 109)"
         },
         "name": "NumeroOperacionaisTerrestresEnvolvidos",
         "type": "bar",
         "x": [
          "Max",
          "Mean",
          "Min"
         ],
         "y": [
          13,
          5.6923076923076925,
          2
         ]
        },
        {
         "marker": {
          "color": "rgb(26, 118, 255)"
         },
         "name": "NumeroMeiosTerrestresEnvolvidos",
         "type": "bar",
         "x": [
          "Max",
          "Mean",
          "Min"
         ],
         "y": [
          4,
          2.5,
          1
         ]
        }
       ],
       "layout": {
        "bargap": 0.15,
        "bargroupgap": 0.1,
        "barmode": "group",
        "legend": {
         "bgcolor": "rgba(255, 255, 255, 0)",
         "bordercolor": "rgba(255, 255, 255, 0)",
         "x": 0,
         "y": 1
        },
        "template": {
         "data": {
          "bar": [
           {
            "error_x": {
             "color": "#2a3f5f"
            },
            "error_y": {
             "color": "#2a3f5f"
            },
            "marker": {
             "line": {
              "color": "#E5ECF6",
              "width": 0.5
             },
             "pattern": {
              "fillmode": "overlay",
              "size": 10,
              "solidity": 0.2
             }
            },
            "type": "bar"
           }
          ],
          "barpolar": [
           {
            "marker": {
             "line": {
              "color": "#E5ECF6",
              "width": 0.5
             },
             "pattern": {
              "fillmode": "overlay",
              "size": 10,
              "solidity": 0.2
             }
            },
            "type": "barpolar"
           }
          ],
          "carpet": [
           {
            "aaxis": {
             "endlinecolor": "#2a3f5f",
             "gridcolor": "white",
             "linecolor": "white",
             "minorgridcolor": "white",
             "startlinecolor": "#2a3f5f"
            },
            "baxis": {
             "endlinecolor": "#2a3f5f",
             "gridcolor": "white",
             "linecolor": "white",
             "minorgridcolor": "white",
             "startlinecolor": "#2a3f5f"
            },
            "type": "carpet"
           }
          ],
          "choropleth": [
           {
            "colorbar": {
             "outlinewidth": 0,
             "ticks": ""
            },
            "type": "choropleth"
           }
          ],
          "contour": [
           {
            "colorbar": {
             "outlinewidth": 0,
             "ticks": ""
            },
            "colorscale": [
             [
              0,
              "#0d0887"
             ],
             [
              0.1111111111111111,
              "#46039f"
             ],
             [
              0.2222222222222222,
              "#7201a8"
             ],
             [
              0.3333333333333333,
              "#9c179e"
             ],
             [
              0.4444444444444444,
              "#bd3786"
             ],
             [
              0.5555555555555556,
              "#d8576b"
             ],
             [
              0.6666666666666666,
              "#ed7953"
             ],
             [
              0.7777777777777778,
              "#fb9f3a"
             ],
             [
              0.8888888888888888,
              "#fdca26"
             ],
             [
              1,
              "#f0f921"
             ]
            ],
            "type": "contour"
           }
          ],
          "contourcarpet": [
           {
            "colorbar": {
             "outlinewidth": 0,
             "ticks": ""
            },
            "type": "contourcarpet"
           }
          ],
          "heatmap": [
           {
            "colorbar": {
             "outlinewidth": 0,
             "ticks": ""
            },
            "colorscale": [
             [
              0,
              "#0d0887"
             ],
             [
              0.1111111111111111,
              "#46039f"
             ],
             [
              0.2222222222222222,
              "#7201a8"
             ],
             [
              0.3333333333333333,
              "#9c179e"
             ],
             [
              0.4444444444444444,
              "#bd3786"
             ],
             [
              0.5555555555555556,
              "#d8576b"
             ],
             [
              0.6666666666666666,
              "#ed7953"
             ],
             [
              0.7777777777777778,
              "#fb9f3a"
             ],
             [
              0.8888888888888888,
              "#fdca26"
             ],
             [
              1,
              "#f0f921"
             ]
            ],
            "type": "heatmap"
           }
          ],
          "heatmapgl": [
           {
            "colorbar": {
             "outlinewidth": 0,
             "ticks": ""
            },
            "colorscale": [
             [
              0,
              "#0d0887"
             ],
             [
              0.1111111111111111,
              "#46039f"
             ],
             [
              0.2222222222222222,
              "#7201a8"
             ],
             [
              0.3333333333333333,
              "#9c179e"
             ],
             [
              0.4444444444444444,
              "#bd3786"
             ],
             [
              0.5555555555555556,
              "#d8576b"
             ],
             [
              0.6666666666666666,
              "#ed7953"
             ],
             [
              0.7777777777777778,
              "#fb9f3a"
             ],
             [
              0.8888888888888888,
              "#fdca26"
             ],
             [
              1,
              "#f0f921"
             ]
            ],
            "type": "heatmapgl"
           }
          ],
          "histogram": [
           {
            "marker": {
             "pattern": {
              "fillmode": "overlay",
              "size": 10,
              "solidity": 0.2
             }
            },
            "type": "histogram"
           }
          ],
          "histogram2d": [
           {
            "colorbar": {
             "outlinewidth": 0,
             "ticks": ""
            },
            "colorscale": [
             [
              0,
              "#0d0887"
             ],
             [
              0.1111111111111111,
              "#46039f"
             ],
             [
              0.2222222222222222,
              "#7201a8"
             ],
             [
              0.3333333333333333,
              "#9c179e"
             ],
             [
              0.4444444444444444,
              "#bd3786"
             ],
             [
              0.5555555555555556,
              "#d8576b"
             ],
             [
              0.6666666666666666,
              "#ed7953"
             ],
             [
              0.7777777777777778,
              "#fb9f3a"
             ],
             [
              0.8888888888888888,
              "#fdca26"
             ],
             [
              1,
              "#f0f921"
             ]
            ],
            "type": "histogram2d"
           }
          ],
          "histogram2dcontour": [
           {
            "colorbar": {
             "outlinewidth": 0,
             "ticks": ""
            },
            "colorscale": [
             [
              0,
              "#0d0887"
             ],
             [
              0.1111111111111111,
              "#46039f"
             ],
             [
              0.2222222222222222,
              "#7201a8"
             ],
             [
              0.3333333333333333,
              "#9c179e"
             ],
             [
              0.4444444444444444,
              "#bd3786"
             ],
             [
              0.5555555555555556,
              "#d8576b"
             ],
             [
              0.6666666666666666,
              "#ed7953"
             ],
             [
              0.7777777777777778,
              "#fb9f3a"
             ],
             [
              0.8888888888888888,
              "#fdca26"
             ],
             [
              1,
              "#f0f921"
             ]
            ],
            "type": "histogram2dcontour"
           }
          ],
          "mesh3d": [
           {
            "colorbar": {
             "outlinewidth": 0,
             "ticks": ""
            },
            "type": "mesh3d"
           }
          ],
          "parcoords": [
           {
            "line": {
             "colorbar": {
              "outlinewidth": 0,
              "ticks": ""
             }
            },
            "type": "parcoords"
           }
          ],
          "pie": [
           {
            "automargin": true,
            "type": "pie"
           }
          ],
          "scatter": [
           {
            "fillpattern": {
             "fillmode": "overlay",
             "size": 10,
             "solidity": 0.2
            },
            "type": "scatter"
           }
          ],
          "scatter3d": [
           {
            "line": {
             "colorbar": {
              "outlinewidth": 0,
              "ticks": ""
             }
            },
            "marker": {
             "colorbar": {
              "outlinewidth": 0,
              "ticks": ""
             }
            },
            "type": "scatter3d"
           }
          ],
          "scattercarpet": [
           {
            "marker": {
             "colorbar": {
              "outlinewidth": 0,
              "ticks": ""
             }
            },
            "type": "scattercarpet"
           }
          ],
          "scattergeo": [
           {
            "marker": {
             "colorbar": {
              "outlinewidth": 0,
              "ticks": ""
             }
            },
            "type": "scattergeo"
           }
          ],
          "scattergl": [
           {
            "marker": {
             "colorbar": {
              "outlinewidth": 0,
              "ticks": ""
             }
            },
            "type": "scattergl"
           }
          ],
          "scattermapbox": [
           {
            "marker": {
             "colorbar": {
              "outlinewidth": 0,
              "ticks": ""
             }
            },
            "type": "scattermapbox"
           }
          ],
          "scatterpolar": [
           {
            "marker": {
             "colorbar": {
              "outlinewidth": 0,
              "ticks": ""
             }
            },
            "type": "scatterpolar"
           }
          ],
          "scatterpolargl": [
           {
            "marker": {
             "colorbar": {
              "outlinewidth": 0,
              "ticks": ""
             }
            },
            "type": "scatterpolargl"
           }
          ],
          "scatterternary": [
           {
            "marker": {
             "colorbar": {
              "outlinewidth": 0,
              "ticks": ""
             }
            },
            "type": "scatterternary"
           }
          ],
          "surface": [
           {
            "colorbar": {
             "outlinewidth": 0,
             "ticks": ""
            },
            "colorscale": [
             [
              0,
              "#0d0887"
             ],
             [
              0.1111111111111111,
              "#46039f"
             ],
             [
              0.2222222222222222,
              "#7201a8"
             ],
             [
              0.3333333333333333,
              "#9c179e"
             ],
             [
              0.4444444444444444,
              "#bd3786"
             ],
             [
              0.5555555555555556,
              "#d8576b"
             ],
             [
              0.6666666666666666,
              "#ed7953"
             ],
             [
              0.7777777777777778,
              "#fb9f3a"
             ],
             [
              0.8888888888888888,
              "#fdca26"
             ],
             [
              1,
              "#f0f921"
             ]
            ],
            "type": "surface"
           }
          ],
          "table": [
           {
            "cells": {
             "fill": {
              "color": "#EBF0F8"
             },
             "line": {
              "color": "white"
             }
            },
            "header": {
             "fill": {
              "color": "#C8D4E3"
             },
             "line": {
              "color": "white"
             }
            },
            "type": "table"
           }
          ]
         },
         "layout": {
          "annotationdefaults": {
           "arrowcolor": "#2a3f5f",
           "arrowhead": 0,
           "arrowwidth": 1
          },
          "autotypenumbers": "strict",
          "coloraxis": {
           "colorbar": {
            "outlinewidth": 0,
            "ticks": ""
           }
          },
          "colorscale": {
           "diverging": [
            [
             0,
             "#8e0152"
            ],
            [
             0.1,
             "#c51b7d"
            ],
            [
             0.2,
             "#de77ae"
            ],
            [
             0.3,
             "#f1b6da"
            ],
            [
             0.4,
             "#fde0ef"
            ],
            [
             0.5,
             "#f7f7f7"
            ],
            [
             0.6,
             "#e6f5d0"
            ],
            [
             0.7,
             "#b8e186"
            ],
            [
             0.8,
             "#7fbc41"
            ],
            [
             0.9,
             "#4d9221"
            ],
            [
             1,
             "#276419"
            ]
           ],
           "sequential": [
            [
             0,
             "#0d0887"
            ],
            [
             0.1111111111111111,
             "#46039f"
            ],
            [
             0.2222222222222222,
             "#7201a8"
            ],
            [
             0.3333333333333333,
             "#9c179e"
            ],
            [
             0.4444444444444444,
             "#bd3786"
            ],
            [
             0.5555555555555556,
             "#d8576b"
            ],
            [
             0.6666666666666666,
             "#ed7953"
            ],
            [
             0.7777777777777778,
             "#fb9f3a"
            ],
            [
             0.8888888888888888,
             "#fdca26"
            ],
            [
             1,
             "#f0f921"
            ]
           ],
           "sequentialminus": [
            [
             0,
             "#0d0887"
            ],
            [
             0.1111111111111111,
             "#46039f"
            ],
            [
             0.2222222222222222,
             "#7201a8"
            ],
            [
             0.3333333333333333,
             "#9c179e"
            ],
            [
             0.4444444444444444,
             "#bd3786"
            ],
            [
             0.5555555555555556,
             "#d8576b"
            ],
            [
             0.6666666666666666,
             "#ed7953"
            ],
            [
             0.7777777777777778,
             "#fb9f3a"
            ],
            [
             0.8888888888888888,
             "#fdca26"
            ],
            [
             1,
             "#f0f921"
            ]
           ]
          },
          "colorway": [
           "#636efa",
           "#EF553B",
           "#00cc96",
           "#ab63fa",
           "#FFA15A",
           "#19d3f3",
           "#FF6692",
           "#B6E880",
           "#FF97FF",
           "#FECB52"
          ],
          "font": {
           "color": "#2a3f5f"
          },
          "geo": {
           "bgcolor": "white",
           "lakecolor": "white",
           "landcolor": "#E5ECF6",
           "showlakes": true,
           "showland": true,
           "subunitcolor": "white"
          },
          "hoverlabel": {
           "align": "left"
          },
          "hovermode": "closest",
          "mapbox": {
           "style": "light"
          },
          "paper_bgcolor": "white",
          "plot_bgcolor": "#E5ECF6",
          "polar": {
           "angularaxis": {
            "gridcolor": "white",
            "linecolor": "white",
            "ticks": ""
           },
           "bgcolor": "#E5ECF6",
           "radialaxis": {
            "gridcolor": "white",
            "linecolor": "white",
            "ticks": ""
           }
          },
          "scene": {
           "xaxis": {
            "backgroundcolor": "#E5ECF6",
            "gridcolor": "white",
            "gridwidth": 2,
            "linecolor": "white",
            "showbackground": true,
            "ticks": "",
            "zerolinecolor": "white"
           },
           "yaxis": {
            "backgroundcolor": "#E5ECF6",
            "gridcolor": "white",
            "gridwidth": 2,
            "linecolor": "white",
            "showbackground": true,
            "ticks": "",
            "zerolinecolor": "white"
           },
           "zaxis": {
            "backgroundcolor": "#E5ECF6",
            "gridcolor": "white",
            "gridwidth": 2,
            "linecolor": "white",
            "showbackground": true,
            "ticks": "",
            "zerolinecolor": "white"
           }
          },
          "shapedefaults": {
           "line": {
            "color": "#2a3f5f"
           }
          },
          "ternary": {
           "aaxis": {
            "gridcolor": "white",
            "linecolor": "white",
            "ticks": ""
           },
           "baxis": {
            "gridcolor": "white",
            "linecolor": "white",
            "ticks": ""
           },
           "bgcolor": "#E5ECF6",
           "caxis": {
            "gridcolor": "white",
            "linecolor": "white",
            "ticks": ""
           }
          },
          "title": {
           "x": 0.05
          },
          "xaxis": {
           "automargin": true,
           "gridcolor": "white",
           "linecolor": "white",
           "ticks": "",
           "title": {
            "standoff": 15
           },
           "zerolinecolor": "white",
           "zerolinewidth": 2
          },
          "yaxis": {
           "automargin": true,
           "gridcolor": "white",
           "linecolor": "white",
           "ticks": "",
           "title": {
            "standoff": 15
           },
           "zerolinecolor": "white",
           "zerolinewidth": 2
          }
         }
        },
        "title": {
         "text": "District: PORTO, Month: 7, Group: Segurança e Serviços"
        },
        "xaxis": {
         "tickfont": {
          "size": 14
         }
        },
        "yaxis": {
         "tickfont": {
          "size": 14
         },
         "title": {
          "font": {
           "size": 16
          },
          "text": "Values"
         }
        }
       }
      }
     },
     "metadata": {},
     "output_type": "display_data"
    }
   ],
   "source": [
    "import pandas as pd\n",
    "import plotly.graph_objects as go\n",
    "from ipywidgets import interact, Dropdown\n",
    "from IPython.display import clear_output\n",
    "\n",
    "# Assuming your dataframe is named 'df'\n",
    "\n",
    "# Create a function to generate a bar chart for the selected district, month, and group\n",
    "def create_chart(district, month, group):\n",
    "    temp_df = new_df[(new_df['Distrito'] == district) & (new_df['MesOcorrencia__'] == month) & (new_df['Group'] == group)]\n",
    "\n",
    "    fig = go.Figure()\n",
    "\n",
    "    fig.add_trace(go.Bar(\n",
    "        x=['Max', 'Mean', 'Min'],\n",
    "        y=temp_df[['NumeroOperacionaisTerrestresEnvolvidos_max_max', 'NumeroOperacionaisTerrestresEnvolvidos_max_mean', 'NumeroOperacionaisTerrestresEnvolvidos_max_min']].values[0],\n",
    "        name='NumeroOperacionaisTerrestresEnvolvidos',\n",
    "        marker_color='rgb(55, 83, 109)'\n",
    "    ))\n",
    "\n",
    "    fig.add_trace(go.Bar(\n",
    "        x=['Max', 'Mean', 'Min'],\n",
    "        y=temp_df[['NumeroMeiosTerrestresEnvolvidos_max_max', 'NumeroMeiosTerrestresEnvolvidos_max_mean', 'NumeroMeiosTerrestresEnvolvidos_max_min']].values[0],\n",
    "        name='NumeroMeiosTerrestresEnvolvidos',\n",
    "        marker_color='rgb(26, 118, 255)'\n",
    "    ))\n",
    "\n",
    "    fig.update_layout(\n",
    "        title=f'District: {district}, Month: {month}, Group: {group}',\n",
    "        xaxis_tickfont_size=14,\n",
    "        yaxis=dict(\n",
    "            title='Values',\n",
    "            titlefont_size=16,\n",
    "            tickfont_size=14,\n",
    "        ),\n",
    "        legend=dict(\n",
    "            x=0,\n",
    "            y=1.0,\n",
    "            bgcolor='rgba(255, 255, 255, 0)',\n",
    "            bordercolor='rgba(255, 255, 255, 0)'\n",
    "        ),\n",
    "        barmode='group',\n",
    "        bargap=0.15,\n",
    "        bargroupgap=0.1\n",
    "    )\n",
    "\n",
    "    return fig\n",
    "\n",
    "# Create the interactive dropdown menu\n",
    "districts = new_df['Distrito'].unique()\n",
    "months = new_df['MesOcorrencia__'].unique()\n",
    "groups = new_df['Group'].unique()\n",
    "\n",
    "dropdown_district = Dropdown(options=districts, value=districts[0], description='Distrito:')\n",
    "dropdown_month = Dropdown(options=months, value=months[0], description='MesOcorrencia__:')\n",
    "dropdown_group = Dropdown(options=groups, value=groups[0], description='Group:')\n",
    "\n",
    "# Create the interactive plot with the dropdown menu\n",
    "@interact(district=dropdown_district, month=dropdown_month, group=dropdown_group)\n",
    "def update_chart(district, month, group):\n",
    "    clear_output(wait=True)  # Clear the previous plot\n",
    "    fig = create_chart(district, month, group)\n",
    "    fig.show()\n"
   ]
  },
  {
   "cell_type": "code",
   "execution_count": null,
   "metadata": {},
   "outputs": [],
   "source": []
  }
 ],
 "metadata": {
  "kernelspec": {
   "display_name": "base",
   "language": "python",
   "name": "python3"
  },
  "language_info": {
   "codemirror_mode": {
    "name": "ipython",
    "version": 3
   },
   "file_extension": ".py",
   "mimetype": "text/x-python",
   "name": "python",
   "nbconvert_exporter": "python",
   "pygments_lexer": "ipython3",
   "version": "3.8.8"
  },
  "orig_nbformat": 4
 },
 "nbformat": 4,
 "nbformat_minor": 2
}
